{
 "cells": [
  {
   "cell_type": "markdown",
   "metadata": {},
   "source": [
    "In this notebook, we extract significantly spatially varying genes and show them in three clusters."
   ]
  },
  {
   "cell_type": "markdown",
   "metadata": {},
   "source": [
    "Load relevant packages, including SpatialDE:"
   ]
  },
  {
   "cell_type": "code",
   "execution_count": 1,
   "metadata": {},
   "outputs": [],
   "source": [
    "import sys,os\n",
    "path = '/nfs/team283/aa16/InSituCellTools/'\n",
    "os.chdir(path)\n",
    "sys.path.append(path)"
   ]
  },
  {
   "cell_type": "code",
   "execution_count": 2,
   "metadata": {},
   "outputs": [
    {
     "name": "stdout",
     "output_type": "stream",
     "text": [
      "Populating the interactive namespace from numpy and matplotlib\n"
     ]
    }
   ],
   "source": [
    "%pylab inline\n",
    "import pandas as pd\n",
    "import NaiveDE\n",
    "import SpatialDE\n",
    "import statsmodels.stats.multitest as multi\n",
    "import scipy.stats as ss\n",
    "import pickle as pickle\n",
    "import scipy as sc\n",
    "import matplotlib\n",
    "matplotlib.rcParams['pdf.fonttype'] = 42\n",
    "matplotlib.rcParams['ps.fonttype'] = 42"
   ]
  },
  {
   "cell_type": "markdown",
   "metadata": {},
   "source": [
    "Load the data and remove negative probes for this analysis:"
   ]
  },
  {
   "cell_type": "code",
   "execution_count": 3,
   "metadata": {},
   "outputs": [],
   "source": [
    "adata = pickle.load(open('../KR_NAS/data/nanostringWTA_fetailBrain_AnnData.p',  \"rb\"))\n",
    "adata = adata[:,adata.var_names != 'NegProbe-WTX']"
   ]
  },
  {
   "cell_type": "markdown",
   "metadata": {},
   "source": [
    "Choose the data from 19pcw replicates at radial position 1 and 3:"
   ]
  },
  {
   "cell_type": "code",
   "execution_count": 4,
   "metadata": {},
   "outputs": [
    {
     "name": "stdout",
     "output_type": "stream",
     "text": [
      "10\n",
      "10\n",
      "10\n",
      "9\n",
      "10\n",
      "10\n"
     ]
    }
   ],
   "source": [
    "subset_19pcw = [adata.obs['Radial_position'][i] in (1,3) and\n",
    "                adata.obs['AOI_type'][i] == 'HOPXpos' and\n",
    "                adata.obs['age'][i] == '19pcw' and\n",
    "                adata.obs['slide'][i] == '00MU' for i in range(np.shape(adata.obs)[0])]\n",
    "print(np.sum(subset_19pcw))\n",
    "subset_14pcw = [adata.obs['Radial_position'][i] in (1,3) and\n",
    "                adata.obs['AOI_type'][i] == 'HOPXpos' and\n",
    "                adata.obs['age'][i] == '14pcw' and\n",
    "                adata.obs['slide'][i] == '00MW' for i in range(np.shape(adata.obs)[0])]\n",
    "print(np.sum(subset_14pcw))\n",
    "subset_19pcw_res = [adata.obs['Radial_position'][i] in (1,3) and\n",
    "                adata.obs['AOI_type'][i] == 'Residual' and\n",
    "                adata.obs['age'][i] == '19pcw' and\n",
    "                adata.obs['slide'][i] == '00MU' for i in range(np.shape(adata.obs)[0])]\n",
    "print(np.sum(subset_19pcw_res))\n",
    "subset_14pcw_res = [adata.obs['Radial_position'][i] in (1,3) and\n",
    "                adata.obs['AOI_type'][i] == 'Residual' and\n",
    "                adata.obs['age'][i] == '14pcw' and\n",
    "                adata.obs['slide'][i] == '00MW' for i in range(np.shape(adata.obs)[0])]\n",
    "print(np.sum(subset_14pcw_res))\n",
    "subset_19pcw_ring = [adata.obs['Radial_position'][i] in (1,3) and\n",
    "                adata.obs['AOI_type'][i] == 'Ring' and\n",
    "                adata.obs['age'][i] == '19pcw' and\n",
    "                adata.obs['slide'][i] == '00MU' for i in range(np.shape(adata.obs)[0])]\n",
    "print(np.sum(subset_19pcw_ring))\n",
    "subset_14pcw_ring = [adata.obs['Radial_position'][i] in (1,3) and\n",
    "                adata.obs['AOI_type'][i] == 'Ring' and\n",
    "                adata.obs['age'][i] == '14pcw' and\n",
    "                adata.obs['slide'][i] == '00MW' for i in range(np.shape(adata.obs)[0])]\n",
    "print(np.sum(subset_14pcw_ring))"
   ]
  },
  {
   "cell_type": "markdown",
   "metadata": {},
   "source": [
    "Reduce anndata to genes expressed in selected ROIs:"
   ]
  },
  {
   "cell_type": "code",
   "execution_count": 5,
   "metadata": {},
   "outputs": [],
   "source": [
    "adata_subset = adata[subset_19pcw, :]\n",
    "corrected_simple = [adata_subset.X[j,:] > adata_subset.obs['GeoLOD2.5_01'].iloc[j]\n",
    "                                    for j in range(len(adata_subset.obs['GeoLOD2.5_01']))]\n",
    "subset = np.sum(corrected_simple, axis = 0) > 3\n",
    "adata_19pcw = adata[:,subset]"
   ]
  },
  {
   "cell_type": "code",
   "execution_count": 6,
   "metadata": {},
   "outputs": [],
   "source": [
    "adata_subset = adata[subset_14pcw, :]\n",
    "corrected_simple = [adata_subset.X[j,:] > adata_subset.obs['GeoLOD2.5_01'].iloc[j]\n",
    "                                    for j in range(len(adata_subset.obs['GeoLOD2.5_01']))]\n",
    "subset = np.sum(corrected_simple, axis = 0) > 3\n",
    "adata_14pcw = adata[:,subset]"
   ]
  },
  {
   "cell_type": "markdown",
   "metadata": {},
   "source": [
    "Prepare data for spatialDE using both normal and corrected counts:"
   ]
  },
  {
   "cell_type": "code",
   "execution_count": 7,
   "metadata": {},
   "outputs": [
    {
     "ename": "ValueError",
     "evalue": "Value passed for key 'CPM' is of incorrect shape. Values of layers must match dimensions (0, 1) of parent. Value had shape (255, 18279) while it should have had (255, 4898).",
     "output_type": "error",
     "traceback": [
      "\u001b[0;31m---------------------------------------------------------------------------\u001b[0m",
      "\u001b[0;31mValueError\u001b[0m                                Traceback (most recent call last)",
      "\u001b[0;32m<ipython-input-7-cd45b50747e1>\u001b[0m in \u001b[0;36m<module>\u001b[0;34m\u001b[0m\n\u001b[1;32m     12\u001b[0m                    columns = adata_19pcw.var_names)\n\u001b[1;32m     13\u001b[0m \u001b[0minput_coordinates_19pcw\u001b[0m \u001b[0;34m=\u001b[0m \u001b[0madata_19pcw\u001b[0m\u001b[0;34m.\u001b[0m\u001b[0mobs\u001b[0m\u001b[0;34m.\u001b[0m\u001b[0mloc\u001b[0m\u001b[0;34m[\u001b[0m\u001b[0msubset_19pcw\u001b[0m\u001b[0;34m,\u001b[0m\u001b[0;34m(\u001b[0m\u001b[0;34m'Radial_position'\u001b[0m\u001b[0;34m,\u001b[0m \u001b[0;34m'VCDepth'\u001b[0m\u001b[0;34m)\u001b[0m\u001b[0;34m]\u001b[0m\u001b[0;34m.\u001b[0m\u001b[0mrename\u001b[0m\u001b[0;34m(\u001b[0m\u001b[0mcolumns\u001b[0m\u001b[0;34m=\u001b[0m\u001b[0;34m{\u001b[0m\u001b[0;34m\"Radial_position\"\u001b[0m\u001b[0;34m:\u001b[0m \u001b[0;34m\"x\"\u001b[0m\u001b[0;34m,\u001b[0m \u001b[0;34m\"VCDepth\"\u001b[0m\u001b[0;34m:\u001b[0m \u001b[0;34m\"y\"\u001b[0m\u001b[0;34m}\u001b[0m\u001b[0;34m)\u001b[0m\u001b[0;34m\u001b[0m\u001b[0;34m\u001b[0m\u001b[0m\n\u001b[0;32m---> 14\u001b[0;31m \u001b[0madata_19pcw\u001b[0m\u001b[0;34m.\u001b[0m\u001b[0mlayers\u001b[0m\u001b[0;34m[\u001b[0m\u001b[0;34m'CPM'\u001b[0m\u001b[0;34m]\u001b[0m \u001b[0;34m=\u001b[0m \u001b[0mnp\u001b[0m\u001b[0;34m.\u001b[0m\u001b[0masarray\u001b[0m\u001b[0;34m(\u001b[0m\u001b[0;34m[\u001b[0m\u001b[0madata\u001b[0m\u001b[0;34m.\u001b[0m\u001b[0mX\u001b[0m\u001b[0;34m[\u001b[0m\u001b[0mi\u001b[0m\u001b[0;34m,\u001b[0m\u001b[0;34m:\u001b[0m\u001b[0;34m]\u001b[0m\u001b[0;34m/\u001b[0m\u001b[0madata\u001b[0m\u001b[0;34m.\u001b[0m\u001b[0mobs\u001b[0m\u001b[0;34m[\u001b[0m\u001b[0;34m'TotalCounts'\u001b[0m\u001b[0;34m]\u001b[0m\u001b[0;34m[\u001b[0m\u001b[0mi\u001b[0m\u001b[0;34m]\u001b[0m \u001b[0;32mfor\u001b[0m \u001b[0mi\u001b[0m \u001b[0;32min\u001b[0m \u001b[0mrange\u001b[0m\u001b[0;34m(\u001b[0m\u001b[0mlen\u001b[0m\u001b[0;34m(\u001b[0m\u001b[0madata\u001b[0m\u001b[0;34m.\u001b[0m\u001b[0mobs\u001b[0m\u001b[0;34m[\u001b[0m\u001b[0;34m'TotalCounts'\u001b[0m\u001b[0;34m]\u001b[0m\u001b[0;34m)\u001b[0m\u001b[0;34m)\u001b[0m\u001b[0;34m]\u001b[0m\u001b[0;34m)\u001b[0m\u001b[0;34m*\u001b[0m\u001b[0;36m10\u001b[0m\u001b[0;34m**\u001b[0m\u001b[0;36m6\u001b[0m\u001b[0;34m\u001b[0m\u001b[0;34m\u001b[0m\u001b[0m\n\u001b[0m\u001b[1;32m     15\u001b[0m \u001b[0madata_19pcw\u001b[0m\u001b[0;34m.\u001b[0m\u001b[0mlayers\u001b[0m\u001b[0;34m[\u001b[0m\u001b[0;34m'CPM_corrected'\u001b[0m\u001b[0;34m]\u001b[0m \u001b[0;34m=\u001b[0m \u001b[0mnp\u001b[0m\u001b[0;34m.\u001b[0m\u001b[0masarray\u001b[0m\u001b[0;34m(\u001b[0m\u001b[0;34m[\u001b[0m\u001b[0madata\u001b[0m\u001b[0;34m.\u001b[0m\u001b[0mlayers\u001b[0m\u001b[0;34m[\u001b[0m\u001b[0;34m'X_Corrected_V2'\u001b[0m\u001b[0;34m]\u001b[0m\u001b[0;34m[\u001b[0m\u001b[0mi\u001b[0m\u001b[0;34m,\u001b[0m\u001b[0;34m:\u001b[0m\u001b[0;34m]\u001b[0m\u001b[0;34m/\u001b[0m\u001b[0madata\u001b[0m\u001b[0;34m.\u001b[0m\u001b[0mobs\u001b[0m\u001b[0;34m[\u001b[0m\u001b[0;34m'TotalCounts_corrected'\u001b[0m\u001b[0;34m]\u001b[0m\u001b[0;34m[\u001b[0m\u001b[0mi\u001b[0m\u001b[0;34m]\u001b[0m \u001b[0;32mfor\u001b[0m \u001b[0mi\u001b[0m \u001b[0;32min\u001b[0m \u001b[0mrange\u001b[0m\u001b[0;34m(\u001b[0m\u001b[0mlen\u001b[0m\u001b[0;34m(\u001b[0m\u001b[0madata_19pcw\u001b[0m\u001b[0;34m.\u001b[0m\u001b[0mobs\u001b[0m\u001b[0;34m[\u001b[0m\u001b[0;34m'TotalCounts_corrected'\u001b[0m\u001b[0;34m]\u001b[0m\u001b[0;34m)\u001b[0m\u001b[0;34m)\u001b[0m\u001b[0;34m]\u001b[0m\u001b[0;34m)\u001b[0m\u001b[0;34m*\u001b[0m\u001b[0;36m10\u001b[0m\u001b[0;34m**\u001b[0m\u001b[0;36m6\u001b[0m\u001b[0;34m\u001b[0m\u001b[0;34m\u001b[0m\u001b[0m\n\u001b[1;32m     16\u001b[0m \u001b[0madata_19pcw\u001b[0m\u001b[0;34m.\u001b[0m\u001b[0mlayers\u001b[0m\u001b[0;34m[\u001b[0m\u001b[0;34m'zscore_19pcw_corrected'\u001b[0m\u001b[0;34m]\u001b[0m \u001b[0;34m=\u001b[0m \u001b[0msc\u001b[0m\u001b[0;34m.\u001b[0m\u001b[0mstats\u001b[0m\u001b[0;34m.\u001b[0m\u001b[0mzscore\u001b[0m\u001b[0;34m(\u001b[0m\u001b[0mnp\u001b[0m\u001b[0;34m.\u001b[0m\u001b[0mlog2\u001b[0m\u001b[0;34m(\u001b[0m\u001b[0madata_19pcw\u001b[0m\u001b[0;34m.\u001b[0m\u001b[0mlayers\u001b[0m\u001b[0;34m[\u001b[0m\u001b[0;34m'CPM_corrected'\u001b[0m\u001b[0;34m]\u001b[0m\u001b[0;34m+\u001b[0m\u001b[0;36m1\u001b[0m\u001b[0;34m)\u001b[0m\u001b[0;34m,\u001b[0m \u001b[0maxis\u001b[0m \u001b[0;34m=\u001b[0m \u001b[0;36m0\u001b[0m\u001b[0;34m)\u001b[0m\u001b[0;34m\u001b[0m\u001b[0;34m\u001b[0m\u001b[0m\n",
      "\u001b[0;32m~/.local/lib/python3.7/site-packages/anndata/_core/aligned_mapping.py\u001b[0m in \u001b[0;36m__setitem__\u001b[0;34m(self, key, value)\u001b[0m\n\u001b[1;32m    149\u001b[0m \u001b[0;34m\u001b[0m\u001b[0m\n\u001b[1;32m    150\u001b[0m     \u001b[0;32mdef\u001b[0m \u001b[0m__setitem__\u001b[0m\u001b[0;34m(\u001b[0m\u001b[0mself\u001b[0m\u001b[0;34m,\u001b[0m \u001b[0mkey\u001b[0m\u001b[0;34m:\u001b[0m \u001b[0mstr\u001b[0m\u001b[0;34m,\u001b[0m \u001b[0mvalue\u001b[0m\u001b[0;34m:\u001b[0m \u001b[0mV\u001b[0m\u001b[0;34m)\u001b[0m\u001b[0;34m:\u001b[0m\u001b[0;34m\u001b[0m\u001b[0;34m\u001b[0m\u001b[0m\n\u001b[0;32m--> 151\u001b[0;31m         \u001b[0mvalue\u001b[0m \u001b[0;34m=\u001b[0m \u001b[0mself\u001b[0m\u001b[0;34m.\u001b[0m\u001b[0m_validate_value\u001b[0m\u001b[0;34m(\u001b[0m\u001b[0mvalue\u001b[0m\u001b[0;34m,\u001b[0m \u001b[0mkey\u001b[0m\u001b[0;34m)\u001b[0m\u001b[0;34m\u001b[0m\u001b[0;34m\u001b[0m\u001b[0m\n\u001b[0m\u001b[1;32m    152\u001b[0m         \u001b[0mself\u001b[0m\u001b[0;34m.\u001b[0m\u001b[0m_data\u001b[0m\u001b[0;34m[\u001b[0m\u001b[0mkey\u001b[0m\u001b[0;34m]\u001b[0m \u001b[0;34m=\u001b[0m \u001b[0mvalue\u001b[0m\u001b[0;34m\u001b[0m\u001b[0;34m\u001b[0m\u001b[0m\n\u001b[1;32m    153\u001b[0m \u001b[0;34m\u001b[0m\u001b[0m\n",
      "\u001b[0;32m~/.local/lib/python3.7/site-packages/anndata/_core/aligned_mapping.py\u001b[0m in \u001b[0;36m_validate_value\u001b[0;34m(self, val, key)\u001b[0m\n\u001b[1;32m     51\u001b[0m                 \u001b[0mright_shape\u001b[0m \u001b[0;34m=\u001b[0m \u001b[0mtuple\u001b[0m\u001b[0;34m(\u001b[0m\u001b[0mself\u001b[0m\u001b[0;34m.\u001b[0m\u001b[0mparent\u001b[0m\u001b[0;34m.\u001b[0m\u001b[0mshape\u001b[0m\u001b[0;34m[\u001b[0m\u001b[0ma\u001b[0m\u001b[0;34m]\u001b[0m \u001b[0;32mfor\u001b[0m \u001b[0ma\u001b[0m \u001b[0;32min\u001b[0m \u001b[0mself\u001b[0m\u001b[0;34m.\u001b[0m\u001b[0maxes\u001b[0m\u001b[0;34m)\u001b[0m\u001b[0;34m\u001b[0m\u001b[0;34m\u001b[0m\u001b[0m\n\u001b[1;32m     52\u001b[0m                 raise ValueError(\n\u001b[0;32m---> 53\u001b[0;31m                     \u001b[0;34mf\"Value passed for key {key!r} is of incorrect shape. \"\u001b[0m\u001b[0;34m\u001b[0m\u001b[0;34m\u001b[0m\u001b[0m\n\u001b[0m\u001b[1;32m     54\u001b[0m                     \u001b[0;34mf\"Values of {self.attrname} must match dimensions \"\u001b[0m\u001b[0;34m\u001b[0m\u001b[0;34m\u001b[0m\u001b[0m\n\u001b[1;32m     55\u001b[0m                     \u001b[0;34mf\"{self.axes} of parent. Value had shape {val.shape} while \"\u001b[0m\u001b[0;34m\u001b[0m\u001b[0;34m\u001b[0m\u001b[0m\n",
      "\u001b[0;31mValueError\u001b[0m: Value passed for key 'CPM' is of incorrect shape. Values of layers must match dimensions (0, 1) of parent. Value had shape (255, 18279) while it should have had (255, 4898)."
     ]
    }
   ],
   "source": [
    "adata_19pcw.layers['Stabilized'] = NaiveDE.stabilize(adata_19pcw.X)\n",
    "adata_19pcw.obs['TotalCounts'] = np.sum(adata_19pcw.X, axis = 1)\n",
    "\n",
    "adata_19pcw.layers['TotalCountsRegressed'] = NaiveDE.regress_out(adata_19pcw.obs, adata_19pcw.layers['Stabilized'].T, 'np.log(TotalCounts)').T\n",
    "\n",
    "input_data_19pcw = pd.DataFrame(adata_19pcw.layers['TotalCountsRegressed'][subset_19pcw,:], index = adata_19pcw.obs['Sanger_sampleID'][subset_19pcw],\n",
    "                   columns = adata_19pcw.var_names)\n",
    "adata_19pcw.layers['Stabilized_corrected'] = NaiveDE.stabilize(adata_19pcw.layers['X_Corrected_V2'])\n",
    "adata_19pcw.obs['TotalCounts_corrected'] = np.sum(adata_19pcw.layers['X_Corrected_V2'], axis = 1)\n",
    "adata_19pcw.layers['TotalCountsRegressed_corrected'] = NaiveDE.regress_out(adata_19pcw.obs, adata_19pcw.layers['Stabilized_corrected'].T, 'np.log(TotalCounts_corrected)').T\n",
    "input_data_corrected_19pcw = pd.DataFrame(adata_19pcw.layers['TotalCountsRegressed_corrected'][subset_19pcw,:], index = adata_19pcw.obs['Sanger_sampleID'][subset_19pcw],\n",
    "                   columns = adata_19pcw.var_names)\n",
    "input_coordinates_19pcw = adata_19pcw.obs.loc[subset_19pcw,('Radial_position', 'VCDepth')].rename(columns={\"Radial_position\": \"x\", \"VCDepth\": \"y\"})\n",
    "adata_19pcw.layers['CPM'] = np.asarray([adata_19pcw.X[i,:]/adata_19pcw.obs['TotalCounts'][i] for i in range(len(adata_19pcw.obs['TotalCounts']))])*10**6\n",
    "adata_19pcw.layers['CPM_corrected'] = np.asarray([adata_19pcw.layers['X_Corrected_V2'][i,:]/adata_19pcw.obs['TotalCounts_corrected'][i] for i in range(len(adata_19pcw.obs['TotalCounts_corrected']))])*10**6\n",
    "adata_19pcw.layers['zscore_19pcw_corrected'] = sc.stats.zscore(np.log2(adata_19pcw.layers['CPM_corrected']+1), axis = 0)\n",
    "adata_19pcw.layers['zscore_19pcw_corrected'][subset_19pcw,:] = sc.stats.zscore(np.log2(adata_19pcw.layers['CPM_corrected'][subset_19pcw,:]+1), axis = 0)"
   ]
  },
  {
   "cell_type": "code",
   "execution_count": null,
   "metadata": {},
   "outputs": [],
   "source": [
    "adata_14pcw.layers['Stabilized'] = NaiveDE.stabilize(adata_14pcw.X)\n",
    "adata_14pcw.obs['TotalCounts'] = np.sum(adata_14pcw.X, axis = 1)\n",
    "\n",
    "adata_14pcw.layers['TotalCountsRegressed'] = NaiveDE.regress_out(adata_14pcw.obs, adata_14pcw.layers['Stabilized'].T, 'np.log(TotalCounts)').T\n",
    "\n",
    "input_data_14pcw = pd.DataFrame(adata_14pcw.layers['TotalCountsRegressed'][subset_14pcw,:], index = adata_14pcw.obs['Sanger_sampleID'][subset_14pcw],\n",
    "                   columns = adata_14pcw.var_names)\n",
    "adata_14pcw.layers['Stabilized_corrected'] = NaiveDE.stabilize(adata_14pcw.layers['X_Corrected_V2'])\n",
    "adata_14pcw.obs['TotalCounts_corrected'] = np.sum(adata_14pcw.layers['X_Corrected_V2'], axis = 1)\n",
    "adata_14pcw.layers['TotalCountsRegressed_corrected'] = NaiveDE.regress_out(adata_14pcw.obs, adata_14pcw.layers['Stabilized_corrected'].T, 'np.log(TotalCounts_corrected)').T\n",
    "input_data_corrected_14pcw = pd.DataFrame(adata_14pcw.layers['TotalCountsRegressed_corrected'][subset_14pcw,:], index = adata_14pcw.obs['Sanger_sampleID'][subset_14pcw],\n",
    "                   columns = adata_14pcw.var_names)\n",
    "input_coordinates_14pcw = adata_14pcw.obs.loc[subset_14pcw,('Radial_position', 'VCDepth')].rename(columns={\"Radial_position\": \"x\", \"VCDepth\": \"y\"})\n",
    "adata_14pcw.layers['CPM'] = np.asarray([adata_14pcw.X[i,:]/adata_14pcw.obs['TotalCounts'][i] for i in range(len(adata_14pcw.obs['TotalCounts']))])*10**6\n",
    "adata_14pcw.layers['zscore_14pcw'] = sc.stats.zscore(np.log2(adata_14pcw.layers['CPM']+1), axis = 0)\n",
    "adata_14pcw.layers['CPM_corrected'] = np.asarray([adata_14pcw.layers['X_Corrected_V2'][i,:]/adata_14pcw.obs['TotalCounts_corrected'][i] for i in range(len(adata_14pcw.obs['TotalCounts_corrected']))])*10**6\n",
    "adata_14pcw.layers['zscore_14pcw_corrected'] = sc.stats.zscore(np.log2(adata_14pcw.layers['CPM_corrected']+1), axis = 0)\n",
    "adata_14pcw.layers['zscore_14pcw_corrected'][subset_14pcw,:] = sc.stats.zscore(np.log2(adata_14pcw.layers['CPM_corrected'][subset_14pcw,:]+1), axis = 0)"
   ]
  },
  {
   "cell_type": "code",
   "execution_count": null,
   "metadata": {},
   "outputs": [],
   "source": [
    "adata.layers['Stabilized'] = NaiveDE.stabilize(adata.X)\n",
    "adata.obs['TotalCounts'] = np.sum(adata.X, axis = 1)\n",
    "\n",
    "adata.layers['TotalCountsRegressed'] = NaiveDE.regress_out(adata.obs, adata.layers['Stabilized'].T, 'np.log(TotalCounts)').T\n",
    "\n",
    "adata.layers['Stabilized_corrected'] = NaiveDE.stabilize(adata.layers['X_Corrected_V2'])\n",
    "adata.obs['TotalCounts_corrected'] = np.sum(adata.layers['X_Corrected_V2'], axis = 1)\n",
    "adata.layers['TotalCountsRegressed_corrected'] = NaiveDE.regress_out(adata.obs, adata.layers['Stabilized_corrected'].T, 'np.log(TotalCounts_corrected)').T\n",
    "\n",
    "adata.layers['CPM'] = np.asarray([adata.X[i,:]/adata.obs['TotalCounts'][i] for i in range(len(adata.obs['TotalCounts']))])*10**6\n",
    "adata.layers['zscore_19pcw'] = sc.stats.zscore(np.log2(adata.layers['CPM']+1), axis = 0)\n",
    "adata.layers['CPM_corrected'] = np.asarray([adata.layers['X_Corrected_V2'][i,:]/adata.obs['TotalCounts_corrected'][i] for i in range(len(adata.obs['TotalCounts_corrected']))])*10**6\n",
    "adata.layers['zscore_corrected'] = sc.stats.zscore(np.log2(adata.layers['CPM_corrected']+1), axis = 0)\n",
    "adata.layers['zscore_corrected'][np.array(subset_19pcw_ring) + np.array(subset_14pcw_ring) + np.array(subset_14pcw) + np.array(subset_14pcw_res) + np.array(subset_19pcw) + np.array(subset_19pcw_res),:] = sc.stats.zscore(np.log2(adata.layers['CPM_corrected'][np.array(subset_19pcw_ring) + np.array(subset_14pcw_ring) + np.array(subset_14pcw) + np.array(subset_14pcw_res) + np.array(subset_19pcw) + np.array(subset_19pcw_res) ,:]+1), axis = 0)\n",
    "# adata.layers['zscore_14pcw_corrected'][subset_14pcw_res,:] = sc.stats.zscore(np.log2(adata.layers['CPM_corrected'][subset_14pcw_res,:]+1), axis = 0)\n",
    "# adata.layers['zscore_19pcw_corrected'][subset_19pcw_res,:] = sc.stats.zscore(np.log2(adata.layers['CPM_corrected'][subset_19pcw_res,:]+1), axis = 0)"
   ]
  },
  {
   "cell_type": "code",
   "execution_count": null,
   "metadata": {},
   "outputs": [],
   "source": [
    "adata_14pcw.layers['zscore_14pcw_corrected'][subset_14pcw_res,:] = sc.stats.zscore(np.log2(adata_14pcw.layers['CPM_corrected'][subset_14pcw_res,:]+1), axis = 0)\n",
    "adata_19pcw.layers['zscore_19pcw_corrected'][subset_19pcw_res,:] = sc.stats.zscore(np.log2(adata_19pcw.layers['CPM_corrected'][subset_19pcw_res,:]+1), axis = 0)"
   ]
  },
  {
   "cell_type": "markdown",
   "metadata": {},
   "source": [
    "Run spatialDE:"
   ]
  },
  {
   "cell_type": "code",
   "execution_count": null,
   "metadata": {},
   "outputs": [],
   "source": [
    "results_19pcw = SpatialDE.run(input_coordinates_19pcw, input_data_19pcw)\n",
    "results_corrected_19pcw = SpatialDE.run(input_coordinates_19pcw, input_data_corrected_19pcw)\n",
    "results_14pcw = SpatialDE.run(input_coordinates_14pcw, input_data_14pcw)\n",
    "results_corrected_14pcw = SpatialDE.run(input_coordinates_14pcw, input_data_corrected_14pcw)"
   ]
  },
  {
   "cell_type": "markdown",
   "metadata": {},
   "source": [
    "Get list of all spatially varying genes:"
   ]
  },
  {
   "cell_type": "code",
   "execution_count": null,
   "metadata": {},
   "outputs": [],
   "source": [
    "# threshold = 0.1\n",
    "# print('significance threshold (fdr/qval):', threshold)\n",
    "# results = results.sort_values('qval')\n",
    "# genes_ranked = np.array(results['g'])\n",
    "# genes_significant_fdr = genes_ranked[multi.multipletests(results['pval'], method = 'fdr_bh')[1] < threshold]\n",
    "# genes_significant_qval = genes_ranked[results['qval'] < 0.05]\n",
    "# print('genes significant (fdr):', len(genes_significant_fdr))\n",
    "# print('genes significant (qval):', len(genes_significant_qval))\n",
    "# overlap = sum([genes_significant_fdr[i] in genes_significant_qval for i in range(len(genes_significant_fdr))])/len(genes_significant_fdr)\n",
    "# print('overlap_fdr_qval:', overlap)\n",
    "# percent_significant_fdr = len(genes_significant_fdr)/len(genes_ranked)\n",
    "# percent_significant_qval = len(genes_significant_qval)/len(genes_ranked)\n",
    "# print('percent_significant_fdr:', percent_significant_fdr)\n",
    "# print('percent_significant_qval:', percent_significant_qval)\n",
    "# threshold = 0.1\n",
    "# print('significance threshold (fdr/qval):', threshold)\n",
    "# results = results.sort_values('qval')\n",
    "# genes_ranked = np.array(results_corrected['g'])\n",
    "# genes_significant_fdr = genes_ranked[multi.multipletests(results_corrected['pval'], method = 'fdr_bh')[1] < threshold]\n",
    "# genes_significant_qval = genes_ranked[results_corrected['qval'] < 0.05]\n",
    "# print('genes significant (fdr):', len(genes_significant_fdr))\n",
    "# print('genes significant (qval):', len(genes_significant_qval))\n",
    "# overlap = sum([genes_significant_fdr[i] in genes_significant_qval for i in range(len(genes_significant_fdr))])/len(genes_significant_fdr)\n",
    "# print('overlap_fdr_qval:', overlap)\n",
    "# percent_significant_fdr = len(genes_significant_fdr)/len(genes_ranked)\n",
    "# percent_significant_qval = len(genes_significant_qval)/len(genes_ranked)\n",
    "# print('percent_significant_fdr:', percent_significant_fdr)\n",
    "# print('percent_significant_qval:', percent_significant_qval)\n",
    "# np.intersect1d(results.sort_values('pval').iloc[0:100]['g'],\n",
    "#                 results_corrected.loc[results_corrected['pval'] < 0.05,:]['g'])"
   ]
  },
  {
   "cell_type": "code",
   "execution_count": null,
   "metadata": {},
   "outputs": [],
   "source": [
    "print(len(results_corrected_19pcw.loc[results_corrected_19pcw['pval'] < 0.05,:]['g']))\n",
    "print(len(results_corrected_14pcw.loc[results_corrected_14pcw['pval'] < 0.05,:]['g']))"
   ]
  },
  {
   "cell_type": "code",
   "execution_count": null,
   "metadata": {},
   "outputs": [],
   "source": [
    "genes_19pcw = np.array(results_corrected_19pcw.loc[results_corrected_19pcw['pval'] < 0.05,:]['g'])\n",
    "genes_14pcw = np.array(results_corrected_14pcw.loc[results_corrected_14pcw['pval'] < 0.05,:]['g'])"
   ]
  },
  {
   "cell_type": "code",
   "execution_count": null,
   "metadata": {},
   "outputs": [],
   "source": [
    "scaling = 5\n",
    "power = 3\n",
    "\n",
    "SMALL_SIZE = 18\n",
    "MEDIUM_SIZE = 18\n",
    "BIGGER_SIZE = 18\n",
    "\n",
    "plt.rc('font', size=SMALL_SIZE)          # controls default text sizes\n",
    "plt.rc('axes', titlesize=SMALL_SIZE)     # fontsize of the axes title\n",
    "plt.rc('axes', labelsize=MEDIUM_SIZE)    # fontsize of the x and y labels\n",
    "plt.rc('xtick', labelsize=SMALL_SIZE)    # fontsize of the tick labels\n",
    "plt.rc('ytick', labelsize=SMALL_SIZE)    # fontsize of the tick labels\n",
    "plt.rc('legend', fontsize=SMALL_SIZE)    # legend fontsize\n",
    "plt.rc('figure', titlesize=BIGGER_SIZE)  # fontsize of the figure title\n",
    "\n",
    "markers_genes = np.flipud(genes_14pcw)\n",
    "fig, ax = plt.subplots(1,6, figsize = (30,10))\n",
    "\n",
    "subset_list = [subset_14pcw, subset_14pcw_ring, subset_14pcw_res, subset_19pcw, subset_19pcw_ring, subset_19pcw_res]\n",
    "title_list = ['14pcw HOPXpos AOIs','14pcw Reference Ring', '14pcw Residuals',\n",
    "              '19pcw HOPXpos AOIs', '19pcw Reference Ring', '19pcw Residuals']\n",
    "colour_list = ['blue', 'lightblue', 'lightblue', 'red', 'salmon', 'salmon']\n",
    "\n",
    "for k in range(len(subset_list)):\n",
    "    genesForPlot = np.repeat(markers_genes,np.ceil(sum(subset_list[k])/2))\n",
    "    vcForPlot = np.array([adata.obs['VCDepth'].loc[subset_list[k]] for i in range(len(markers_genes))])\n",
    "    countsForPlot = np.array([adata.layers['zscore_corrected'][subset_list[k], adata.var_names == markers_genes[i]] for i in range(len(markers_genes))])\n",
    "    unique_vc = np.unique(np.round(vcForPlot,1))\n",
    "    newVCForPlot = np.empty((len(markers_genes),len(unique_vc)))\n",
    "    newCountsForPlot = np.empty((len(markers_genes),len(unique_vc)))\n",
    "    for i in range(len(markers_genes)):\n",
    "        for j in range(len(unique_vc)):\n",
    "            newVCForPlot[i,j] = np.mean(vcForPlot[i,np.round(vcForPlot,1)[i,:] == unique_vc[j]])\n",
    "            newCountsForPlot[i,j] = np.mean(countsForPlot[i,np.round(vcForPlot,1)[i,:] == unique_vc[j]])\n",
    "    newVCForPlot = newVCForPlot.flatten()\n",
    "    ax[k].scatter(newVCForPlot, genesForPlot, s=((-np.amin(newCountsForPlot) + newCountsForPlot)**power)*scaling,\n",
    "                  marker = 'o', facecolors = 'none',\n",
    "                  c = colour_list[k])\n",
    "    ax[k].set_xlabel('Cortical Depth')\n",
    "    ax[k].set_title(title_list[k])\n",
    "#make a legend:\n",
    "pws = [1,-2, -1,0, 1,2]\n",
    "for pw in pws:\n",
    "    plt.scatter([], [], s=0.1*scaling + ((-np.amin(newCountsForPlot) + pw)**power)*scaling, c=\"k\",label=str(pw))\n",
    "\n",
    "h, l = plt.gca().get_legend_handles_labels()\n",
    "lgd = plt.legend(h[1:], l[1:], labelspacing=1.2, title=\"z-score\", borderpad=1, \n",
    "            frameon=True, framealpha=0.6, edgecolor=\"k\", facecolor=\"w\", bbox_to_anchor=(1.55, 0.25))\n",
    "plt.tight_layout()\n",
    "plt.savefig('../KR_NAS/0_publication_figures/SupplementaryFigure_HOPXpos_spatialGenes_14pcw.pdf', bbox_extra_artists=(lgd,))"
   ]
  },
  {
   "cell_type": "code",
   "execution_count": null,
   "metadata": {},
   "outputs": [],
   "source": [
    "scaling = 5\n",
    "power = 3\n",
    "\n",
    "SMALL_SIZE = 18\n",
    "MEDIUM_SIZE = 18\n",
    "BIGGER_SIZE = 18\n",
    "\n",
    "plt.rc('font', size=SMALL_SIZE)          # controls default text sizes\n",
    "plt.rc('axes', titlesize=SMALL_SIZE)     # fontsize of the axes title\n",
    "plt.rc('axes', labelsize=MEDIUM_SIZE)    # fontsize of the x and y labels\n",
    "plt.rc('xtick', labelsize=SMALL_SIZE)    # fontsize of the tick labels\n",
    "plt.rc('ytick', labelsize=SMALL_SIZE)    # fontsize of the tick labels\n",
    "plt.rc('legend', fontsize=SMALL_SIZE)    # legend fontsize\n",
    "plt.rc('figure', titlesize=BIGGER_SIZE)  # fontsize of the figure title\n",
    "\n",
    "markers_genes = np.flipud(genes_19pcw)\n",
    "fig, ax = plt.subplots(1,6, figsize = (30,20))\n",
    "\n",
    "subset_list = [subset_19pcw, subset_19pcw_ring, subset_19pcw_res, subset_14pcw, subset_14pcw_ring, subset_14pcw_res]\n",
    "title_list = ['19pcw HOPXpos AOIs','19pcw Reference Ring', '19pcw Residuals',\n",
    "              '14pcw HOPXpos AOIs', '14pcw Reference Ring', '14pcw Residuals']\n",
    "colour_list = ['red', 'salmon', 'salmon', 'blue', 'lightblue', 'lightblue', ]\n",
    "\n",
    "for k in range(len(subset_list)):\n",
    "    genesForPlot = np.repeat(markers_genes,np.ceil(sum(subset_list[k])/2))\n",
    "    vcForPlot = np.array([adata.obs['VCDepth'].loc[subset_list[k]] for i in range(len(markers_genes))])\n",
    "    countsForPlot = np.array([adata.layers['zscore_corrected'][subset_list[k], adata.var_names == markers_genes[i]] for i in range(len(markers_genes))])\n",
    "    unique_vc = np.unique(np.round(vcForPlot,1))\n",
    "    newVCForPlot = np.empty((len(markers_genes),5))\n",
    "    newCountsForPlot = np.empty((len(markers_genes),5))\n",
    "    for i in range(len(markers_genes)):\n",
    "        for j in range(5):\n",
    "            newVCForPlot[i,j] = np.mean(vcForPlot[i,np.round(vcForPlot,1)[i,:] == unique_vc[j]])\n",
    "            newCountsForPlot[i,j] = np.mean(countsForPlot[i,np.round(vcForPlot,1)[i,:] == unique_vc[j]])\n",
    "    newVCForPlot = newVCForPlot.flatten()\n",
    "    ax[k].scatter(newVCForPlot, genesForPlot, s=((-np.amin(newCountsForPlot) + newCountsForPlot)**power)*scaling,\n",
    "                  marker = 'o', facecolors = 'none',\n",
    "                  c = colour_list[k])\n",
    "    ax[k].set_xlabel('Cortical Depth')\n",
    "    ax[k].set_title(title_list[k])\n",
    "#make a legend:\n",
    "pws = [1,-2, -1,0, 1,2]\n",
    "for pw in pws:\n",
    "    plt.scatter([], [], s=0.1*scaling + ((-np.amin(newCountsForPlot) + pw)**power)*scaling, c=\"k\",label=str(pw))\n",
    "\n",
    "h, l = plt.gca().get_legend_handles_labels()\n",
    "lgd = plt.legend(h[1:], l[1:], labelspacing=1.2, title=\"z-score\", borderpad=1, \n",
    "            frameon=True, framealpha=0.6, edgecolor=\"k\", facecolor=\"w\", bbox_to_anchor=(1.55, 0.25))\n",
    "plt.tight_layout()\n",
    "plt.savefig('../KR_NAS/0_publication_figures/SupplementaryFigure_HOPXpos_spatialGenes_19pcw.pdf', bbox_extra_artists=(lgd,))"
   ]
  },
  {
   "cell_type": "code",
   "execution_count": null,
   "metadata": {},
   "outputs": [],
   "source": []
  }
 ],
 "metadata": {
  "kernelspec": {
   "display_name": "Python (cellpymc)",
   "language": "python",
   "name": "cellpymc"
  },
  "language_info": {
   "codemirror_mode": {
    "name": "ipython",
    "version": 3
   },
   "file_extension": ".py",
   "mimetype": "text/x-python",
   "name": "python",
   "nbconvert_exporter": "python",
   "pygments_lexer": "ipython3",
   "version": "3.7.6"
  }
 },
 "nbformat": 4,
 "nbformat_minor": 4
}
