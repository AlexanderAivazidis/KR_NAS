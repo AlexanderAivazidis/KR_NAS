{
 "cells": [
  {
   "cell_type": "markdown",
   "metadata": {},
   "source": [
    "Do the cell type mapping with both standard and Nanostring version of cell2location."
   ]
  },
  {
   "cell_type": "markdown",
   "metadata": {},
   "source": [
    "Load libraries and data:"
   ]
  },
  {
   "cell_type": "code",
   "execution_count": 1,
   "metadata": {},
   "outputs": [],
   "source": [
    "import sys,os\n",
    "path = '/nfs/team283/aa16/KR_NAS/'\n",
    "os.chdir(path)\n",
    "sys.path.append(path)"
   ]
  },
  {
   "cell_type": "code",
   "execution_count": 2,
   "metadata": {},
   "outputs": [
    {
     "name": "stderr",
     "output_type": "stream",
     "text": [
      "/nfs/users/nfs_a/aa16/.local/lib/python3.7/site-packages/anndata/_core/anndata.py:21: FutureWarning: pandas.core.index is deprecated and will be removed in a future version.  The public classes are available in the top-level namespace.\n",
      "  from pandas.core.index import RangeIndex\n",
      "Can not use cuDNN on context None: Disabled by dnn.enabled flag\n",
      "Mapped name None to device cuda: Tesla V100-SXM2-32GB (0000:89:00.0)\n"
     ]
    }
   ],
   "source": [
    "import pickle\n",
    "import anndata\n",
    "import pandas as pd\n",
    "import numpy as np\n",
    "import matplotlib.pyplot as plt\n",
    "from IPython.display import Image\n",
    "data_type = 'float32'\n",
    "os.environ[\"THEANO_FLAGS\"] = 'device=cuda,floatX=' + data_type + ',force_device=True' + ',dnn.enabled=False'\n",
    "import isctools\n",
    "import matplotlib\n",
    "matplotlib.rcParams['pdf.fonttype'] = 42\n",
    "matplotlib.rcParams['ps.fonttype'] = 42"
   ]
  },
  {
   "cell_type": "code",
   "execution_count": 3,
   "metadata": {},
   "outputs": [],
   "source": [
    "adata_wta = pickle.load(open(path + \"data/nanostringWTA_fetailBrain_AnnData.p\", \"rb\" ))"
   ]
  },
  {
   "cell_type": "code",
   "execution_count": 4,
   "metadata": {},
   "outputs": [],
   "source": [
    "adata_wta = adata_wta[adata_wta.obs['GoodQuality'],:]"
   ]
  },
  {
   "cell_type": "code",
   "execution_count": 5,
   "metadata": {},
   "outputs": [],
   "source": [
    "meanExpression_sc = pd.read_csv(path + \"data/polioudakis2019_meanExpressionProfiles.csv\", index_col=0)"
   ]
  },
  {
   "cell_type": "markdown",
   "metadata": {},
   "source": [
    "Make sure we have the same genes in reference and spatial data:"
   ]
  },
  {
   "cell_type": "code",
   "execution_count": 6,
   "metadata": {},
   "outputs": [],
   "source": [
    "wta_genes = np.asarray(adata_wta.var_names)\n",
    "common_genes = [wta_genes[i] for i in range(len(wta_genes)) if wta_genes[i] in meanExpression_sc.index] \n",
    "adata_wta = adata_wta[:,[adata_wta.var_names[i] in common_genes + ['NegProbe-WTX'] for i in range(len(adata_wta.var_names))]]\n",
    "meanExpression_sc = meanExpression_sc.reindex(index = common_genes)"
   ]
  },
  {
   "cell_type": "markdown",
   "metadata": {},
   "source": [
    "Fit each slide 00MU:"
   ]
  },
  {
   "cell_type": "code",
   "execution_count": 7,
   "metadata": {},
   "outputs": [],
   "source": [
    "adata_wta = adata_wta[[adata_wta.obs['slide'][i] == '00MU' for i in range(len(adata_wta.obs['slide']))]]"
   ]
  },
  {
   "cell_type": "code",
   "execution_count": 8,
   "metadata": {},
   "outputs": [],
   "source": [
    "counts_geneProbes = np.asarray(adata_wta[:,np.array(adata_wta.var != 'NegProbe-WTX').squeeze()].X)\n",
    "counts_negativeProbes = np.asarray(adata_wta[:,np.array(adata_wta.var =='NegProbe-WTX').squeeze()].X)\n",
    "counts_nuclei = np.asarray(adata_wta.obs['nuclei']).reshape(len(adata_wta.obs['nuclei']),1)\n",
    "\n",
    "celltypes = meanExpression_sc.keys()\n",
    "meanExpression_sc = np.asarray(meanExpression_sc)"
   ]
  },
  {
   "cell_type": "code",
   "execution_count": 9,
   "metadata": {},
   "outputs": [
    {
     "data": {
      "text/plain": [
       "Index(['End', 'ExDp1', 'ExDp2', 'ExM', 'ExM-U', 'ExN', 'InCGE', 'InMGE', 'IP',\n",
       "       'Mic', 'OPC', 'oRG', 'Per', 'PgG2M', 'PgS', 'vRG'],\n",
       "      dtype='object')"
      ]
     },
     "execution_count": 9,
     "metadata": {},
     "output_type": "execute_result"
    }
   ],
   "source": [
    "celltypes"
   ]
  },
  {
   "cell_type": "code",
   "execution_count": 10,
   "metadata": {},
   "outputs": [],
   "source": [
    "models = list()\n",
    "\n",
    "models.append(isctools.ProbeCounts_CoLocationModel_NegBinom(\n",
    "            cell_state_mat = meanExpression_sc,\n",
    "            X_data = counts_geneProbes,\n",
    "            data_type='float32',\n",
    "            n_iter=20000,\n",
    "            learning_rate=0.001,\n",
    "            fact_names=celltypes,\n",
    "            gene_level_prior={'mean': 1/2, 'sd': 1/8, 'mean_var_ratio': 0.25},\n",
    "            cell_number_prior={'cells_per_spot': counts_nuclei, 'factors_per_spot': 6, 'combs_per_spot': 50},\n",
    "            cell_number_var_prior={'cells_mean_var_ratio': 0.1, 'factors_mean_var_ratio': 1, 'combs_mean_var_ratio': 1}))\n",
    "\n",
    "models.append(isctools.ProbeCounts_CoLocationModel_Poisson(\n",
    "            cell_state_mat = meanExpression_sc,\n",
    "            X_data = counts_geneProbes,\n",
    "            Y_data = counts_negativeProbes,\n",
    "            data_type='float32',\n",
    "            n_iter=20000,\n",
    "            learning_rate=0.001,\n",
    "            fact_names=celltypes,\n",
    "            gene_level_prior={'mean': 1/2, 'sd': 1/8, 'mean_var_ratio': 0.25},\n",
    "            cell_number_prior={'cells_per_spot': counts_nuclei, 'factors_per_spot': 6, 'combs_per_spot': 50},\n",
    "            cell_number_var_prior={'cells_mean_var_ratio': 0.1, 'factors_mean_var_ratio': 1, 'combs_mean_var_ratio': 1}))\n"
   ]
  },
  {
   "cell_type": "code",
   "execution_count": null,
   "metadata": {},
   "outputs": [
    {
     "name": "stdout",
     "output_type": "stream",
     "text": [
      "0\n"
     ]
    },
    {
     "name": "stderr",
     "output_type": "stream",
     "text": [
      "Average Loss = inf: 100%|██████████| 50000/50000 [03:39<00:00, 228.25it/s]\n",
      "Finished [100%]: Average Loss = nan\n"
     ]
    },
    {
     "name": "stdout",
     "output_type": "stream",
     "text": [
      "[<matplotlib.lines.Line2D object at 0x151dc4d78e50>]\n"
     ]
    },
    {
     "name": "stderr",
     "output_type": "stream",
     "text": [
      "Average Loss = inf: 100%|██████████| 50000/50000 [03:43<00:00, 223.45it/s]\n",
      "Finished [100%]: Average Loss = nan\n"
     ]
    },
    {
     "name": "stdout",
     "output_type": "stream",
     "text": [
      "[<matplotlib.lines.Line2D object at 0x151dc4d50e50>]\n",
      "1\n"
     ]
    },
    {
     "name": "stderr",
     "output_type": "stream",
     "text": [
      "Average Loss = 5.8435e+06: 100%|██████████| 50000/50000 [03:28<00:00, 239.59it/s]\n",
      "Finished [100%]: Average Loss = 5.8435e+06\n"
     ]
    },
    {
     "name": "stdout",
     "output_type": "stream",
     "text": [
      "[<matplotlib.lines.Line2D object at 0x151da2319ed0>]\n"
     ]
    },
    {
     "name": "stderr",
     "output_type": "stream",
     "text": [
      "Average Loss = 5.8649e+06:  57%|█████▋    | 28652/50000 [01:56<01:26, 246.66it/s]"
     ]
    }
   ],
   "source": [
    "for i in range(2):\n",
    "    print(i)\n",
    "    models[i].fit_advi_iterative(n_iter = 50000, learning_rate = 0.001, n=2, method='advi')"
   ]
  },
  {
   "cell_type": "markdown",
   "metadata": {},
   "source": [
    "Plot history and stability:"
   ]
  },
  {
   "cell_type": "code",
   "execution_count": null,
   "metadata": {
    "scrolled": false
   },
   "outputs": [],
   "source": [
    "for i in range(2):\n",
    "    models[i].plot_history()\n",
    "    plt.show()\n",
    "    models[i].plot_history(25000)\n",
    "    plt.show()\n",
    "    models[i].evaluate_stability()\n",
    "    plt.show()"
   ]
  },
  {
   "cell_type": "markdown",
   "metadata": {},
   "source": [
    "Evaluate posterior and plot it vs data:"
   ]
  },
  {
   "cell_type": "code",
   "execution_count": null,
   "metadata": {},
   "outputs": [],
   "source": [
    "for i in range(2):\n",
    "    print(slides[i])\n",
    "    models[i].sample_posterior(node='all', n_samples=1000, save_samples=False);\n",
    "    isctools.ProbeCounts_CoLocationModel_Poisson.compute_expected(models[i])\n",
    "    models[i].plot_posterior_mu_vs_data()\n",
    "    plt.show()"
   ]
  },
  {
   "cell_type": "markdown",
   "metadata": {},
   "source": [
    "Calculate the spot factors:"
   ]
  },
  {
   "cell_type": "code",
   "execution_count": null,
   "metadata": {},
   "outputs": [],
   "source": [
    "for i in range(2):\n",
    "    models[i].sample2df(node_name='spot_factors')"
   ]
  },
  {
   "cell_type": "markdown",
   "metadata": {},
   "source": [
    "Save models just in case:"
   ]
  },
  {
   "cell_type": "code",
   "execution_count": null,
   "metadata": {},
   "outputs": [],
   "source": [
    "pickle.dump(models, file = open( \"0_publication_figures_scripts/models_Comparison.p\", \"wb\" ))"
   ]
  },
  {
   "cell_type": "markdown",
   "metadata": {},
   "source": [
    "Overview plot of the cell locations in the 19pcw and 14pcw samples:"
   ]
  },
  {
   "cell_type": "code",
   "execution_count": null,
   "metadata": {},
   "outputs": [],
   "source": [
    "subset_plot = list()\n",
    "for i in range(len(slides)):\n",
    "    subset_plot.append([adata_slide[i].obs['AOI_type'][j] == 'Geometric' and\n",
    "                        adata_slide[i].obs['Radial_position'][j] == 2 for j in range(len(adata_slide[i].obs['AOI_type']))])"
   ]
  },
  {
   "cell_type": "code",
   "execution_count": null,
   "metadata": {},
   "outputs": [],
   "source": [
    "i = 1\n",
    "j = 1\n",
    "models[i].spot_factors_df.iloc[:,j]"
   ]
  },
  {
   "cell_type": "markdown",
   "metadata": {},
   "source": [
    "We use the colour code that we use for all figures:"
   ]
  },
  {
   "cell_type": "code",
   "execution_count": null,
   "metadata": {},
   "outputs": [],
   "source": [
    "colourCode = pickle.load(open('../KR_NAS/0_publication_figures_scripts/celltypesColourCode.p',  \"rb\"))"
   ]
  },
  {
   "cell_type": "code",
   "execution_count": null,
   "metadata": {},
   "outputs": [],
   "source": [
    "SMALL_SIZE = 18\n",
    "MEDIUM_SIZE = 18\n",
    "BIGGER_SIZE = 18\n",
    "\n",
    "plt.rc('font', size=SMALL_SIZE)          # controls default text sizes\n",
    "plt.rc('axes', titlesize=SMALL_SIZE)     # fontsize of the axes title\n",
    "plt.rc('axes', labelsize=MEDIUM_SIZE)    # fontsize of the x and y labels\n",
    "plt.rc('xtick', labelsize=SMALL_SIZE)    # fontsize of the tick labels\n",
    "plt.rc('ytick', labelsize=SMALL_SIZE)    # fontsize of the tick labels\n",
    "plt.rc('legend', fontsize=SMALL_SIZE)    # legend fontsize\n",
    "plt.rc('figure', titlesize=BIGGER_SIZE)  # fontsize of the figure title\n",
    "\n",
    "scaling = 0.15\n",
    "power = 1\n",
    "\n",
    "labels = ('19pcw_void', '19pcw_1', '19pcw_2', '14pcw_1')\n",
    "\n",
    "for i in (1,2,3):\n",
    "    \n",
    "    celltypesForPlot = np.repeat(models[i].fact_names,sum(subset_plot[i]))\n",
    "    vcForPlot = np.array([adata_slide[i].obs['VCDepth'].loc[subset_plot[i]] for j in range(len(models[i].fact_names))]).flatten()\n",
    "    countsForPlot = np.array([models[i].spot_factors_df.iloc[:,j].loc[subset_plot[i]] for j in range(len(models[i].fact_names))])\n",
    "    coloursForPlot = np.array(colourCode.loc[np.array((celltypesForPlot)),'Colour'])\n",
    "    \n",
    "    cmap = matplotlib.cm.get_cmap('autumn')\n",
    "\n",
    "    plt.figure(figsize = (12,8))\n",
    "    plt.scatter(vcForPlot, celltypesForPlot, s=((-np.amin(countsForPlot*scaling) + countsForPlot*scaling))**power,\n",
    "                c= coloursForPlot)\n",
    "\n",
    "    plt.xlabel('Cortical Depth')\n",
    "\n",
    "    # make a legend:\n",
    "    pws = [0,0,100,500,1000,3000,6000]\n",
    "    for pw in pws:\n",
    "        plt.scatter([], [], s=((-np.amin(countsForPlot*scaling) + pw*scaling))**power, c=\"black\",label=str(pw))\n",
    "\n",
    "    h, l = plt.gca().get_legend_handles_labels()\n",
    "    lgd = plt.legend(h[1:], l[1:], labelspacing=1.2, title=\"Total Number\", borderpad=1, \n",
    "                frameon=True, framealpha=0.6, edgecolor=\"k\", facecolor=\"w\", bbox_to_anchor=(1.55, 0.5))\n",
    "    plt.tight_layout()\n",
    "    plt.savefig('0_publication_figures/Figure3_CelltypeMap_TotalNumber_' + labels[i] + '.pdf')\n",
    "    "
   ]
  },
  {
   "cell_type": "markdown",
   "metadata": {},
   "source": [
    "Now make the same plot but with proportions:"
   ]
  },
  {
   "cell_type": "code",
   "execution_count": null,
   "metadata": {},
   "outputs": [],
   "source": [
    "SMALL_SIZE = 18\n",
    "MEDIUM_SIZE = 18\n",
    "BIGGER_SIZE = 18\n",
    "\n",
    "plt.rc('font', size=SMALL_SIZE)          # controls default text sizes\n",
    "plt.rc('axes', titlesize=SMALL_SIZE)     # fontsize of the axes title\n",
    "plt.rc('axes', labelsize=MEDIUM_SIZE)    # fontsize of the x and y labels\n",
    "plt.rc('xtick', labelsize=SMALL_SIZE)    # fontsize of the tick labels\n",
    "plt.rc('ytick', labelsize=SMALL_SIZE)    # fontsize of the tick labels\n",
    "plt.rc('legend', fontsize=SMALL_SIZE)    # legend fontsize\n",
    "plt.rc('figure', titlesize=BIGGER_SIZE)  # fontsize of the figure title\n",
    "\n",
    "scaling = 25\n",
    "power = 2\n",
    "\n",
    "labels = ('19pcw_void', '19pcw_1', '19pcw_2', '14pcw_1')\n",
    "\n",
    "for i in (1,2,3):\n",
    "    \n",
    "    celltypesForPlot = np.repeat(models[i].fact_names,sum(subset_plot[i]))\n",
    "    vcForPlot = np.array([adata_slide[i].obs['VCDepth'].loc[subset_plot[i]] for j in range(len(models[i].fact_names))]).flatten()\n",
    "    countsForPlot = np.array([models[i].spot_factors_df.iloc[:,j].loc[subset_plot[i]]/sum(models[i].spot_factors_df.iloc[:,j].loc[subset_plot[i]])\n",
    "                              for j in range(len(models[i].fact_names))])\n",
    "    coloursForPlot = np.array(colourCode.loc[np.array((celltypesForPlot)),'Colour'])\n",
    "    \n",
    "    cmap = matplotlib.cm.get_cmap('autumn')\n",
    "\n",
    "    plt.figure(figsize = (12,8))\n",
    "    plt.scatter(vcForPlot, celltypesForPlot, s=((-np.amin(countsForPlot*scaling) + countsForPlot*scaling))**power,\n",
    "                c= coloursForPlot)\n",
    "\n",
    "    plt.xlabel('Cortical Depth')\n",
    "\n",
    "    # make a legend:\n",
    "    pws = [0,0,0.1,0.25,0.5,0.75,1]\n",
    "    for pw in pws:\n",
    "        plt.scatter([], [], s=((-np.amin(countsForPlot*scaling) + pw*scaling))**power, c=\"black\",label=str(pw))\n",
    "\n",
    "    h, l = plt.gca().get_legend_handles_labels()\n",
    "    lgd = plt.legend(h[1:], l[1:], labelspacing=1.2, title=\"Proportion across \\n cortical depth\", borderpad=1, \n",
    "                frameon=True, framealpha=0.6, edgecolor=\"k\", facecolor=\"w\", bbox_to_anchor=(1.55, 0.5))\n",
    "    plt.tight_layout()\n",
    "    plt.savefig('0_publication_figures/Figure3_CelltypeMap_ProportionsAcrossCorticalDepth' + labels[i] + '.pdf')"
   ]
  },
  {
   "cell_type": "code",
   "execution_count": null,
   "metadata": {},
   "outputs": [],
   "source": []
  }
 ],
 "metadata": {
  "kernelspec": {
   "display_name": "Python 3",
   "language": "python",
   "name": "python3"
  },
  "language_info": {
   "codemirror_mode": {
    "name": "ipython",
    "version": 3
   },
   "file_extension": ".py",
   "mimetype": "text/x-python",
   "name": "python",
   "nbconvert_exporter": "python",
   "pygments_lexer": "ipython3",
   "version": "3.7.6"
  }
 },
 "nbformat": 4,
 "nbformat_minor": 4
}
