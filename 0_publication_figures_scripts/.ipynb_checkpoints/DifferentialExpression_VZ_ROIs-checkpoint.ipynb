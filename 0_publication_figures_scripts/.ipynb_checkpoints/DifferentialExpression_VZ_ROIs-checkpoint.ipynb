{
 "cells": [
  {
   "cell_type": "markdown",
   "metadata": {},
   "source": [
    "Initialize path to this github repository:"
   ]
  },
  {
   "cell_type": "code",
   "execution_count": 1,
   "metadata": {},
   "outputs": [],
   "source": [
    "import sys,os\n",
    "path = '/nfs/team283/aa16/InSituCellTools/'\n",
    "os.chdir(path)\n",
    "sys.path.append(path)"
   ]
  },
  {
   "cell_type": "markdown",
   "metadata": {},
   "source": [
    "Load the required modules and configure theano settings:"
   ]
  },
  {
   "cell_type": "code",
   "execution_count": 2,
   "metadata": {},
   "outputs": [
    {
     "name": "stderr",
     "output_type": "stream",
     "text": [
      "Can not use cuDNN on context None: Disabled by dnn.enabled flag\n",
      "Mapped name None to device cuda: Tesla V100-SXM2-32GB (0000:62:00.0)\n"
     ]
    }
   ],
   "source": [
    "import pickle\n",
    "import anndata\n",
    "import pandas as pd\n",
    "import numpy as np\n",
    "import scanpy as sc\n",
    "import matplotlib.pyplot as plt\n",
    "import seaborn as sns\n",
    "import diffxpy.api as de\n",
    "from IPython.display import Image\n",
    "import statsmodels.stats.multitest as multi\n",
    "data_type = 'float32'\n",
    "os.environ[\"THEANO_FLAGS\"] = 'device=cuda,floatX=' + data_type + ',force_device=True' + ',dnn.enabled=False'\n",
    "from isctools.ProbeCounts__GeneralModel_V1 import ProbeCounts_GeneralModel_V1\n",
    "import matplotlib\n",
    "matplotlib.rcParams['pdf.fonttype'] = 42\n",
    "matplotlib.rcParams['ps.fonttype'] = 42"
   ]
  },
  {
   "cell_type": "markdown",
   "metadata": {},
   "source": [
    "Load data from our NanostringWTA run:"
   ]
  },
  {
   "cell_type": "code",
   "execution_count": 3,
   "metadata": {},
   "outputs": [],
   "source": [
    "adata_wta = pickle.load(open(path + \"data/nanostringWTA_fetailBrain_AnnData.p\", \"rb\" ))"
   ]
  },
  {
   "cell_type": "code",
   "execution_count": 4,
   "metadata": {},
   "outputs": [],
   "source": [
    "adata_wta = adata_wta[adata_wta.obs['GoodQuality'],:]"
   ]
  },
  {
   "cell_type": "code",
   "execution_count": 27,
   "metadata": {},
   "outputs": [],
   "source": [
    "# Get our HOPXpos and EOMESpos AOIs (excluding HOPX AOIs in VZ):\n",
    "order_HOPX = np.where([adata_wta.obs['AOI_type'][i] == 'Geometric' and\n",
    "                       adata_wta.obs['Radial_position'][i] == 2 and\n",
    "                       adata_wta.obs['slide'][i] == '00MU'\n",
    "                       and adata_wta.obs['VCDepth'][i] < 0.075 for i in range(len(adata_wta.obs['Radial_position']))])[0]\n",
    "order_EOMES = np.where([adata_wta.obs['AOI_type'][i] == 'Geometric' and\n",
    "                       adata_wta.obs['Radial_position'][i] == 5 and\n",
    "                       adata_wta.obs['slide'][i] == '00MU'\n",
    "                       and adata_wta.obs['VCDepth'][i] < 0.06 for i in range(len(adata_wta.obs['Radial_position']))])[0]\n",
    "order = np.concatenate([order_HOPX, order_EOMES])"
   ]
  },
  {
   "cell_type": "code",
   "execution_count": 31,
   "metadata": {},
   "outputs": [
    {
     "data": {
      "text/plain": [
       "104    0.006107\n",
       "112    0.025954\n",
       "120    0.053435\n",
       "Name: VCDepth, dtype: float64"
      ]
     },
     "execution_count": 31,
     "metadata": {},
     "output_type": "execute_result"
    }
   ],
   "source": [
    "adata_wta.obs['VCDepth'].iloc[order_HOPX]"
   ]
  },
  {
   "cell_type": "code",
   "execution_count": 30,
   "metadata": {},
   "outputs": [
    {
     "data": {
      "text/plain": [
       "137    0.004802\n",
       "145    0.020169\n",
       "153    0.040978\n",
       "Name: VCDepth, dtype: float64"
      ]
     },
     "execution_count": 30,
     "metadata": {},
     "output_type": "execute_result"
    }
   ],
   "source": [
    "adata_wta.obs['VCDepth'].iloc[order_EOMES]"
   ]
  },
  {
   "cell_type": "code",
   "execution_count": 43,
   "metadata": {},
   "outputs": [
    {
     "ename": "AttributeError",
     "evalue": "module 'diffxpy.api.test' has no attribute 'rank'",
     "output_type": "error",
     "traceback": [
      "\u001b[0;31m---------------------------------------------------------------------------\u001b[0m",
      "\u001b[0;31mAttributeError\u001b[0m                            Traceback (most recent call last)",
      "\u001b[0;32m<ipython-input-43-bd7fcd006cf1>\u001b[0m in \u001b[0;36m<module>\u001b[0;34m\u001b[0m\n\u001b[1;32m     19\u001b[0m \u001b[0;31m# Perform differential expression with diffxpy for both cases:\u001b[0m\u001b[0;34m\u001b[0m\u001b[0;34m\u001b[0m\u001b[0;34m\u001b[0m\u001b[0m\n\u001b[1;32m     20\u001b[0m \u001b[0;34m\u001b[0m\u001b[0m\n\u001b[0;32m---> 21\u001b[0;31m test_rank_cpm = de.test.rank(\n\u001b[0m\u001b[1;32m     22\u001b[0m     \u001b[0mdata\u001b[0m\u001b[0;34m=\u001b[0m\u001b[0madata_cpm\u001b[0m\u001b[0;34m,\u001b[0m\u001b[0;34m\u001b[0m\u001b[0;34m\u001b[0m\u001b[0m\n\u001b[1;32m     23\u001b[0m     \u001b[0mgrouping\u001b[0m\u001b[0;34m=\u001b[0m\u001b[0;34m\"Cell Type\"\u001b[0m\u001b[0;34m,\u001b[0m\u001b[0;34m\u001b[0m\u001b[0;34m\u001b[0m\u001b[0m\n",
      "\u001b[0;31mAttributeError\u001b[0m: module 'diffxpy.api.test' has no attribute 'rank'"
     ]
    }
   ],
   "source": [
    "order = np.concatenate([order_HOPX, order_EOMES])\n",
    "\n",
    "# Get cpm for both corrected (isc_cpm) and uncorrected data (cpm):\n",
    "total_counts = np.sum(adata_wta.X, axis = 1)\n",
    "cpm = adata_wta.X/total_counts.reshape(np.shape(adata_wta.X)[0],1)*10**6\n",
    "isc_cpm = adata_wta.layers['X_Corrected_V2']/total_counts.reshape(np.shape(adata_wta.layers['X_Corrected_V2'])[0],1)*10**6\n",
    "\n",
    "# Put data into two AnnData objects:\n",
    "adata_cpm = adata = sc.AnnData(X=cpm[order],\n",
    "                               obs=pd.DataFrame(data = np.concatenate([np.repeat('HOPXpos', len(order_HOPX)),\n",
    "                                                                      np.repeat('EOMESpos', len(order_EOMES))]),\n",
    "                                                columns = ['Cell Type']))\n",
    "\n",
    "adata_isc_cpm = adata = sc.AnnData(X=isc_cpm[order],\n",
    "                               obs=pd.DataFrame(data = np.concatenate([np.repeat('HOPXpos', len(order_HOPX)),\n",
    "                                                                      np.repeat('EOMESpos', len(order_EOMES))]),\n",
    "                                                columns = ['Cell Type']))\n",
    "\n",
    "# Perform differential expression with diffxpy for both cases:\n",
    "\n",
    "test_rank_cpm = de.test.rank_test(\n",
    "    data=adata_cpm,\n",
    "    grouping=\"Cell Type\",\n",
    "    gene_names = adata_wta.var_names,\n",
    "    ).summary()\n",
    "\n",
    "test_rank_isc_cpm = de.test.rank_test(\n",
    "    data=adata_isc_cpm,\n",
    "    grouping=\"Cell Type\",\n",
    "    gene_names = adata_wta.var_names,\n",
    "    ).summary()\n",
    "\n",
    "\n",
    "# Add FDR:\n",
    "\n",
    "test_rank_cpm['FDR'] = multi.multipletests(test_rank_cpm['pval'], method = 'fdr_bh')[1]\n",
    "test_rank_isc_cpm['FDR'] = multi.multipletests(test_rank_isc_cpm['pval'], method = 'fdr_bh')[1]\n"
   ]
  },
  {
   "cell_type": "code",
   "execution_count": 41,
   "metadata": {},
   "outputs": [],
   "source": [
    "threshold = 1"
   ]
  },
  {
   "cell_type": "code",
   "execution_count": 39,
   "metadata": {},
   "outputs": [
    {
     "name": "stdout",
     "output_type": "stream",
     "text": [
      "0\n",
      "0\n"
     ]
    }
   ],
   "source": [
    "cpm_genes1 = np.asarray(test_rank_cpm['gene'].loc[[test_rank_cpm['FDR'][i] < 0.05 and abs(test_rank_cpm['log2fc'][i]) > threshold for i in range(len(test_rank_cpm['qval']))]])\n",
    "isc_cpm_genes1 = np.asarray(test_rank_isc_cpm['gene'].loc[[test_rank_isc_cpm['FDR'][i] < 0.05 and abs(test_rank_isc_cpm['log2fc'][i]) > threshold for i in range(len(test_rank_cpm['qval']))]])\n",
    "\n",
    "print(len(cpm_genes1))\n",
    "print(len(isc_cpm_genes1))"
   ]
  },
  {
   "cell_type": "code",
   "execution_count": null,
   "metadata": {},
   "outputs": [],
   "source": []
  }
 ],
 "metadata": {
  "kernelspec": {
   "display_name": "Python 3",
   "language": "python",
   "name": "python3"
  },
  "language_info": {
   "codemirror_mode": {
    "name": "ipython",
    "version": 3
   },
   "file_extension": ".py",
   "mimetype": "text/x-python",
   "name": "python",
   "nbconvert_exporter": "python",
   "pygments_lexer": "ipython3",
   "version": "3.7.6"
  }
 },
 "nbformat": 4,
 "nbformat_minor": 4
}
