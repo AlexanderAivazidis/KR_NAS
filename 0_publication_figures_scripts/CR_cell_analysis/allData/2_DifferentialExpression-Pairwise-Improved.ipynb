{
 "cells": [
  {
   "cell_type": "code",
   "execution_count": 1,
   "metadata": {},
   "outputs": [],
   "source": [
    "import sys,os\n",
    "import pickle\n",
    "import anndata\n",
    "import pandas as pd\n",
    "import numpy as np\n",
    "import scanpy as sc\n",
    "import diffxpy.api as de\n",
    "import statsmodels.stats.multitest as multi\n",
    "import pickle"
   ]
  },
  {
   "cell_type": "code",
   "execution_count": 2,
   "metadata": {},
   "outputs": [],
   "source": [
    "adata = sc.read_h5ad(open(\"/nfs/team283/aa16/KR_NAS/data/FetalBrain_AllData_AnnData_1.h5ad\", \"rb\"))"
   ]
  },
  {
   "cell_type": "code",
   "execution_count": 3,
   "metadata": {},
   "outputs": [],
   "source": [
    "adata = adata[adata.obs['Age'] == '19 pcw',:]\n",
    "adata = adata[adata.obs['Pool'] == 'CRcells',:]"
   ]
  },
  {
   "cell_type": "code",
   "execution_count": 4,
   "metadata": {},
   "outputs": [
    {
     "name": "stderr",
     "output_type": "stream",
     "text": [
      "Trying to set attribute `.obs` of view, copying.\n"
     ]
    }
   ],
   "source": [
    "adata.obs['GeoLOD2.0_01'] = adata.obs['GeoLOD2.0_01'].astype(float)\n",
    "detected = np.array([adata.X[i,:] >= adata.obs['GeoLOD2.0_01'].iloc[i] for i in range(len(adata.X[:,1]))])"
   ]
  },
  {
   "cell_type": "code",
   "execution_count": 5,
   "metadata": {},
   "outputs": [
    {
     "name": "stdout",
     "output_type": "stream",
     "text": [
      "0\n",
      "1\n",
      "Foetal brain (frontal lobe)_vs_Foetal brain (occipital lobe)\n",
      "(74, 17498)\n",
      "(38, 1784)\n",
      "Foetal brain (frontal lobe) CRcells Hob7    6\n",
      "dtype: int64\n",
      "Foetal brain (occipital lobe) CRcells Hob7    12\n",
      "dtype: int64\n",
      "Foetal brain (frontal lobe) CRcells Hob8    12\n",
      "dtype: int64\n",
      "Foetal brain (occipital lobe) CRcells Hob8    8\n",
      "dtype: int64\n",
      "0\n",
      "2\n",
      "Foetal brain (frontal lobe)_vs_Foetal brain (parietal lobe)\n",
      "(74, 17498)\n",
      "(34, 1321)\n",
      "Foetal brain (frontal lobe) CRcells Hob7    6\n",
      "dtype: int64\n",
      "Foetal brain (parietal lobe) CRcells Hob7    7\n",
      "dtype: int64\n",
      "Foetal brain (frontal lobe) CRcells Hob8    12\n",
      "dtype: int64\n",
      "Foetal brain (parietal lobe) CRcells Hob8    9\n",
      "dtype: int64\n",
      "0\n",
      "3\n",
      "Foetal brain (frontal lobe)_vs_Foetal brain (temporal lobe)\n",
      "(74, 17498)\n",
      "(38, 1169)\n",
      "Foetal brain (frontal lobe) CRcells Hob7    6\n",
      "dtype: int64\n",
      "Foetal brain (temporal lobe) CRcells Hob7    10\n",
      "dtype: int64\n",
      "Foetal brain (frontal lobe) CRcells Hob8    12\n",
      "dtype: int64\n",
      "Foetal brain (temporal lobe) CRcells Hob8    10\n",
      "dtype: int64\n",
      "1\n",
      "2\n",
      "Foetal brain (occipital lobe)_vs_Foetal brain (parietal lobe)\n",
      "(74, 17498)\n",
      "(36, 1787)\n",
      "Foetal brain (occipital lobe) CRcells Hob7    12\n",
      "dtype: int64\n",
      "Foetal brain (parietal lobe) CRcells Hob7    7\n",
      "dtype: int64\n",
      "Foetal brain (occipital lobe) CRcells Hob8    8\n",
      "dtype: int64\n",
      "Foetal brain (parietal lobe) CRcells Hob8    9\n",
      "dtype: int64\n",
      "1\n",
      "3\n",
      "Foetal brain (occipital lobe)_vs_Foetal brain (temporal lobe)\n",
      "(74, 17498)\n",
      "(40, 1762)\n",
      "Foetal brain (occipital lobe) CRcells Hob7    12\n",
      "dtype: int64\n",
      "Foetal brain (temporal lobe) CRcells Hob7    10\n",
      "dtype: int64\n",
      "Foetal brain (occipital lobe) CRcells Hob8    8\n",
      "dtype: int64\n",
      "Foetal brain (temporal lobe) CRcells Hob8    10\n",
      "dtype: int64\n",
      "2\n",
      "3\n",
      "Foetal brain (parietal lobe)_vs_Foetal brain (temporal lobe)\n",
      "(74, 17498)\n",
      "(36, 1211)\n",
      "Foetal brain (parietal lobe) CRcells Hob7    7\n",
      "dtype: int64\n",
      "Foetal brain (temporal lobe) CRcells Hob7    10\n",
      "dtype: int64\n",
      "Foetal brain (parietal lobe) CRcells Hob8    9\n",
      "dtype: int64\n",
      "Foetal brain (temporal lobe) CRcells Hob8    10\n",
      "dtype: int64\n"
     ]
    }
   ],
   "source": [
    "adata.X = adata.layers['X_corrected_cc_cpm']\n",
    "res = {}\n",
    "count = 0\n",
    "tissues = np.unique(adata.obs['Tissue'])\n",
    "for i in range(len(tissues)):\n",
    "    for j in range((i+1),len(tissues)):\n",
    "        print(i)\n",
    "        print(j)\n",
    "        if i !=j:\n",
    "            new_key = str(tissues[i]) + '_vs_' + str(tissues[j])\n",
    "            subset_tissue_i = np.sum(detected[adata.obs['Tissue'] == tissues[i],:], axis = 0)/np.sum(adata.obs['Tissue'] == tissues[i]) > 0.8\n",
    "            subset_tissue_j = np.sum(detected[adata.obs['Tissue'] == tissues[j],:], axis = 0)/np.sum(adata.obs['Tissue'] == tissues[j]) > 0.8\n",
    "            print(new_key)\n",
    "            adata_subset = adata[[x in (tissues[i], tissues[j]) for x in adata.obs['Tissue']],\n",
    "                                 subset_tissue_i + subset_tissue_j]\n",
    "            print(adata.shape)\n",
    "            print(adata_subset.shape)\n",
    "            res[new_key] = de.test.rank_test(\n",
    "                data=adata_subset,\n",
    "                grouping=\"Tissue\",\n",
    "                is_logged=False\n",
    "            ).summary()\n",
    "        \n",
    "        tissue1 = tissues[i]\n",
    "        tissue2 = tissues[j]\n",
    "        \n",
    "        if np.sum(np.array(res[new_key]['gene']) == np.array(adata_subset.var_names)) != len(adata_subset.var_names):\n",
    "            raise ValueError()\n",
    "\n",
    "        res[new_key]['log2_mean_' + tissue1] = np.array(np.log2(np.mean(adata_subset[adata_subset.obs['Tissue'] == tissue1,].X, axis = 0)))\n",
    "        res[new_key]['log2_mean_' + tissue2] = np.array(np.log2(np.mean(adata_subset[adata_subset.obs['Tissue'] == tissue2,].X, axis = 0)))\n",
    "        res[new_key]['log2_fold_change'] =  res[new_key]['log2_mean_' + tissue1] - res[new_key]['log2_mean_' + tissue2]\n",
    "\n",
    "        subset1 = [adata_subset.obs['Tissue'].iloc[j] == tissue1 and adata_subset.obs['Donor'].iloc[j] == 'Hob7' for j in range(len(adata_subset.obs['Donor']))]\n",
    "        subset2 = [adata_subset.obs['Tissue'].iloc[j] == tissue2 and adata_subset.obs['Donor'].iloc[j] == 'Hob7' for j in range(len(adata_subset.obs['Donor']))]\n",
    "        res[new_key]['log2_mean_Hob7_' + tissue1] = np.array(np.log2(np.mean(adata_subset[subset1,].X, axis = 0)))\n",
    "        res[new_key]['log2_mean_Hob7_' + tissue2] = np.array(np.log2(np.mean(adata_subset[subset2,].X, axis = 0)))\n",
    "        res[new_key]['log2_fold_change_Hob7'] =  res[new_key]['log2_mean_Hob7_' + tissue1] - res[new_key]['log2_mean_Hob7_' + tissue2]\n",
    "\n",
    "        print((adata_subset[subset1,].obs['Tissue'].astype(str) + ' ' + adata_subset[subset1,].obs['Pool'].astype(str)\n",
    "     + ' ' + adata_subset[subset1,].obs['Donor'].astype(str)).value_counts())\n",
    "        print((adata_subset[subset2,].obs['Tissue'].astype(str) + ' ' + adata_subset[subset2,].obs['Pool'].astype(str)\n",
    "     + ' ' + adata_subset[subset2,].obs['Donor'].astype(str)).value_counts())\n",
    "\n",
    "        subset1 = [adata_subset.obs['Tissue'].iloc[j] == tissue1 and adata_subset.obs['Donor'].iloc[j] == 'Hob8' for j in range(len(adata_subset.obs['Donor']))]\n",
    "        subset2 = [adata_subset.obs['Tissue'].iloc[j] == tissue2 and adata_subset.obs['Donor'].iloc[j] == 'Hob8' for j in range(len(adata_subset.obs['Donor']))]\n",
    "        res[new_key]['log2_mean_Hob8_' + tissue1] = np.array(np.log2(np.mean(adata_subset[subset1,].X, axis = 0)))\n",
    "        res[new_key]['log2_mean_Hob8_' + tissue2] = np.array(np.log2(np.mean(adata_subset[subset2,].X, axis = 0)))\n",
    "        res[new_key]['log2_fold_change_Hob8'] =  res[new_key]['log2_mean_Hob8_' + tissue1] - res[new_key]['log2_mean_Hob8_' + tissue2]\n",
    "\n",
    "        print((adata_subset[subset1,].obs['Tissue'].astype(str) + ' ' + adata_subset[subset1,].obs['Pool'].astype(str)\n",
    "     + ' ' + adata_subset[subset1,].obs['Donor'].astype(str)).value_counts())\n",
    "        print((adata_subset[subset2,].obs['Tissue'].astype(str) + ' ' + adata_subset[subset2,].obs['Pool'].astype(str)\n",
    "     + ' ' + adata_subset[subset2,].obs['Donor'].astype(str)).value_counts())\n",
    "\n",
    "        res[new_key] = res[new_key].sort_values('pval')\n",
    "    \n",
    "res_naive = res"
   ]
  },
  {
   "cell_type": "markdown",
   "metadata": {},
   "source": [
    "Plot top genes in occipital-frontal comparison:"
   ]
  },
  {
   "cell_type": "code",
   "execution_count": 6,
   "metadata": {},
   "outputs": [],
   "source": [
    "res[list(res.keys())[0]].loc[[res[list(res.keys())[0]]['qval'].iloc[i] < 0.05 and res[list(res.keys())[0]]['log2fc'].iloc[i] > 1\n",
    " for i in range(len(res[list(res.keys())[0]]['log2fc']))]].to_csv('test2.csv')"
   ]
  },
  {
   "cell_type": "code",
   "execution_count": 7,
   "metadata": {},
   "outputs": [],
   "source": [
    "# pickle.dump(res_naive, open(\"/nfs/team283/aa16/KR_NAS/0_publication_tables/CR_cells_pairwiseDE_naive_1.p\", \"wb\" ))"
   ]
  },
  {
   "cell_type": "markdown",
   "metadata": {},
   "source": [
    "Save all data on pairwise differential expression in CR cells in one data frame:"
   ]
  },
  {
   "cell_type": "code",
   "execution_count": 8,
   "metadata": {},
   "outputs": [],
   "source": [
    "# # Create a Pandas Excel writer using XlsxWriter as the engine.\n",
    "# writer = pd.ExcelWriter('/nfs/team283/aa16/KR_NAS/0_publication_tables/CR_cell_DE_results.xlsx', engine='xlsxwriter')\n",
    "\n",
    "# # Write each dataframe to a different worksheet.\n",
    "# for i in range(len(allResults)):\n",
    "#     allResults[i].to_excel(writer, sheet_name=key_wta_array[i].split('Foetal brain')[1].split('lobe')[0].split('(')[1]\n",
    "#                            + 'vs '\n",
    "#                            + key_wta_array[i].split('Foetal brain')[2].split('lobe')[0].split('(')[1])\n",
    "\n",
    "# # Close the Pandas Excel writer and output the Excel file.\n",
    "# writer.save()"
   ]
  },
  {
   "cell_type": "code",
   "execution_count": null,
   "metadata": {},
   "outputs": [],
   "source": []
  }
 ],
 "metadata": {
  "kernelspec": {
   "display_name": "Python [conda env:countcorrect]",
   "language": "python",
   "name": "conda-env-countcorrect-py"
  },
  "language_info": {
   "codemirror_mode": {
    "name": "ipython",
    "version": 3
   },
   "file_extension": ".py",
   "mimetype": "text/x-python",
   "name": "python",
   "nbconvert_exporter": "python",
   "pygments_lexer": "ipython3",
   "version": "3.7.10"
  }
 },
 "nbformat": 4,
 "nbformat_minor": 4
}
