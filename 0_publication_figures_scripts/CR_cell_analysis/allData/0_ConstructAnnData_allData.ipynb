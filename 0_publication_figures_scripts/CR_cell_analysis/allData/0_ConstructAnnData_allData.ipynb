{
 "cells": [
  {
   "cell_type": "code",
   "execution_count": 1,
   "metadata": {},
   "outputs": [],
   "source": [
    "import pickle\n",
    "import scanpy as sc\n",
    "import anndata\n",
    "import pandas as pd\n",
    "import numpy as np\n",
    "import matplotlib.pyplot as plt\n",
    "import seaborn as sns\n",
    "import sys, os\n",
    "path = '/nfs/team283/aa16/KR_NAS/'\n",
    "os.chdir(path)\n",
    "sys.path.append(path)\n",
    "from IPython.display import Image\n",
    "data_type = 'float32'\n",
    "os.environ[\"THEANO_FLAGS\"] = 'device=cuda,floatX=' + data_type + ',force_device=True' + ',dnn.enabled=False'\n",
    "import matplotlib\n",
    "matplotlib.rcParams['pdf.fonttype'] = 42\n",
    "matplotlib.rcParams['ps.fonttype'] = 42"
   ]
  },
  {
   "cell_type": "markdown",
   "metadata": {},
   "source": [
    "Construct AnnData object:"
   ]
  },
  {
   "cell_type": "code",
   "execution_count": 2,
   "metadata": {},
   "outputs": [
    {
     "name": "stdout",
     "output_type": "stream",
     "text": [
      "Metadata, but no counts, number: 42\n",
      "Metadata, but no counts, names: ['HCA_F_BRA11360456', 'HCA_F_BRA11360459', 'HCA_F_BRA11360462', 'HCA_F_BRA11360465', 'HCA_F_BRA11360468', 'HCA_F_BRA11360471', 'HCA_F_BRA11360474', 'HCA_F_BRA11360477', 'HCA_F_BRA11360480', 'HCA_F_BRA11360483', 'HCA_F_BRA11360486', 'HCA_F_BRA11360489', 'HCA_F_BRA11360492', 'HCA_F_BRA11360495', 'HCA_F_BRA11360498', 'HCA_F_BRA11360501', 'HCA_F_BRA11360504', 'HCA_F_BRA11360507', 'HCA_F_BRA11360510', 'HCA_F_BRA11360513', 'HCA_F_BRA11360516', 'HCA_F_BRA11360519', 'HCA_F_BRA11360522', 'HCA_F_BRA11360525', 'HCA_F_BRA11360528', 'HCA_F_BRA11360531', 'HCA_F_BRA11360534', 'HCA_F_BRA11360537', 'HCA_F_BRA11360540', 'HCA_F_BRA11360543', 'HCA_F_BRA11360546', 'HCA_F_BRA11360549', 'HCA_F_BRA11360552', 'HCA_F_BRA11360555', 'HCA_F_BRA11360558', 'HCA_F_BRA11360561', 'HCA_F_BRA11360564', 'HCA_F_BRA11360567', 'HCA_F_BRA11360570', 'HCA_F_BRA11360573', 'PhiX', 'No match']\n",
      "Metadata and counts, number: 81\n",
      "Counts, but no metadata, number: 0\n"
     ]
    },
    {
     "name": "stderr",
     "output_type": "stream",
     "text": [
      "/nfs/team283/aa16/software/miniconda3/envs/cellpymc/lib/python3.7/site-packages/IPython/core/interactiveshell.py:3170: DtypeWarning: Columns (10) have mixed types.Specify dtype option on import or set low_memory=False.\n",
      "  interactivity=interactivity, compiler=compiler, result=result)\n",
      "/nfs/team283/aa16/software/miniconda3/envs/cellpymc/lib/python3.7/site-packages/pandas/core/indexing.py:1637: SettingWithCopyWarning: \n",
      "A value is trying to be set on a copy of a slice from a DataFrame\n",
      "\n",
      "See the caveats in the documentation: https://pandas.pydata.org/pandas-docs/stable/user_guide/indexing.html#returning-a-view-versus-a-copy\n",
      "  self._setitem_single_block(indexer, value, name)\n",
      "/nfs/team283/aa16/software/miniconda3/envs/cellpymc/lib/python3.7/site-packages/pandas/core/indexing.py:1637: SettingWithCopyWarning: \n",
      "A value is trying to be set on a copy of a slice from a DataFrame\n",
      "\n",
      "See the caveats in the documentation: https://pandas.pydata.org/pandas-docs/stable/user_guide/indexing.html#returning-a-view-versus-a-copy\n",
      "  self._setitem_single_block(indexer, value, name)\n",
      "/nfs/team283/aa16/software/miniconda3/envs/cellpymc/lib/python3.7/site-packages/pandas/core/indexing.py:1637: SettingWithCopyWarning: \n",
      "A value is trying to be set on a copy of a slice from a DataFrame\n",
      "\n",
      "See the caveats in the documentation: https://pandas.pydata.org/pandas-docs/stable/user_guide/indexing.html#returning-a-view-versus-a-copy\n",
      "  self._setitem_single_block(indexer, value, name)\n",
      "/nfs/team283/aa16/software/miniconda3/envs/cellpymc/lib/python3.7/site-packages/pandas/core/indexing.py:1637: SettingWithCopyWarning: \n",
      "A value is trying to be set on a copy of a slice from a DataFrame\n",
      "\n",
      "See the caveats in the documentation: https://pandas.pydata.org/pandas-docs/stable/user_guide/indexing.html#returning-a-view-versus-a-copy\n",
      "  self._setitem_single_block(indexer, value, name)\n",
      "/nfs/team283/aa16/software/miniconda3/envs/cellpymc/lib/python3.7/site-packages/pandas/core/indexing.py:1637: SettingWithCopyWarning: \n",
      "A value is trying to be set on a copy of a slice from a DataFrame\n",
      "\n",
      "See the caveats in the documentation: https://pandas.pydata.org/pandas-docs/stable/user_guide/indexing.html#returning-a-view-versus-a-copy\n",
      "  self._setitem_single_block(indexer, value, name)\n"
     ]
    }
   ],
   "source": [
    "counts = pd.read_table('data/CRcells_14pcw/ns_tic1219_twobatch/az1219b2_TargetCountMatrix.txt')\n",
    "genes = counts['TargetName']\n",
    "counts = counts.drop('TargetName',1)\n",
    "counts = counts.rename(index=genes)\n",
    "counts = counts.astype('int')\n",
    "metadata = pd.read_csv('data/CRcells_14pcw/NS_DSP human foetal brain Cajal-Retzius NanoString profiling 2 annotations.csv')\n",
    "metadata = metadata.rename(index=metadata['Sanger Sample ID'])\n",
    "print('Metadata, but no counts, number:', len([c for c in metadata.index if c not in np.array(counts.columns)]))\n",
    "print('Metadata, but no counts, names:',[c for c in metadata.index if c not in np.array(counts.columns)])\n",
    "print('Metadata and counts, number:', len([c for c in metadata.index if c in np.array(counts.columns)]))\n",
    "print('Counts, but no metadata, number:', len([c for c in np.array(counts.columns) if c not in metadata.index]))\n",
    "metadata = metadata.loc[~pd.isna(metadata.index),:]\n",
    "metadata = metadata.reindex(np.array(counts.columns))\n",
    "properties = pd.read_table('data/CRcells_14pcw/ns_tic1219_twobatch/az1219b2_SegmentProperties.txt')\n",
    "properties = properties.rename(index=properties['Sample_ID'])\n",
    "properties = properties.reindex(np.array(metadata.index))\n",
    "properties = properties.drop(labels='Sample_ID', axis = 1)\n",
    "probe_counts = pd.read_table('data/CRcells_14pcw/ns_tic1219_twobatch/az1219b2_BioProbeCountMatrix.txt')\n",
    "genes = probe_counts['TargetName']\n",
    "probe_counts = probe_counts.drop(['TargetName', 'ProbeName', 'ProbeDisplayName', 'TargetName', 'HUGOSymbol',\n",
    "                                 'Accessions', 'GenomeBuild', 'GenomicPosition', 'GlobalOutlier', 'GlobalOutlierReason',\n",
    "                                 'OutlierFrequency', 'OutlierAOIs', 'Gene'],1)\n",
    "probe_counts = probe_counts.rename(index=genes)\n",
    "probe_counts = probe_counts.astype('int')\n",
    "negprobe_counts = probe_counts.loc[probe_counts.index == 'NegProbe-WTX', ]\n",
    "negprobe_counts.index = negprobe_counts.index + '-' + [str(x) for x in range(len(negprobe_counts.index))]\n",
    "adataB = sc.AnnData(X=np.array(counts).T, obs=pd.concat((metadata, properties), axis = 1), var=np.array(counts.index))\n",
    "adataB.var_names = counts.index\n",
    "adataB.obsm['negProbes'] = negprobe_counts.T\n",
    "adataB.obs['GeoLOD2.0_01'] = adataB.obs['NegGeoMean_01'] * adataB.obs['NegGeoSD_01']**2\n",
    "adataB.obs['DetectedGenes2.0'] = np.sum(np.array([adataB.X[i,:] >= adataB.obs['GeoLOD2.0_01'].iloc[i] for i in range(len(adataB.X[:,1]))]), axis = 1)\n",
    "adataB.var['SYMBOL'] = adataB.var[0]\n",
    "adataB.var = adataB.var.drop(0, axis = 1)\n",
    "adataB.var.index = [str(x) for x in range(len(adataB.var.index))]\n",
    "adataB.obs['nuclei'].loc[adataB.obs['nuclei'] == 0] = 5\n",
    "adataB.obs['nuclei'].loc[adataB.obs['nuclei'] == 1] = 5\n",
    "adataB.obs['nuclei'].loc[adataB.obs['nuclei'] == 2] = 5\n",
    "adataB.obs['nuclei'].loc[adataB.obs['nuclei'] == 3] = 5\n",
    "adataB.obs['nuclei'].loc[adataB.obs['nuclei'] == 4] = 5"
   ]
  },
  {
   "cell_type": "code",
   "execution_count": 3,
   "metadata": {},
   "outputs": [
    {
     "data": {
      "text/plain": [
       "AnnData object with n_obs × n_vars = 81 × 18677\n",
       "    obs: 'Sample_ID', 'Manifest ID', 'slide name', 'scan name', 'panel', 'roi', 'segment', 'aoi', 'area', 'nuclei', 'Type', 'Species', 'Age', 'Background', 'Tissue', 'Slide code', 'Sample slide ID', 'TR', 'Cy5', 'Cy3', 'Pool', 'Collection plate', 'Well', 'PCR plate', 'PCR well', 'Primer plate', 'Primer well', 'I7_Index_ID', 'index', 'I5_Index_ID', 'index2', 'Notes', 'Sanger Sample ID', 'Tag', 'Reads, count', 'Reads, %', 'expected_neg', 'ns_sample_ID', 'RawReads', 'TrimmedReads', 'StitchedReads', 'AlignedReads', 'DeduplicatedReads', 'SequencingSaturation', 'UID', 'NegGeoMean_01', 'NegGeoSD_01', 'GeoLOQ2.5_01', 'NormFactorNeg_01', 'NormFactorQ3', 'NormFactorHK', 'GeoLOD2.0_01', 'DetectedGenes2.0'\n",
       "    var: 'SYMBOL'\n",
       "    obsm: 'negProbes'"
      ]
     },
     "execution_count": 3,
     "metadata": {},
     "output_type": "execute_result"
    }
   ],
   "source": [
    "adataB"
   ]
  },
  {
   "cell_type": "code",
   "execution_count": 4,
   "metadata": {},
   "outputs": [
    {
     "name": "stdout",
     "output_type": "stream",
     "text": [
      "89\n",
      "['DSP-1001250001588-C-A02', 'DSP-1001250001588-C-A03', 'DSP-1001250001588-C-A04', 'DSP-1001250001588-C-A05', 'DSP-1001250001588-C-A06', 'DSP-1001250001588-C-A07', 'DSP-1001250001588-C-A08', 'DSP-1001250001588-C-A09', 'DSP-1001250001588-C-A10', 'DSP-1001250001588-C-A11', 'DSP-1001250001588-C-A12', 'DSP-1001250001588-C-B01', 'DSP-1001250001588-C-B03', 'DSP-1001250001588-C-B06', 'DSP-1001250001588-C-B09', 'DSP-1001250001588-C-B12', 'DSP-1001250001588-C-C01', 'DSP-1001250001588-C-C03', 'DSP-1001250001588-C-C06', 'DSP-1001250001588-C-C09', 'DSP-1001250001588-C-C12', 'DSP-1001250001588-C-D01', 'DSP-1001250001588-C-D03', 'DSP-1001250001588-C-D06', 'DSP-1001250001588-C-D09', 'DSP-1001250001588-C-D12', 'DSP-1001250001588-C-E01', 'DSP-1001250001588-C-E03', 'DSP-1001250001588-C-E06', 'DSP-1001250001588-C-E09', 'DSP-1001250001588-C-E12', 'DSP-1001250001588-C-F03', 'DSP-1001250001588-C-F06', 'DSP-1001250001588-C-F09', 'DSP-1001250001588-C-F12', 'DSP-1001250001588-C-G03', 'DSP-1001250001588-C-G06', 'DSP-1001250001588-C-G09', 'DSP-1001250001588-C-G12', 'DSP-1001250001588-C-H03', 'DSP-1001250001588-C-H06', 'DSP-1001250001588-C-H09', 'DSP-1001250001588-C-H12', 'DSP-1001250001589-E-A04', 'DSP-1001250001589-E-A07', 'DSP-1001250001589-E-A10', 'DSP-1001250001589-E-B01', 'DSP-1001250001589-E-B04', 'DSP-1001250001589-E-B07', 'DSP-1001250001589-E-B10', 'DSP-1001250001586-D-A03', 'DSP-1001250001586-D-A06', 'DSP-1001250001586-D-A09', 'DSP-1001250001586-D-A12', 'DSP-1001250001586-D-B03', 'DSP-1001250001586-D-B06', 'DSP-1001250001586-D-B09', 'DSP-1001250001586-D-B12', 'DSP-1001250001586-D-C03', 'DSP-1001250001586-D-C06', 'DSP-1001250001586-D-C09', 'DSP-1001250001586-D-C12', 'DSP-1001250001586-D-D03', 'DSP-1001250001586-D-D06', 'DSP-1001250001586-D-D09', 'DSP-1001250001586-D-D12', 'DSP-1001250001586-D-E03', 'DSP-1001250001586-D-E06', 'DSP-1001250001586-D-E09', 'DSP-1001250001586-D-E12', 'DSP-1001250001586-D-F03', 'DSP-1001250001586-D-F06', 'DSP-1001250001586-D-F09', 'DSP-1001250001586-D-F12', 'DSP-1001250001586-D-G03', 'DSP-1001250001586-D-G06', 'DSP-1001250001586-D-G09', 'DSP-1001250001586-D-G12', 'DSP-1001250001586-D-H01', 'DSP-1001250001586-D-H03', 'DSP-1001250001586-D-H06', 'DSP-1001250001586-D-H09', 'DSP-1001250001587-B-A04', 'DSP-1001250001587-B-A07', 'DSP-1001250001587-B-A10', 'DSP-1001250001587-B-B01', 'DSP-1001250001587-B-B04', 'DSP-1001250001587-B-B07', 'DSP-1001250001587-B-B10']\n",
      "145\n",
      "0\n"
     ]
    },
    {
     "name": "stderr",
     "output_type": "stream",
     "text": [
      "/nfs/team283/aa16/software/miniconda3/envs/cellpymc/lib/python3.7/site-packages/IPython/core/interactiveshell.py:3170: DtypeWarning: Columns (8,10) have mixed types.Specify dtype option on import or set low_memory=False.\n",
      "  interactivity=interactivity, compiler=compiler, result=result)\n",
      "/nfs/team283/aa16/software/miniconda3/envs/cellpymc/lib/python3.7/site-packages/pandas/core/indexing.py:1637: SettingWithCopyWarning: \n",
      "A value is trying to be set on a copy of a slice from a DataFrame\n",
      "\n",
      "See the caveats in the documentation: https://pandas.pydata.org/pandas-docs/stable/user_guide/indexing.html#returning-a-view-versus-a-copy\n",
      "  self._setitem_single_block(indexer, value, name)\n",
      "/nfs/team283/aa16/software/miniconda3/envs/cellpymc/lib/python3.7/site-packages/pandas/core/indexing.py:1637: SettingWithCopyWarning: \n",
      "A value is trying to be set on a copy of a slice from a DataFrame\n",
      "\n",
      "See the caveats in the documentation: https://pandas.pydata.org/pandas-docs/stable/user_guide/indexing.html#returning-a-view-versus-a-copy\n",
      "  self._setitem_single_block(indexer, value, name)\n",
      "/nfs/team283/aa16/software/miniconda3/envs/cellpymc/lib/python3.7/site-packages/pandas/core/indexing.py:1637: SettingWithCopyWarning: \n",
      "A value is trying to be set on a copy of a slice from a DataFrame\n",
      "\n",
      "See the caveats in the documentation: https://pandas.pydata.org/pandas-docs/stable/user_guide/indexing.html#returning-a-view-versus-a-copy\n",
      "  self._setitem_single_block(indexer, value, name)\n",
      "/nfs/team283/aa16/software/miniconda3/envs/cellpymc/lib/python3.7/site-packages/pandas/core/indexing.py:1637: SettingWithCopyWarning: \n",
      "A value is trying to be set on a copy of a slice from a DataFrame\n",
      "\n",
      "See the caveats in the documentation: https://pandas.pydata.org/pandas-docs/stable/user_guide/indexing.html#returning-a-view-versus-a-copy\n",
      "  self._setitem_single_block(indexer, value, name)\n",
      "/nfs/team283/aa16/software/miniconda3/envs/cellpymc/lib/python3.7/site-packages/pandas/core/indexing.py:1637: SettingWithCopyWarning: \n",
      "A value is trying to be set on a copy of a slice from a DataFrame\n",
      "\n",
      "See the caveats in the documentation: https://pandas.pydata.org/pandas-docs/stable/user_guide/indexing.html#returning-a-view-versus-a-copy\n",
      "  self._setitem_single_block(indexer, value, name)\n"
     ]
    }
   ],
   "source": [
    "counts = pd.read_table('data/ns_tic1106_outputs/Run2_TargetCountMatrix.txt')\n",
    "genes = counts['TargetName']\n",
    "counts = counts.drop('TargetName',1)\n",
    "counts = counts.rename(index=genes)\n",
    "counts = counts.astype('int')\n",
    "metadata = pd.read_csv('data/NS_DSP CR annotations.csv')\n",
    "metadata = metadata.rename(index=metadata['Sample_ID'])\n",
    "print(len([c for c in metadata.index if c not in np.array(counts.columns)]))\n",
    "print([c for c in metadata.index if c not in np.array(counts.columns)])\n",
    "print(len([c for c in metadata.index if c in np.array(counts.columns)]))\n",
    "print(len([c for c in np.array(counts.columns) if c not in metadata.index]))\n",
    "metadata = metadata.loc[~pd.isna(metadata.index),:]\n",
    "metadata = metadata.reindex(np.array(counts.columns))\n",
    "properties = pd.read_table('data/ns_tic1106_outputs/Run2_SegmentProperties.txt')\n",
    "properties = properties.rename(index=properties['Sample_ID'])\n",
    "properties = properties.reindex(np.array(metadata.index))\n",
    "properties = properties.drop(labels='Sample_ID', axis = 1)\n",
    "probe_counts = pd.read_table('data/ns_tic1106_outputs/Run2_BioProbeCountMatrix.txt')\n",
    "genes = probe_counts['TargetName']\n",
    "probe_counts = probe_counts.drop(['TargetName', 'ProbeName', 'ProbeDisplayName', 'TargetName', 'HUGOSymbol',\n",
    "                                 'Accessions', 'GenomeBuild', 'GenomicPosition', 'GlobalOutlier', 'GlobalOutlierReason',\n",
    "                                 'OutlierFrequency', 'OutlierAOIs', 'Gene'],1)\n",
    "probe_counts = probe_counts.rename(index=genes)\n",
    "probe_counts = probe_counts.astype('int')\n",
    "negprobe_counts = probe_counts.loc[probe_counts.index == 'NegProbe-WTX', ]\n",
    "negprobe_counts.index = negprobe_counts.index + '-' + [str(x) for x in range(len(negprobe_counts.index))]\n",
    "adata = sc.AnnData(X=np.array(counts).T, obs=pd.concat((metadata, properties), axis = 1), var=np.array(counts.index))\n",
    "adata.var_names = counts.index\n",
    "adata.obsm['negProbes'] = negprobe_counts.T\n",
    "adata.obs['GeoLOD2.0_01'] = adata.obs['NegGeoMean_01'] * adata.obs['NegGeoSD_01']**2\n",
    "adata.obs['DetectedGenes2.0'] = np.sum(np.array([adata.X[i,:] >= adata.obs['GeoLOD2.0_01'].iloc[i] for i in range(len(adata.X[:,1]))]), axis = 1)\n",
    "adata.var['SYMBOL'] = adata.var[0]\n",
    "adata.var = adata.var.drop(0, axis = 1)\n",
    "adata.var.index = [str(x) for x in range(len(adata.var.index))]\n",
    "adata.obs['nuclei'].loc[adata.obs['nuclei'] == 0] = 5\n",
    "adata.obs['nuclei'].loc[adata.obs['nuclei'] == 1] = 5\n",
    "adata.obs['nuclei'].loc[adata.obs['nuclei'] == 2] = 5\n",
    "adata.obs['nuclei'].loc[adata.obs['nuclei'] == 3] = 5\n",
    "adata.obs['nuclei'].loc[adata.obs['nuclei'] == 4] = 5"
   ]
  },
  {
   "cell_type": "code",
   "execution_count": 5,
   "metadata": {},
   "outputs": [],
   "source": [
    "# Also add previous data:\n",
    "import pickle\n",
    "adata_C = pickle.load(open('/nfs/team283/aa16/KR_NAS/data/nanostringWTA_fetailBrain_AnnData.p', 'rb'))\n",
    "adata_C.obsm['negProbes'] = adata_C.X[:,adata_C.var_names == 'NegProbe-WTX']\n",
    "adata_C = adata_C[:,adata_C.var_names != 'NegProbe-WTX']\n",
    "del adata_C.layers['CPM']\n",
    "del adata_C.layers['X_Corrected_V2']\n",
    "adata_C.obs['Age'] = adata_C.obs['age']\n",
    "adata_C.obs['Age'].loc[adata_C.obs['Age'] == '19pcw'] = '19 pcw'\n",
    "adata_C.obs['Age'].loc[adata_C.obs['Age'] == '14pcw'] = '14 pcw'\n",
    "adata_C.obs = adata_C.obs.drop('age', axis = 1)\n",
    "adata_C.obs['slide name'] = adata_C.obs['slide']\n",
    "adata_C.obs = adata_C.obs.drop('slide', axis = 1)"
   ]
  },
  {
   "cell_type": "code",
   "execution_count": 6,
   "metadata": {},
   "outputs": [],
   "source": [
    "adata.obs = adata.obs.astype(str)\n",
    "adataB.obs = adataB.obs.astype(str)\n",
    "adata_C.obs = adata_C.obs.astype(str)"
   ]
  },
  {
   "cell_type": "code",
   "execution_count": 7,
   "metadata": {},
   "outputs": [],
   "source": [
    "adata.var_names = adata.var['SYMBOL']\n",
    "adataB.var_names = adataB.var['SYMBOL']"
   ]
  },
  {
   "cell_type": "code",
   "execution_count": 8,
   "metadata": {},
   "outputs": [],
   "source": [
    "commonGenes = [g for g in adata_C.var_names if g in np.array(adataB.var_names) ]"
   ]
  },
  {
   "cell_type": "code",
   "execution_count": 9,
   "metadata": {},
   "outputs": [],
   "source": [
    "adata = adata[:,commonGenes]\n",
    "adataB = adataB[:,commonGenes]\n",
    "adata_C = adata_C[:,commonGenes]"
   ]
  },
  {
   "cell_type": "code",
   "execution_count": 10,
   "metadata": {},
   "outputs": [],
   "source": [
    "adata.obsm['negProbes'] = np.array(adata.obsm['negProbes'])\n",
    "adataB.obsm['negProbes'] = np.array(adataB.obsm['negProbes'])"
   ]
  },
  {
   "cell_type": "code",
   "execution_count": 11,
   "metadata": {},
   "outputs": [],
   "source": [
    "adata = anndata.AnnData.concatenate(adata,adataB, adata_C)"
   ]
  },
  {
   "cell_type": "code",
   "execution_count": 12,
   "metadata": {},
   "outputs": [
    {
     "data": {
      "text/plain": [
       "AnnData object with n_obs × n_vars = 481 × 17498\n",
       "    obs: 'Sample_ID', 'Manifest_ID', 'slide name', 'scan name', 'panel', 'roi', 'nuclei', 'segment', 'aoi', 'area', 'Type', 'Species', 'Age', 'Background', 'Tissue', 'Slide code', 'Sample slide ID', 'TR', 'Cy5', 'Cy3', 'Pool', 'Collection plate', 'Well', 'PCR plate', 'PCR well', 'Primer plate', 'Primer well', 'I7_Index_ID', 'index', 'I5_Index_ID', 'index2', 'indexA', 'indexB', 'lane1', 'lane2', 'totalreads', 'Sanger Sample ID', 'Notes', 'expected_neg', 'ns_sample_ID', 'RawReads', 'TrimmedReads', 'StitchedReads', 'AlignedReads', 'DeduplicatedReads', 'SequencingSaturation', 'UID', 'NegGeoMean_01', 'NegGeoSD_01', 'GeoLOQ2.5_01', 'NormFactorNeg_01', 'NormFactorQ3', 'NormFactorHK', 'GeoLOD2.0_01', 'DetectedGenes2.0', 'Manifest ID', 'Tag', 'Reads, count', 'Reads, %', 'ORDER', 'construct', 'instrument_type', 'read_pattern', 'ngs_prep', 'ngs_repnum', 'pcr_primer_plate', 'pcr_primer_well', 'Index 1', 'Barcode 1', 'Index 2', '\\tBarcode 2', 'dsp_plate', 'segment_type', 'roi_dimension', 'dsp_date', 'dsp_well', 'human_sample_ID', 'slide_barcode', 'source_ID', 'Sanger_sampleID', 'VCDepth', 'AOI_type', 'Radial_position', 'Region', 'DSP_Sample_ID', 'Plate', 'GeoLOD2.5_01', 'GoodQuality', 'TotalCounts', 'batch'\n",
       "    var: 'SYMBOL'\n",
       "    obsm: 'negProbes'"
      ]
     },
     "execution_count": 12,
     "metadata": {},
     "output_type": "execute_result"
    }
   ],
   "source": [
    "adata"
   ]
  },
  {
   "cell_type": "code",
   "execution_count": 13,
   "metadata": {},
   "outputs": [
    {
     "data": {
      "text/plain": [
       "nan nan 19 pcw                                   192\n",
       "nan nan 14 pcw                                    63\n",
       "Foetal brain (temporal lobe) CRcells 19 pcw       20\n",
       "Foetal brain (occipital lobe) CRcells 19 pcw      20\n",
       "Foetal brain (occipital lobe) Residual 19 pcw     20\n",
       "Foetal brain (temporal lobe) Residual 19 pcw      19\n",
       "Foetal brain (frontal lobe) CRcells 19 pcw        18\n",
       "Foetal brain (frontal lobe) Residual 19 pcw       17\n",
       "Foetal brain (occipital lobe) Residual 14 pcw     16\n",
       "Foetal brain (frontal lobe) CRcellsB 14 pcw       16\n",
       "Foetal brain (occipital lobe) CRcellsB 14 pcw     16\n",
       "Foetal brain (frontal lobe) Residual 14 pcw       16\n",
       "Foetal brain (parietal lobe) CRcells 19 pcw       16\n",
       "Foetal brain (parietal lobe) Residual 19 pcw      14\n",
       "Foetal brain (temporal lobe) Residual 14 pcw       8\n",
       "Foetal brain (temporal lobe) CRcellsB 14 pcw       8\n",
       "nan Residual nan                                   1\n",
       "Foetal brain (occipital lobe) Rings 19 pcw         1\n",
       "dtype: int64"
      ]
     },
     "execution_count": 13,
     "metadata": {},
     "output_type": "execute_result"
    }
   ],
   "source": [
    "adata.obs['Donor'] = [str(x).split('-')[0] for x in adata.obs['Sample slide ID']]\n",
    "(adata.obs['Tissue'].astype(str) + ' ' + adata.obs['Pool'].astype(str)\n",
    " + ' ' + adata.obs['Age'].astype(str)).value_counts()"
   ]
  },
  {
   "cell_type": "code",
   "execution_count": 14,
   "metadata": {},
   "outputs": [],
   "source": [
    "adata = adata[adata.obs['slide name'] != 'No Template Control',:]"
   ]
  },
  {
   "cell_type": "markdown",
   "metadata": {},
   "source": [
    "Save for later use:"
   ]
  },
  {
   "cell_type": "code",
   "execution_count": 15,
   "metadata": {},
   "outputs": [],
   "source": [
    "adata.obs = adata.obs.astype(str)"
   ]
  },
  {
   "cell_type": "code",
   "execution_count": 16,
   "metadata": {},
   "outputs": [
    {
     "name": "stderr",
     "output_type": "stream",
     "text": [
      "... storing 'Sample_ID' as categorical\n",
      "... storing 'Manifest_ID' as categorical\n",
      "... storing 'slide name' as categorical\n",
      "... storing 'scan name' as categorical\n",
      "... storing 'panel' as categorical\n",
      "... storing 'roi' as categorical\n",
      "... storing 'nuclei' as categorical\n",
      "... storing 'segment' as categorical\n",
      "... storing 'aoi' as categorical\n",
      "... storing 'area' as categorical\n",
      "... storing 'Type' as categorical\n",
      "... storing 'Species' as categorical\n",
      "... storing 'Age' as categorical\n",
      "... storing 'Background' as categorical\n",
      "... storing 'Tissue' as categorical\n",
      "... storing 'Slide code' as categorical\n",
      "... storing 'Sample slide ID' as categorical\n",
      "... storing 'TR' as categorical\n",
      "... storing 'Cy5' as categorical\n",
      "... storing 'Cy3' as categorical\n",
      "... storing 'Pool' as categorical\n",
      "... storing 'Collection plate' as categorical\n",
      "... storing 'Well' as categorical\n",
      "... storing 'PCR plate' as categorical\n",
      "... storing 'PCR well' as categorical\n",
      "... storing 'Primer plate' as categorical\n",
      "... storing 'Primer well' as categorical\n",
      "... storing 'I7_Index_ID' as categorical\n",
      "... storing 'index' as categorical\n",
      "... storing 'I5_Index_ID' as categorical\n",
      "... storing 'index2' as categorical\n",
      "... storing 'indexA' as categorical\n",
      "... storing 'indexB' as categorical\n",
      "... storing 'lane1' as categorical\n",
      "... storing 'lane2' as categorical\n",
      "... storing 'totalreads' as categorical\n",
      "... storing 'Sanger Sample ID' as categorical\n",
      "... storing 'Notes' as categorical\n",
      "... storing 'expected_neg' as categorical\n",
      "... storing 'ns_sample_ID' as categorical\n",
      "... storing 'RawReads' as categorical\n",
      "... storing 'TrimmedReads' as categorical\n",
      "... storing 'StitchedReads' as categorical\n",
      "... storing 'AlignedReads' as categorical\n",
      "... storing 'DeduplicatedReads' as categorical\n",
      "... storing 'SequencingSaturation' as categorical\n",
      "... storing 'NegGeoMean_01' as categorical\n",
      "... storing 'NegGeoSD_01' as categorical\n",
      "... storing 'GeoLOQ2.5_01' as categorical\n",
      "... storing 'NormFactorNeg_01' as categorical\n",
      "... storing 'NormFactorQ3' as categorical\n",
      "... storing 'NormFactorHK' as categorical\n",
      "... storing 'GeoLOD2.0_01' as categorical\n",
      "... storing 'DetectedGenes2.0' as categorical\n",
      "... storing 'Manifest ID' as categorical\n",
      "... storing 'Tag' as categorical\n",
      "... storing 'Reads, count' as categorical\n",
      "... storing 'Reads, %' as categorical\n",
      "... storing 'ORDER' as categorical\n",
      "... storing 'construct' as categorical\n",
      "... storing 'instrument_type' as categorical\n",
      "... storing 'read_pattern' as categorical\n",
      "... storing 'ngs_prep' as categorical\n",
      "... storing 'ngs_repnum' as categorical\n",
      "... storing 'pcr_primer_plate' as categorical\n",
      "... storing 'pcr_primer_well' as categorical\n",
      "... storing 'Index 1' as categorical\n",
      "... storing 'Barcode 1' as categorical\n",
      "... storing 'Index 2' as categorical\n",
      "... storing '\\tBarcode 2' as categorical\n",
      "... storing 'dsp_plate' as categorical\n",
      "... storing 'segment_type' as categorical\n",
      "... storing 'roi_dimension' as categorical\n",
      "... storing 'dsp_date' as categorical\n",
      "... storing 'dsp_well' as categorical\n",
      "... storing 'human_sample_ID' as categorical\n",
      "... storing 'slide_barcode' as categorical\n",
      "... storing 'source_ID' as categorical\n",
      "... storing 'Sanger_sampleID' as categorical\n",
      "... storing 'VCDepth' as categorical\n",
      "... storing 'AOI_type' as categorical\n",
      "... storing 'Radial_position' as categorical\n",
      "... storing 'Region' as categorical\n",
      "... storing 'DSP_Sample_ID' as categorical\n",
      "... storing 'Plate' as categorical\n",
      "... storing 'GeoLOD2.5_01' as categorical\n",
      "... storing 'GoodQuality' as categorical\n",
      "... storing 'TotalCounts' as categorical\n",
      "... storing 'batch' as categorical\n",
      "... storing 'Donor' as categorical\n"
     ]
    }
   ],
   "source": [
    "adata.write_h5ad('/nfs/team283/aa16/KR_NAS/data/FetalBrain_AllData_AnnData.h5ad')"
   ]
  },
  {
   "cell_type": "code",
   "execution_count": null,
   "metadata": {},
   "outputs": [],
   "source": []
  }
 ],
 "metadata": {
  "kernelspec": {
   "display_name": "Python [conda env:cellpymc]",
   "language": "python",
   "name": "conda-env-cellpymc-py"
  },
  "language_info": {
   "codemirror_mode": {
    "name": "ipython",
    "version": 3
   },
   "file_extension": ".py",
   "mimetype": "text/x-python",
   "name": "python",
   "nbconvert_exporter": "python",
   "pygments_lexer": "ipython3",
   "version": "3.7.11"
  }
 },
 "nbformat": 4,
 "nbformat_minor": 4
}
