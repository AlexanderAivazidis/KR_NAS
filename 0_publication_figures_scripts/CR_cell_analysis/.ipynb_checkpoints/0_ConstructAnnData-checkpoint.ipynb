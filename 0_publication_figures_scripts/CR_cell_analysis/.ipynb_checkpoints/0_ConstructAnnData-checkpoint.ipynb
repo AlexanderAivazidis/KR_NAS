{
 "cells": [
  {
   "cell_type": "code",
   "execution_count": 1,
   "metadata": {},
   "outputs": [],
   "source": [
    "import pickle\n",
    "import scanpy as sc\n",
    "import anndata\n",
    "import pandas as pd\n",
    "import numpy as np\n",
    "import matplotlib.pyplot as plt\n",
    "import seaborn as sns\n",
    "import sys, os\n",
    "path = '/nfs/team283/aa16/KR_NAS/'\n",
    "os.chdir(path)\n",
    "sys.path.append(path)\n",
    "from IPython.display import Image\n",
    "data_type = 'float32'\n",
    "os.environ[\"THEANO_FLAGS\"] = 'device=cuda,floatX=' + data_type + ',force_device=True' + ',dnn.enabled=False'\n",
    "import matplotlib\n",
    "matplotlib.rcParams['pdf.fonttype'] = 42\n",
    "matplotlib.rcParams['ps.fonttype'] = 42"
   ]
  },
  {
   "cell_type": "markdown",
   "metadata": {},
   "source": [
    "Construct AnnData object:"
   ]
  },
  {
   "cell_type": "code",
   "execution_count": 2,
   "metadata": {},
   "outputs": [
    {
     "name": "stdout",
     "output_type": "stream",
     "text": [
      "89\n",
      "['DSP-1001250001588-C-A02', 'DSP-1001250001588-C-A03', 'DSP-1001250001588-C-A04', 'DSP-1001250001588-C-A05', 'DSP-1001250001588-C-A06', 'DSP-1001250001588-C-A07', 'DSP-1001250001588-C-A08', 'DSP-1001250001588-C-A09', 'DSP-1001250001588-C-A10', 'DSP-1001250001588-C-A11', 'DSP-1001250001588-C-A12', 'DSP-1001250001588-C-B01', 'DSP-1001250001588-C-B03', 'DSP-1001250001588-C-B06', 'DSP-1001250001588-C-B09', 'DSP-1001250001588-C-B12', 'DSP-1001250001588-C-C01', 'DSP-1001250001588-C-C03', 'DSP-1001250001588-C-C06', 'DSP-1001250001588-C-C09', 'DSP-1001250001588-C-C12', 'DSP-1001250001588-C-D01', 'DSP-1001250001588-C-D03', 'DSP-1001250001588-C-D06', 'DSP-1001250001588-C-D09', 'DSP-1001250001588-C-D12', 'DSP-1001250001588-C-E01', 'DSP-1001250001588-C-E03', 'DSP-1001250001588-C-E06', 'DSP-1001250001588-C-E09', 'DSP-1001250001588-C-E12', 'DSP-1001250001588-C-F03', 'DSP-1001250001588-C-F06', 'DSP-1001250001588-C-F09', 'DSP-1001250001588-C-F12', 'DSP-1001250001588-C-G03', 'DSP-1001250001588-C-G06', 'DSP-1001250001588-C-G09', 'DSP-1001250001588-C-G12', 'DSP-1001250001588-C-H03', 'DSP-1001250001588-C-H06', 'DSP-1001250001588-C-H09', 'DSP-1001250001588-C-H12', 'DSP-1001250001589-E-A04', 'DSP-1001250001589-E-A07', 'DSP-1001250001589-E-A10', 'DSP-1001250001589-E-B01', 'DSP-1001250001589-E-B04', 'DSP-1001250001589-E-B07', 'DSP-1001250001589-E-B10', 'DSP-1001250001586-D-A03', 'DSP-1001250001586-D-A06', 'DSP-1001250001586-D-A09', 'DSP-1001250001586-D-A12', 'DSP-1001250001586-D-B03', 'DSP-1001250001586-D-B06', 'DSP-1001250001586-D-B09', 'DSP-1001250001586-D-B12', 'DSP-1001250001586-D-C03', 'DSP-1001250001586-D-C06', 'DSP-1001250001586-D-C09', 'DSP-1001250001586-D-C12', 'DSP-1001250001586-D-D03', 'DSP-1001250001586-D-D06', 'DSP-1001250001586-D-D09', 'DSP-1001250001586-D-D12', 'DSP-1001250001586-D-E03', 'DSP-1001250001586-D-E06', 'DSP-1001250001586-D-E09', 'DSP-1001250001586-D-E12', 'DSP-1001250001586-D-F03', 'DSP-1001250001586-D-F06', 'DSP-1001250001586-D-F09', 'DSP-1001250001586-D-F12', 'DSP-1001250001586-D-G03', 'DSP-1001250001586-D-G06', 'DSP-1001250001586-D-G09', 'DSP-1001250001586-D-G12', 'DSP-1001250001586-D-H01', 'DSP-1001250001586-D-H03', 'DSP-1001250001586-D-H06', 'DSP-1001250001586-D-H09', 'DSP-1001250001587-B-A04', 'DSP-1001250001587-B-A07', 'DSP-1001250001587-B-A10', 'DSP-1001250001587-B-B01', 'DSP-1001250001587-B-B04', 'DSP-1001250001587-B-B07', 'DSP-1001250001587-B-B10']\n",
      "145\n",
      "0\n"
     ]
    },
    {
     "name": "stderr",
     "output_type": "stream",
     "text": [
      "/nfs/team283/aa16/software/miniconda3/envs/cellpymc/lib/python3.7/site-packages/IPython/core/interactiveshell.py:3170: DtypeWarning: Columns (8,10) have mixed types.Specify dtype option on import or set low_memory=False.\n",
      "  interactivity=interactivity, compiler=compiler, result=result)\n",
      "/nfs/team283/aa16/software/miniconda3/envs/cellpymc/lib/python3.7/site-packages/pandas/core/indexing.py:1637: SettingWithCopyWarning: \n",
      "A value is trying to be set on a copy of a slice from a DataFrame\n",
      "\n",
      "See the caveats in the documentation: https://pandas.pydata.org/pandas-docs/stable/user_guide/indexing.html#returning-a-view-versus-a-copy\n",
      "  self._setitem_single_block(indexer, value, name)\n"
     ]
    },
    {
     "data": {
      "text/plain": [
       "Series([], Name: nuclei, dtype: int64)"
      ]
     },
     "execution_count": 2,
     "metadata": {},
     "output_type": "execute_result"
    }
   ],
   "source": [
    "counts = pd.read_table('data/ns_tic1106_outputs/Run2_TargetCountMatrix.txt')\n",
    "genes = counts['TargetName']\n",
    "counts = counts.drop('TargetName',1)\n",
    "counts = counts.rename(index=genes)\n",
    "counts = counts.astype('int')\n",
    "metadata = pd.read_csv('data/NS_DSP CR annotations.csv')\n",
    "metadata = metadata.rename(index=metadata['Sample_ID'])\n",
    "print(len([c for c in metadata.index if c not in np.array(counts.columns)]))\n",
    "print([c for c in metadata.index if c not in np.array(counts.columns)])\n",
    "print(len([c for c in metadata.index if c in np.array(counts.columns)]))\n",
    "print(len([c for c in np.array(counts.columns) if c not in metadata.index]))\n",
    "metadata = metadata.loc[~pd.isna(metadata.index),:]\n",
    "metadata = metadata.reindex(np.array(counts.columns))\n",
    "properties = pd.read_table('data/ns_tic1106_outputs/Run2_SegmentProperties.txt')\n",
    "properties = properties.rename(index=properties['Sample_ID'])\n",
    "properties = properties.reindex(np.array(metadata.index))\n",
    "properties = properties.drop(labels='Sample_ID', axis = 1)\n",
    "probe_counts = pd.read_table('data/ns_tic1106_outputs/Run2_BioProbeCountMatrix.txt')\n",
    "genes = probe_counts['TargetName']\n",
    "probe_counts = probe_counts.drop(['TargetName', 'ProbeName', 'ProbeDisplayName', 'TargetName', 'HUGOSymbol',\n",
    "                                 'Accessions', 'GenomeBuild', 'GenomicPosition', 'GlobalOutlier', 'GlobalOutlierReason',\n",
    "                                 'OutlierFrequency', 'OutlierAOIs', 'Gene'],1)\n",
    "probe_counts = probe_counts.rename(index=genes)\n",
    "probe_counts = probe_counts.astype('int')\n",
    "negprobe_counts = probe_counts.loc[probe_counts.index == 'NegProbe-WTX', ]\n",
    "negprobe_counts.index = negprobe_counts.index + '-' + [str(x) for x in range(len(negprobe_counts.index))]\n",
    "adata = sc.AnnData(X=np.array(counts).T, obs=pd.concat((metadata, properties), axis = 1), var=np.array(counts.index))\n",
    "adata.var_names = counts.index\n",
    "adata.obsm['negProbes'] = negprobe_counts.T\n",
    "adata.obs['GeoLOD2.0_01'] = adata.obs['NegGeoMean_01'] * adata.obs['NegGeoSD_01']**2\n",
    "adata.obs['DetectedGenes2.0'] = np.sum(np.array([adata.X[i,:] >= adata.obs['GeoLOD2.0_01'].iloc[i] for i in range(len(adata.X[:,1]))]), axis = 1)\n",
    "adata.var['SYMBOL'] = adata.var[0]\n",
    "adata.var = adata.var.drop(0, axis = 1)\n",
    "adata.var.index = [str(x) for x in range(len(adata.var.index))]\n",
    "adata.obs['nuclei'].loc[adata.obs['nuclei'] == 0] = 5\n",
    "adata.obs['nuclei'].loc[adata.obs['nuclei'] == 0]"
   ]
  },
  {
   "cell_type": "markdown",
   "metadata": {},
   "source": [
    "See what data we have:"
   ]
  },
  {
   "cell_type": "code",
   "execution_count": 3,
   "metadata": {},
   "outputs": [
    {
     "data": {
      "text/plain": [
       "Foetal brain (frontal lobe) CRcells Hob8       12\n",
       "Foetal brain (occipital lobe) CRcells Hob7     12\n",
       "Foetal brain (frontal lobe) Residual Hob8      12\n",
       "Foetal brain (occipital lobe) Residual Hob7    12\n",
       "Foetal brain (temporal lobe) CRcells Hob8      10\n",
       "Foetal brain (temporal lobe) CRcells Hob7      10\n",
       "Foetal brain (temporal lobe) Residual Hob7     10\n",
       "Foetal brain (temporal lobe) Residual Hob8      9\n",
       "Foetal brain (parietal lobe) Residual Hob8      9\n",
       "Foetal brain (parietal lobe) CRcells Hob8       9\n",
       "Foetal brain (occipital lobe) Residual Hob8     8\n",
       "Foetal brain (occipital lobe) CRcells Hob8      8\n",
       "Foetal brain (parietal lobe) CRcells Hob7       7\n",
       "Foetal brain (frontal lobe) CRcells Hob7        6\n",
       "Foetal brain (frontal lobe) Residual Hob7       5\n",
       "Foetal brain (parietal lobe) Residual Hob7      5\n",
       "Foetal brain (occipital lobe) Rings Hob8        1\n",
       "dtype: int64"
      ]
     },
     "execution_count": 3,
     "metadata": {},
     "output_type": "execute_result"
    }
   ],
   "source": [
    "adata.obs['Donor'] = [str(x).split('-')[0] for x in adata.obs['Sample slide ID']]\n",
    "(adata.obs['Tissue'].astype(str) + ' ' + adata.obs['Pool'].astype(str)\n",
    " + ' ' + adata.obs['Donor'].astype(str)).value_counts()"
   ]
  },
  {
   "cell_type": "markdown",
   "metadata": {},
   "source": [
    "Look at some more sanity checks:"
   ]
  },
  {
   "cell_type": "code",
   "execution_count": 4,
   "metadata": {},
   "outputs": [
    {
     "name": "stdout",
     "output_type": "stream",
     "text": [
      "CR cell ROIs mean nuclei: 23.445945945945947\n",
      "Residual ROIs mean nuclei: 136.55714285714285\n",
      "CR cell ROIs mean RELN expression: 415.3784\n",
      "Residual ROIs mean RELN expression: 13.985714\n",
      "Frontal Cortex ROIs mean NR2F1 expression: 19.028572\n",
      "Occipital Cortex ROIs mean NR2F1 expression: 47.048782\n",
      "Input data looks sensible.\n"
     ]
    }
   ],
   "source": [
    "# Number of nuclei per AOI type:\n",
    "print('CR cell ROIs mean nuclei:', np.mean(adata.obs['nuclei'].loc[adata.obs['Pool'] == 'CRcells']))\n",
    "print('Residual ROIs mean nuclei:', np.mean(adata.obs['nuclei'].loc[adata.obs['Pool'] == 'Residual']))\n",
    "# RELN expression per AOI type:\n",
    "print('CR cell ROIs mean RELN expression:', np.mean(adata[adata.obs['Pool'] == 'CRcells',np.array(adata.var == 'RELN')].X))\n",
    "print('Residual ROIs mean RELN expression:', np.mean(adata[adata.obs['Pool'] == 'Residual',np.array(adata.var == 'RELN')].X))\n",
    "# NR2F1 expression in Frontal vs Occipital:\n",
    "print('Frontal Cortex ROIs mean NR2F1 expression:', np.mean(adata[adata.obs['Tissue'] == 'Foetal brain (frontal lobe)', np.array(adata.var == 'NR2F1')].X))\n",
    "print('Occipital Cortex ROIs mean NR2F1 expression:', np.mean(adata[adata.obs['Tissue'] == 'Foetal brain (occipital lobe)', np.array(adata.var == 'NR2F1')].X))\n",
    "\n",
    "if np.mean(adata.obs['nuclei'].loc[adata.obs['Pool'] == 'CRcells']) > np.mean(adata.obs['nuclei'].loc[adata.obs['Pool'] == 'Residual']):\n",
    "    raise ValueError()\n",
    "elif np.mean(adata[adata.obs['Pool'] == 'CRcells',np.array(adata.var == 'RELN')].X) < np.mean(adata[adata.obs['Pool'] == 'Residual',np.array(adata.var == 'RELN')].X):\n",
    "    raise ValueError()\n",
    "elif np.mean(adata[adata.obs['Tissue'] == 'Foetal brain (frontal lobe)', np.array(adata.var == 'NR2F1')].X) > np.mean(adata[adata.obs['Tissue'] == 'Foetal brain (occipital lobe)', np.array(adata.var == 'NR2F1')].X):\n",
    "    raise ValueError()\n",
    "else:\n",
    "    print('Input data looks sensible.')"
   ]
  },
  {
   "cell_type": "markdown",
   "metadata": {},
   "source": [
    "Save for later use:"
   ]
  },
  {
   "cell_type": "code",
   "execution_count": 11,
   "metadata": {},
   "outputs": [
    {
     "name": "stderr",
     "output_type": "stream",
     "text": [
      "... storing 'slide name' as categorical\n",
      "... storing 'scan name' as categorical\n",
      "... storing 'panel' as categorical\n",
      "... storing 'Type' as categorical\n",
      "... storing 'Species' as categorical\n",
      "... storing 'Age' as categorical\n",
      "... storing 'Background' as categorical\n",
      "... storing 'Tissue' as categorical\n",
      "... storing 'Slide code' as categorical\n",
      "... storing 'Sample slide ID' as categorical\n",
      "... storing 'TR' as categorical\n",
      "... storing 'Cy5' as categorical\n",
      "... storing 'Cy3' as categorical\n",
      "... storing 'Pool' as categorical\n",
      "... storing 'Collection plate' as categorical\n",
      "... storing 'Well' as categorical\n",
      "... storing 'PCR plate' as categorical\n",
      "... storing 'PCR well' as categorical\n",
      "... storing 'Primer plate' as categorical\n",
      "... storing 'Primer well' as categorical\n",
      "... storing 'Notes' as categorical\n"
     ]
    }
   ],
   "source": [
    "adata.write_h5ad('/nfs/team283/aa16/KR_NAS/data/CR_cells_AnnData.h5ad')"
   ]
  },
  {
   "cell_type": "code",
   "execution_count": null,
   "metadata": {},
   "outputs": [],
   "source": []
  }
 ],
 "metadata": {
  "kernelspec": {
   "display_name": "Python [conda env:cellpymc]",
   "language": "python",
   "name": "conda-env-cellpymc-py"
  },
  "language_info": {
   "codemirror_mode": {
    "name": "ipython",
    "version": 3
   },
   "file_extension": ".py",
   "mimetype": "text/x-python",
   "name": "python",
   "nbconvert_exporter": "python",
   "pygments_lexer": "ipython3",
   "version": "3.7.11"
  }
 },
 "nbformat": 4,
 "nbformat_minor": 4
}
