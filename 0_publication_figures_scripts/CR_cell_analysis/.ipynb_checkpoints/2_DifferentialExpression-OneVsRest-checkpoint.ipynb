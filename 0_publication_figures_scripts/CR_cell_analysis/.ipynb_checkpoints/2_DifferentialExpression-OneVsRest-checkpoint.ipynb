{
 "cells": [
  {
   "cell_type": "code",
   "execution_count": 1,
   "metadata": {},
   "outputs": [],
   "source": [
    "import sys,os\n",
    "import pickle\n",
    "import anndata\n",
    "import pandas as pd\n",
    "import numpy as np\n",
    "import scanpy as sc\n",
    "import diffxpy.api as de\n",
    "import statsmodels.stats.multitest as multi"
   ]
  },
  {
   "cell_type": "code",
   "execution_count": 2,
   "metadata": {},
   "outputs": [],
   "source": [
    "adata = sc.read_h5ad(open(\"/nfs/team283/aa16/KR_NAS/data/CR_cells_AnnData.h5ad\", \"rb\"))"
   ]
  },
  {
   "cell_type": "code",
   "execution_count": null,
   "metadata": {},
   "outputs": [],
   "source": [
    "# Number of nuclei per AOI type:\n",
    "print('CR cell ROIs mean nuclei:', np.mean(adata.obs['nuclei'].loc[adata.obs['Pool'] == 'CRcells']))\n",
    "print('Residual ROIs mean nuclei:', np.mean(adata.obs['nuclei'].loc[adata.obs['Pool'] == 'Residual']))\n",
    "# RELN expression per AOI type:\n",
    "print('CR cell ROIs mean RELN expression:', np.mean(adata[adata.obs['Pool'] == 'CRcells',np.array(adata.var == 'RELN')].X))\n",
    "print('Residual ROIs mean RELN expression:', np.mean(adata[adata.obs['Pool'] == 'Residual',np.array(adata.var == 'RELN')].X))\n",
    "# NR2F1 expression in Frontal vs Occipital:\n",
    "print('Frontal Cortex ROIs mean RELN expression:', np.mean(adata[adata.obs['Tissue'] == 'Foetal brain (frontal lobe)', np.array(adata.var == 'NR2F1')].X))\n",
    "print('Occipital Cortex ROIs mean RELN expression:', np.mean(adata[adata.obs['Tissue'] == 'Foetal brain (occipital lobe)', np.array(adata.var == 'NR2F1')].X))\n",
    "\n",
    "if np.mean(adata.obs['nuclei'].loc[adata.obs['Pool'] == 'CRcells']) > np.mean(adata.obs['nuclei'].loc[adata.obs['Pool'] == 'Residual']):\n",
    "    raise ValueError()\n",
    "elif np.mean(adata[adata.obs['Pool'] == 'CRcells',np.array(adata.var == 'RELN')].X) < np.mean(adata[adata.obs['Pool'] == 'Residual',np.array(adata.var == 'RELN')].X):\n",
    "    raise ValueError()\n",
    "elif np.mean(adata[adata.obs['Tissue'] == 'Foetal brain (frontal lobe)', np.array(adata.var == 'NR2F1')].X) > np.mean(adata[adata.obs['Tissue'] == 'Foetal brain (occipital lobe)', np.array(adata.var == 'NR2F1')].X):\n",
    "    raise ValueError()\n",
    "else:\n",
    "    print('Input data looks sensible.')"
   ]
  },
  {
   "cell_type": "code",
   "execution_count": 3,
   "metadata": {},
   "outputs": [],
   "source": [
    "adata.var_names = adata.var['SYMBOL']"
   ]
  },
  {
   "cell_type": "code",
   "execution_count": 4,
   "metadata": {},
   "outputs": [],
   "source": [
    "adata = adata[adata.obs['Pool'] == 'CRcells',:]"
   ]
  },
  {
   "cell_type": "code",
   "execution_count": 5,
   "metadata": {},
   "outputs": [],
   "source": [
    "adata.X = adata.layers['X_corrected_naive_cpm']"
   ]
  },
  {
   "cell_type": "code",
   "execution_count": 6,
   "metadata": {},
   "outputs": [
    {
     "data": {
      "text/plain": [
       "Foetal brain (temporal lobe)     20\n",
       "Foetal brain (occipital lobe)    20\n",
       "Foetal brain (frontal lobe)      18\n",
       "Foetal brain (parietal lobe)     16\n",
       "Name: Tissue, dtype: int64"
      ]
     },
     "execution_count": 6,
     "metadata": {},
     "output_type": "execute_result"
    }
   ],
   "source": [
    "adata.obs['Tissue'].value_counts()"
   ]
  },
  {
   "cell_type": "code",
   "execution_count": 7,
   "metadata": {},
   "outputs": [
    {
     "name": "stdout",
     "output_type": "stream",
     "text": [
      "Foetal brain (frontal lobe)\n"
     ]
    },
    {
     "name": "stderr",
     "output_type": "stream",
     "text": [
      "/nfs/users/nfs_a/aa16/.local/lib/python3.7/site-packages/pandas/core/indexing.py:670: SettingWithCopyWarning: \n",
      "A value is trying to be set on a copy of a slice from a DataFrame\n",
      "\n",
      "See the caveats in the documentation: https://pandas.pydata.org/pandas-docs/stable/user_guide/indexing.html#returning-a-view-versus-a-copy\n",
      "  iloc._setitem_with_indexer(indexer, value)\n"
     ]
    },
    {
     "name": "stdout",
     "output_type": "stream",
     "text": [
      "Foetal brain (occipital lobe)\n",
      "Foetal brain (parietal lobe)\n",
      "Foetal brain (temporal lobe)\n"
     ]
    }
   ],
   "source": [
    "res = {}\n",
    "for a in np.unique(adata.obs['Tissue']):\n",
    "    print(a)\n",
    "    adata_subset = adata.copy()\n",
    "    adata_subset.obs['Tissue'] = adata_subset.obs['Tissue'].astype(str)\n",
    "    adata_subset.obs['Tissue'].loc[adata_subset.obs['Tissue'] != a] = 'AA'\n",
    "    res[a] = de.test.rank_test(\n",
    "        data=adata_subset,\n",
    "        grouping=\"Tissue\",\n",
    "        is_logged=False\n",
    "    ).summary()"
   ]
  },
  {
   "cell_type": "code",
   "execution_count": 15,
   "metadata": {},
   "outputs": [
    {
     "name": "stdout",
     "output_type": "stream",
     "text": [
      "Foetal brain (frontal lobe)\n",
      "0\n",
      "0\n",
      "Foetal brain (occipital lobe)\n",
      "1\n",
      "1\n",
      "Foetal brain (parietal lobe)\n",
      "0\n",
      "0\n",
      "Foetal brain (temporal lobe)\n",
      "6\n",
      "6\n"
     ]
    }
   ],
   "source": [
    "for a in np.unique(adata.obs['Tissue']):\n",
    "    print(a)\n",
    "    res[a]['log2_mean_' + a] = np.array(np.log2(np.mean(adata[adata.obs['Tissue'] == a,res[a].loc[:,'gene']].X, axis = 0)))\n",
    "    res[a]['log2_mean_Rest'] = np.array(np.log2(np.mean(adata[adata.obs['Tissue'] != a,res[a].loc[:,'gene']].X, axis = 0)))\n",
    "    res[a] = res[a].sort_values('pval')\n",
    "#     res[a] = res[a].drop(['zero_mean', 'zero_variance', 'mean'], axis = 1)\n",
    "    print(np.sum(res[a].loc[:,'qval'] < 0.05))\n",
    "    print(np.sum([res[a].loc[:,'qval'].iloc[i] < 0.05\n",
    " and np.abs(res[a].loc[:,'log2fc'].iloc[i]) > 0.5\n",
    " for i in range(len(res[a].loc[:,'qval']))]))\n",
    "    res[a].to_csv('/nfs/team283/aa16/KR_NAS/resultLists/CR_DE_' + a + '_markers.csv', index = False)"
   ]
  },
  {
   "cell_type": "code",
   "execution_count": null,
   "metadata": {},
   "outputs": [],
   "source": []
  }
 ],
 "metadata": {
  "kernelspec": {
   "display_name": "Python [conda env:cellpymc]",
   "language": "python",
   "name": "conda-env-cellpymc-py"
  },
  "language_info": {
   "codemirror_mode": {
    "name": "ipython",
    "version": 3
   },
   "file_extension": ".py",
   "mimetype": "text/x-python",
   "name": "python",
   "nbconvert_exporter": "python",
   "pygments_lexer": "ipython3",
   "version": "3.7.11"
  }
 },
 "nbformat": 4,
 "nbformat_minor": 4
}
