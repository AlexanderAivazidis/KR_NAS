{
 "cells": [
  {
   "cell_type": "code",
   "execution_count": 1,
   "metadata": {},
   "outputs": [
    {
     "name": "stderr",
     "output_type": "stream",
     "text": [
      "Can not use cuDNN on context None: Disabled by dnn.enabled flag\n",
      "Mapped name None to device cuda: Tesla V100-SXM2-32GB (0000:62:00.0)\n"
     ]
    }
   ],
   "source": [
    "import pickle\n",
    "import scanpy as sc\n",
    "import anndata\n",
    "import pandas as pd\n",
    "import numpy as np\n",
    "import matplotlib.pyplot as plt\n",
    "import seaborn as sns\n",
    "import sys, os\n",
    "path = '/nfs/team283/aa16/KR_NAS/'\n",
    "os.chdir(path)\n",
    "sys.path.append(path)\n",
    "from IPython.display import Image\n",
    "data_type = 'float32'\n",
    "os.environ[\"THEANO_FLAGS\"] = 'device=cuda,floatX=' + data_type + ',force_device=True' + ',dnn.enabled=False'\n",
    "import matplotlib\n",
    "matplotlib.rcParams['pdf.fonttype'] = 42\n",
    "matplotlib.rcParams['ps.fonttype'] = 42\n",
    "import countcorrect as cc"
   ]
  },
  {
   "cell_type": "markdown",
   "metadata": {},
   "source": [
    "Load Data:"
   ]
  },
  {
   "cell_type": "code",
   "execution_count": 2,
   "metadata": {},
   "outputs": [],
   "source": [
    "adata = sc.read_h5ad('/nfs/team283/aa16/KR_NAS/data/CR_cells_19pcw+14pcw_AnnData.h5ad')"
   ]
  },
  {
   "cell_type": "code",
   "execution_count": 3,
   "metadata": {},
   "outputs": [],
   "source": [
    "adata = adata[adata.obs['slide name'] != 'No Template Control',:]"
   ]
  },
  {
   "cell_type": "code",
   "execution_count": 4,
   "metadata": {},
   "outputs": [
    {
     "name": "stdout",
     "output_type": "stream",
     "text": [
      "Gene Probe Counts: \n",
      " \n",
      " [[ 1.  1.  1. ...  5.  1.  1.]\n",
      " [ 3.  7.  5. ... 10.  4.  4.]\n",
      " [ 2.  1.  4. ...  8.  2.  5.]\n",
      " ...\n",
      " [ 6.  8. 69. ... 30.  9.  9.]\n",
      " [ 1.  1. 11. ... 16.  5.  1.]\n",
      " [ 9. 18. 99. ... 48. 13. 23.]] \n",
      "\n",
      "Negative Probe Counts: \n",
      " \n",
      " [[ 1  3  1 ... 16  0  4]\n",
      " [ 5  4  7 ... 17  2  2]\n",
      " [ 3  0  1 ...  3  0  0]\n",
      " ...\n",
      " [14 11 10 ... 14 13 10]\n",
      " [ 2  2  4 ...  8  3  4]\n",
      " [19 18 19 ... 39  9 16]] \n",
      "\n",
      "Nuclei Counts: \n",
      " \n",
      " DSP-1001250001586-D-A02-0      5.0\n",
      "DSP-1001250001586-D-A04-0    118.0\n",
      "DSP-1001250001586-D-A05-0     10.0\n",
      "DSP-1001250001586-D-A07-0    100.0\n",
      "DSP-1001250001586-D-A08-0      5.0\n",
      "                             ...  \n",
      "HCA_F_BRA11360569-1           52.0\n",
      "HCA_F_BRA11360571-1           31.0\n",
      "HCA_F_BRA11360572-1          122.0\n",
      "HCA_F_BRA11360574-1           37.0\n",
      "HCA_F_BRA11360575-1          121.0\n",
      "Name: nuclei, Length: 225, dtype: float64 \n",
      "\n",
      "Slide Names: \n",
      " \n",
      " DSP-1001250001586-D-A02-0    NS_DSP_01CY\n",
      "DSP-1001250001586-D-A04-0    NS_DSP_01CY\n",
      "DSP-1001250001586-D-A05-0    NS_DSP_01CY\n",
      "DSP-1001250001586-D-A07-0    NS_DSP_01CY\n",
      "DSP-1001250001586-D-A08-0    NS_DSP_01CY\n",
      "                                ...     \n",
      "HCA_F_BRA11360569-1          NS_DSP_01FS\n",
      "HCA_F_BRA11360571-1          NS_DSP_01FS\n",
      "HCA_F_BRA11360572-1          NS_DSP_01FS\n",
      "HCA_F_BRA11360574-1          NS_DSP_01FS\n",
      "HCA_F_BRA11360575-1          NS_DSP_01FS\n",
      "Name: slide name, Length: 225, dtype: category\n",
      "Categories (11, object): ['NS_DSP_01CU', 'NS_DSP_01CV', 'NS_DSP_01CW', 'NS_DSP_01CX', ..., 'NS_DSP_01D1', 'NS_DSP_01FQ', 'NS_DSP_01FR', 'NS_DSP_01FS'] \n",
      "\n"
     ]
    }
   ],
   "source": [
    "counts_geneProbes = adata.X[:,adata.var_names != 'NegProbe-WTX']\n",
    "counts_negativeProbes = np.array(adata.obsm['negProbes'])\n",
    "counts_nuclei = adata.obs['nuclei'].astype(float)\n",
    "names_slides = adata.obs['slide name']\n",
    "print('Gene Probe Counts: \\n \\n', counts_geneProbes, '\\n')\n",
    "print('Negative Probe Counts: \\n \\n', counts_negativeProbes, '\\n')\n",
    "print('Nuclei Counts: \\n \\n', counts_nuclei, '\\n')\n",
    "print('Slide Names: \\n \\n', names_slides, '\\n')"
   ]
  },
  {
   "cell_type": "markdown",
   "metadata": {},
   "source": [
    "Check what ROI types we have:"
   ]
  },
  {
   "cell_type": "code",
   "execution_count": 5,
   "metadata": {},
   "outputs": [
    {
     "data": {
      "text/plain": [
       "Foetal brain (occipital lobe) Residual    36\n",
       "Foetal brain (frontal lobe) Residual      33\n",
       "Foetal brain (temporal lobe) Residual     27\n",
       "Foetal brain (temporal lobe) CRcells      20\n",
       "Foetal brain (occipital lobe) CRcells     20\n",
       "Foetal brain (frontal lobe) CRcells       18\n",
       "Foetal brain (parietal lobe) CRcells      16\n",
       "Foetal brain (frontal lobe) CRcellsB      16\n",
       "Foetal brain (occipital lobe) CRcellsB    16\n",
       "Foetal brain (parietal lobe) Residual     14\n",
       "Foetal brain (temporal lobe) CRcellsB      8\n",
       "Foetal brain (occipital lobe) Rings        1\n",
       "dtype: int64"
      ]
     },
     "execution_count": 5,
     "metadata": {},
     "output_type": "execute_result"
    }
   ],
   "source": [
    "(adata.obs['Tissue'].astype(str) + ' ' + adata.obs['Pool'].astype(str)).value_counts()"
   ]
  },
  {
   "cell_type": "markdown",
   "metadata": {},
   "source": [
    "Remove Background with Naive Method and save in AnnData object:"
   ]
  },
  {
   "cell_type": "code",
   "execution_count": 6,
   "metadata": {},
   "outputs": [],
   "source": [
    "counts_geneProbes = np.asarray(adata.X)\n",
    "counts_negativeProbes = np.asarray(adata.obsm['negProbes'])\n",
    "# Nuclei counts can be empty for naive method:\n",
    "counts_nuclei = np.array(adata.obs['nuclei'].astype(float)).reshape(len(adata.obs['nuclei']))"
   ]
  },
  {
   "cell_type": "code",
   "execution_count": 7,
   "metadata": {},
   "outputs": [
    {
     "name": "stdout",
     "output_type": "stream",
     "text": [
      "Using naive model\n",
      "Done.\n"
     ]
    }
   ],
   "source": [
    "output_naive = cc.run_countcorrect(counts_geneProbes, counts_negativeProbes, counts_nuclei, naive  = True)"
   ]
  },
  {
   "cell_type": "code",
   "execution_count": 8,
   "metadata": {},
   "outputs": [],
   "source": [
    "adata.layers['X_corrected_naive'] = output_naive['RawCounts']\n",
    "adata.layers['X_corrected_naive_cpm'] = output_naive['NormCounts']"
   ]
  },
  {
   "cell_type": "code",
   "execution_count": 9,
   "metadata": {},
   "outputs": [
    {
     "name": "stdout",
     "output_type": "stream",
     "text": [
      "Initializing model...\n",
      "Using multi-slide model\n",
      "Fitting model ...\n"
     ]
    },
    {
     "data": {
      "text/html": [
       "\n",
       "    <div>\n",
       "        <style>\n",
       "            /* Turns off some styling */\n",
       "            progress {\n",
       "                /* gets rid of default border in Firefox and Opera. */\n",
       "                border: none;\n",
       "                /* Needs to be in here for Safari polyfill so background images work as expected. */\n",
       "                background-size: auto;\n",
       "            }\n",
       "            .progress-bar-interrupted, .progress-bar-interrupted::-webkit-progress-bar {\n",
       "                background: #F44336;\n",
       "            }\n",
       "        </style>\n",
       "      <progress value='20000' class='' max='20000' style='width:300px; height:20px; vertical-align: middle;'></progress>\n",
       "      100.00% [20000/20000 12:39<00:00 Average Loss = 9.3439e+06]\n",
       "    </div>\n",
       "    "
      ],
      "text/plain": [
       "<IPython.core.display.HTML object>"
      ]
     },
     "metadata": {},
     "output_type": "display_data"
    },
    {
     "name": "stderr",
     "output_type": "stream",
     "text": [
      "Finished [100%]: Average Loss = 9.3441e+06\n"
     ]
    },
    {
     "name": "stdout",
     "output_type": "stream",
     "text": [
      "[<matplotlib.lines.Line2D object at 0x1488aae02490>]\n",
      "[<matplotlib.lines.Line2D object at 0x1488aae02810>]\n"
     ]
    },
    {
     "data": {
      "image/png": "[encoded data removed]",
      "text/plain": [
       "<Figure size 432x288 with 1 Axes>"
      ]
     },
     "metadata": {
      "needs_background": "light"
     },
     "output_type": "display_data"
    },
    {
     "name": "stdout",
     "output_type": "stream",
     "text": [
      "[<matplotlib.lines.Line2D object at 0x1488ab4d9290>]\n"
     ]
    },
    {
     "data": {
      "image/png": "[encoded data removed]",
      "text/plain": [
       "<Figure size 432x288 with 1 Axes>"
      ]
     },
     "metadata": {
      "needs_background": "light"
     },
     "output_type": "display_data"
    },
    {
     "name": "stdout",
     "output_type": "stream",
     "text": [
      "Sampling from posterior distribution...\n",
      "Done.\n"
     ]
    }
   ],
   "source": [
    "output_cc = cc.run_countcorrect(counts_geneProbes, counts_negativeProbes, counts_nuclei, slide_id= names_slides,\n",
    "                                naive  = False)"
   ]
  },
  {
   "cell_type": "code",
   "execution_count": 10,
   "metadata": {},
   "outputs": [],
   "source": [
    "adata.layers['X_corrected_cc'] = output_cc['RawCounts']\n",
    "adata.layers['X_corrected_cc_cpm'] = output_cc['NormCounts']"
   ]
  },
  {
   "cell_type": "code",
   "execution_count": 11,
   "metadata": {},
   "outputs": [],
   "source": [
    "adata.write_h5ad('/nfs/team283/aa16/KR_NAS/data/CR_cells_19pcw+14pcw_AnnData_1.h5ad')"
   ]
  },
  {
   "cell_type": "code",
   "execution_count": null,
   "metadata": {},
   "outputs": [],
   "source": []
  }
 ],
 "metadata": {
  "kernelspec": {
   "display_name": "Python [conda env:countcorrect]",
   "language": "python",
   "name": "conda-env-countcorrect-py"
  },
  "language_info": {
   "codemirror_mode": {
    "name": "ipython",
    "version": 3
   },
   "file_extension": ".py",
   "mimetype": "text/x-python",
   "name": "python",
   "nbconvert_exporter": "python",
   "pygments_lexer": "ipython3",
   "version": "3.7.10"
  }
 },
 "nbformat": 4,
 "nbformat_minor": 4
}
