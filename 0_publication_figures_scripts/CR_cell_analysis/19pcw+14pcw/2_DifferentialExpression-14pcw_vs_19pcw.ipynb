{
 "cells": [
  {
   "cell_type": "code",
   "execution_count": 1,
   "metadata": {},
   "outputs": [],
   "source": [
    "import sys,os\n",
    "import pickle\n",
    "import anndata\n",
    "import pandas as pd\n",
    "import numpy as np\n",
    "import scanpy as sc\n",
    "import diffxpy.api as de\n",
    "import statsmodels.stats.multitest as multi\n",
    "import pickle"
   ]
  },
  {
   "cell_type": "code",
   "execution_count": 6,
   "metadata": {},
   "outputs": [],
   "source": [
    "adata = sc.read_h5ad(open(\"/nfs/team283/aa16/KR_NAS/data/CR_cells_19pcw+14pcw_AnnData_1.h5ad\", \"rb\"))"
   ]
  },
  {
   "cell_type": "code",
   "execution_count": 7,
   "metadata": {},
   "outputs": [],
   "source": [
    "adata.obs['nuclei'] = adata.obs['nuclei'].astype(float)"
   ]
  },
  {
   "cell_type": "code",
   "execution_count": 8,
   "metadata": {},
   "outputs": [
    {
     "name": "stdout",
     "output_type": "stream",
     "text": [
      "CR cell ROIs mean nuclei: 23.83783783783784\n",
      "Residual ROIs mean nuclei: 119.99090909090908\n",
      "CR cell ROIs mean RELN expression: 415.3784\n",
      "Residual ROIs mean RELN expression: 14.418181\n",
      "Frontal Cortex ROIs mean NR2F1 expression: 21.074627\n",
      "Occipital Cortex ROIs mean NR2F1 expression: 36.657536\n",
      "Input data looks sensible.\n"
     ]
    }
   ],
   "source": [
    "cr_cell_nuclei = np.mean(adata.obs['nuclei'].loc[adata.obs['Pool'] == 'CRcells'])\n",
    "cr_cell_reln = np.mean(adata[adata.obs['Pool'] == 'CRcells',np.array(adata.var == 'RELN')].X)\n",
    "\n",
    "# Number of nuclei per AOI type:\n",
    "print('CR cell ROIs mean nuclei:', np.mean(adata.obs['nuclei'].loc[adata.obs['Pool'] == 'CRcells']))\n",
    "print('Residual ROIs mean nuclei:', np.mean(adata.obs['nuclei'].loc[adata.obs['Pool'] == 'Residual']))\n",
    "# RELN expression per AOI type:\n",
    "print('CR cell ROIs mean RELN expression:', np.mean(adata[adata.obs['Pool'] == 'CRcells',np.array(adata.var == 'RELN')].X))\n",
    "print('Residual ROIs mean RELN expression:', np.mean(adata[adata.obs['Pool'] == 'Residual',np.array(adata.var == 'RELN')].X))\n",
    "# NR2F1 expression in Frontal vs Occipital:\n",
    "print('Frontal Cortex ROIs mean NR2F1 expression:', np.mean(adata[adata.obs['Tissue'] == 'Foetal brain (frontal lobe)', np.array(adata.var == 'NR2F1')].X))\n",
    "print('Occipital Cortex ROIs mean NR2F1 expression:', np.mean(adata[adata.obs['Tissue'] == 'Foetal brain (occipital lobe)', np.array(adata.var == 'NR2F1')].X))\n",
    "\n",
    "if np.mean(adata.obs['nuclei'].loc[adata.obs['Pool'] == 'CRcells']) != cr_cell_nuclei:\n",
    "    raise ValueError()\n",
    "elif np.mean(adata[adata.obs['Pool'] == 'CRcells',np.array(adata.var == 'RELN')].X) != cr_cell_reln:\n",
    "     raise ValueError()\n",
    "elif np.mean(adata[adata.obs['Tissue'] == 'Foetal brain (frontal lobe)', np.array(adata.var == 'NR2F1')].X) > np.mean(adata[adata.obs['Tissue'] == 'Foetal brain (occipital lobe)', np.array(adata.var == 'NR2F1')].X):\n",
    "    raise ValueError()\n",
    "else:\n",
    "    print('Input data looks sensible.')"
   ]
  },
  {
   "cell_type": "code",
   "execution_count": 9,
   "metadata": {},
   "outputs": [],
   "source": [
    "adata.var_names = adata.var['SYMBOL']"
   ]
  },
  {
   "cell_type": "code",
   "execution_count": 11,
   "metadata": {},
   "outputs": [
    {
     "data": {
      "text/plain": [
       "Residual    110\n",
       "CRcells      74\n",
       "CRcellsB     40\n",
       "Rings         1\n",
       "Name: Pool, dtype: int64"
      ]
     },
     "execution_count": 11,
     "metadata": {},
     "output_type": "execute_result"
    }
   ],
   "source": [
    "adata.obs['Pool'].value_counts()"
   ]
  },
  {
   "cell_type": "code",
   "execution_count": 14,
   "metadata": {},
   "outputs": [],
   "source": [
    "adata.obs['Pool'].loc[adata.obs['Pool'] == 'CRcellsB'] = 'CRcells'"
   ]
  },
  {
   "cell_type": "code",
   "execution_count": 15,
   "metadata": {},
   "outputs": [],
   "source": [
    "adata = adata[adata.obs['Pool'] == 'CRcells',:]"
   ]
  },
  {
   "cell_type": "code",
   "execution_count": null,
   "metadata": {},
   "outputs": [],
   "source": [
    "adata = adata[adata.obs['Pool'] == 'CRcells',:]"
   ]
  },
  {
   "cell_type": "code",
   "execution_count": 16,
   "metadata": {},
   "outputs": [
    {
     "name": "stderr",
     "output_type": "stream",
     "text": [
      "Trying to set attribute `.obs` of view, copying.\n"
     ]
    },
    {
     "name": "stdout",
     "output_type": "stream",
     "text": [
      "Input data still makes sense.\n"
     ]
    },
    {
     "data": {
      "text/plain": [
       "Foetal brain (frontal lobe) CRcells Hob5      16\n",
       "Foetal brain (occipital lobe) CRcells Hob5    16\n",
       "Foetal brain (frontal lobe) CRcells Hob8      12\n",
       "Foetal brain (occipital lobe) CRcells Hob7    12\n",
       "Foetal brain (temporal lobe) CRcells Hob7     10\n",
       "Foetal brain (temporal lobe) CRcells Hob8     10\n",
       "Foetal brain (parietal lobe) CRcells Hob8      9\n",
       "Foetal brain (temporal lobe) CRcells Hob5      8\n",
       "Foetal brain (occipital lobe) CRcells Hob8     8\n",
       "Foetal brain (parietal lobe) CRcells Hob7      7\n",
       "Foetal brain (frontal lobe) CRcells Hob7       6\n",
       "dtype: int64"
      ]
     },
     "execution_count": 16,
     "metadata": {},
     "output_type": "execute_result"
    }
   ],
   "source": [
    "if np.any(adata.obs['Pool'] != 'CRcells'):\n",
    "    raise ValueError()\n",
    "elif np.sum(adata.obs['Pool'] == 'CRcells') != len(adata.obs['Pool']):\n",
    "     raise ValueError()\n",
    "else:\n",
    "    print('Input data still makes sense.')\n",
    "    \n",
    "adata.obs['Donor'] = [x.split('-')[0] for x in adata.obs['Sample slide ID']]\n",
    "(adata.obs['Tissue'].astype(str) + ' ' + adata.obs['Pool'].astype(str)\n",
    " + ' ' + adata.obs['Donor'].astype(str)).value_counts()"
   ]
  },
  {
   "cell_type": "code",
   "execution_count": 18,
   "metadata": {},
   "outputs": [
    {
     "data": {
      "text/plain": [
       "19 pcw    74\n",
       "14 pcw    40\n",
       "Name: Age, dtype: int64"
      ]
     },
     "execution_count": 18,
     "metadata": {},
     "output_type": "execute_result"
    }
   ],
   "source": [
    "adata.obs['Age'].value_counts()"
   ]
  },
  {
   "cell_type": "code",
   "execution_count": 27,
   "metadata": {},
   "outputs": [
    {
     "data": {
      "text/plain": [
       "View of AnnData object with n_obs × n_vars = 0 × 18677\n",
       "    obs: 'Sample_ID', 'slide name', 'scan name', 'panel', 'roi', 'nuclei', 'segment', 'aoi', 'area', 'Type', 'Species', 'Age', 'Background', 'Tissue', 'Slide code', 'Sample slide ID', 'TR', 'Cy5', 'Cy3', 'Pool', 'Collection plate', 'Well', 'PCR plate', 'PCR well', 'Primer plate', 'Primer well', 'I7_Index_ID', 'index', 'I5_Index_ID', 'index2', 'Sanger Sample ID', 'expected_neg', 'ns_sample_ID', 'RawReads', 'TrimmedReads', 'StitchedReads', 'AlignedReads', 'DeduplicatedReads', 'SequencingSaturation', 'UID', 'NegGeoMean_01', 'NegGeoSD_01', 'GeoLOQ2.5_01', 'NormFactorNeg_01', 'NormFactorQ3', 'NormFactorHK', 'GeoLOD2.0_01', 'DetectedGenes2.0', 'batch', 'Donor'\n",
       "    var: 'SYMBOL'\n",
       "    obsm: 'negProbes'\n",
       "    layers: 'X_corrected_cc', 'X_corrected_cc_cpm', 'X_corrected_naive', 'X_corrected_naive_cpm'"
      ]
     },
     "execution_count": 27,
     "metadata": {},
     "output_type": "execute_result"
    }
   ],
   "source": [
    "adata_subset"
   ]
  },
  {
   "cell_type": "code",
   "execution_count": 28,
   "metadata": {},
   "outputs": [
    {
     "name": "stdout",
     "output_type": "stream",
     "text": [
      "0\n",
      "1\n",
      "14 pcw_vs_19 pcw\n",
      "14 pcw CRcells Hob5    40\n",
      "19 pcw CRcells Hob8    39\n",
      "19 pcw CRcells Hob7    35\n",
      "dtype: int64\n",
      "14 pcw_vs_19 pcw\n",
      "14 pcw_vs_19 pcw\n",
      "14 pcw\n",
      "19 pcw\n"
     ]
    }
   ],
   "source": [
    "adata.X = adata.layers['X_corrected_naive_cpm']\n",
    "res = {}\n",
    "count = 0\n",
    "tissues = np.unique(adata.obs['Age'])\n",
    "for i in range(len(tissues)):\n",
    "    for j in range((i+1),len(tissues)):\n",
    "        print(i)\n",
    "        print(j)\n",
    "        if i !=j:\n",
    "            new_key = str(tissues[i]) + '_vs_' + str(tissues[j])\n",
    "            adata_subset = adata[[x in (tissues[i], tissues[j]) for x in adata.obs['Age']],:]\n",
    "            print(new_key)\n",
    "            print((adata_subset.obs['Age'].astype(str) + ' ' + adata_subset.obs['Pool'].astype(str)\n",
    " + ' ' + adata_subset.obs['Donor'].astype(str)).value_counts())\n",
    "            res[new_key] = de.test.rank_test(\n",
    "                data=adata_subset,\n",
    "                grouping=\"Age\",\n",
    "                is_logged=False\n",
    "            ).summary()\n",
    "            \n",
    "for i in range(len(res.keys())):\n",
    "    \n",
    "    print(list(res.keys())[i])\n",
    "    \n",
    "    tissue1 = list(res.keys())[i].split('_vs_')[0]\n",
    "    tissue2 = list(res.keys())[i].split('_vs_')[1]\n",
    "    print(list(res.keys())[i])\n",
    "    print(tissue1)\n",
    "    print(tissue2)\n",
    "    \n",
    "    if np.sum(np.array(res[list(res.keys())[i]]['gene']) == np.array(adata.var_names)) != len(adata.var_names):\n",
    "        raise ValueError()\n",
    "    \n",
    "    res[list(res.keys())[i]]['log2_mean_' + tissue1] = np.array(np.log2(np.mean(adata[adata.obs['Age'] == tissue1,].X, axis = 0)))\n",
    "    res[list(res.keys())[i]]['log2_mean_' + tissue2] = np.array(np.log2(np.mean(adata[adata.obs['Age'] == tissue2,].X, axis = 0)))\n",
    "    res[list(res.keys())[i]]['log2_fold_change'] =  res[list(res.keys())[i]]['log2_mean_' + tissue1] - res[list(res.keys())[i]]['log2_mean_' + tissue2]\n",
    "    \n",
    "    res[list(res.keys())[i]] = res[list(res.keys())[i]].sort_values('pval')\n",
    "    \n",
    "res_naive = res"
   ]
  },
  {
   "cell_type": "code",
   "execution_count": 30,
   "metadata": {},
   "outputs": [],
   "source": [
    "pickle.dump(res_naive, open(\"/nfs/team283/aa16/KR_NAS/0_publication_tables/CR_cells_DE_14pcw_vs_19pcw_naive.p\", \"wb\" ))"
   ]
  },
  {
   "cell_type": "code",
   "execution_count": 31,
   "metadata": {},
   "outputs": [
    {
     "name": "stdout",
     "output_type": "stream",
     "text": [
      "0\n",
      "1\n",
      "14 pcw_vs_19 pcw\n",
      "14 pcw CRcells Hob5    40\n",
      "19 pcw CRcells Hob8    39\n",
      "19 pcw CRcells Hob7    35\n",
      "dtype: int64\n",
      "14 pcw_vs_19 pcw\n",
      "14 pcw_vs_19 pcw\n",
      "14 pcw\n",
      "19 pcw\n"
     ]
    },
    {
     "name": "stderr",
     "output_type": "stream",
     "text": [
      "/nfs/team283/aa16/software/miniconda3/envs/countcorrect/lib/python3.7/site-packages/ipykernel_launcher.py:34: RuntimeWarning: divide by zero encountered in log2\n",
      "/nfs/team283/aa16/software/miniconda3/envs/countcorrect/lib/python3.7/site-packages/ipykernel_launcher.py:35: RuntimeWarning: divide by zero encountered in log2\n"
     ]
    }
   ],
   "source": [
    "adata.X = adata.layers['X_corrected_cc_cpm']\n",
    "res = {}\n",
    "count = 0\n",
    "tissues = np.unique(adata.obs['Age'])\n",
    "for i in range(len(tissues)):\n",
    "    for j in range((i+1),len(tissues)):\n",
    "        print(i)\n",
    "        print(j)\n",
    "        if i !=j:\n",
    "            new_key = str(tissues[i]) + '_vs_' + str(tissues[j])\n",
    "            adata_subset = adata[[x in (tissues[i], tissues[j]) for x in adata.obs['Age']],:]\n",
    "            print(new_key)\n",
    "            print((adata_subset.obs['Age'].astype(str) + ' ' + adata_subset.obs['Pool'].astype(str)\n",
    " + ' ' + adata_subset.obs['Donor'].astype(str)).value_counts())\n",
    "            res[new_key] = de.test.rank_test(\n",
    "                data=adata_subset,\n",
    "                grouping=\"Age\",\n",
    "                is_logged=False\n",
    "            ).summary()\n",
    "            \n",
    "for i in range(len(res.keys())):\n",
    "    \n",
    "    print(list(res.keys())[i])\n",
    "    \n",
    "    tissue1 = list(res.keys())[i].split('_vs_')[0]\n",
    "    tissue2 = list(res.keys())[i].split('_vs_')[1]\n",
    "    print(list(res.keys())[i])\n",
    "    print(tissue1)\n",
    "    print(tissue2)\n",
    "    \n",
    "    if np.sum(np.array(res[list(res.keys())[i]]['gene']) == np.array(adata.var_names)) != len(adata.var_names):\n",
    "        raise ValueError()\n",
    "    \n",
    "    res[list(res.keys())[i]]['log2_mean_' + tissue1] = np.array(np.log2(np.mean(adata[adata.obs['Age'] == tissue1,].X, axis = 0)))\n",
    "    res[list(res.keys())[i]]['log2_mean_' + tissue2] = np.array(np.log2(np.mean(adata[adata.obs['Age'] == tissue2,].X, axis = 0)))\n",
    "    res[list(res.keys())[i]]['log2_fold_change'] =  res[list(res.keys())[i]]['log2_mean_' + tissue1] - res[list(res.keys())[i]]['log2_mean_' + tissue2]\n",
    "    \n",
    "    res[list(res.keys())[i]] = res[list(res.keys())[i]].sort_values('pval')\n",
    "    \n",
    "res_cc = res"
   ]
  },
  {
   "cell_type": "code",
   "execution_count": 32,
   "metadata": {},
   "outputs": [],
   "source": [
    "pickle.dump(res_cc, open(\"/nfs/team283/aa16/KR_NAS/0_publication_tables/CR_cells_DE_14pcw_vs_19pcw_cc.p\", \"wb\" ))"
   ]
  },
  {
   "cell_type": "markdown",
   "metadata": {},
   "source": [
    "Save all data on pairwise differential expression in CR cells in one data frame:"
   ]
  },
  {
   "cell_type": "code",
   "execution_count": 58,
   "metadata": {},
   "outputs": [
    {
     "name": "stdout",
     "output_type": "stream",
     "text": [
      "0\n",
      "14 pcw_vs_19 pcw\n",
      "14 pcw\n",
      "19 pcw\n"
     ]
    }
   ],
   "source": [
    "allResults = []\n",
    "\n",
    "key_wta_array = ['14 pcw_vs_19 pcw']\n",
    "\n",
    "for j in range(len(key_wta_array)):\n",
    "    \n",
    "    print(j)\n",
    "\n",
    "    res_cc = pickle.load(open(\"/nfs/team283/aa16/KR_NAS/0_publication_tables/CR_cells_DE_14pcw_vs_19pcw_cc.p\", \"rb\" ))\n",
    "    res_naive = pickle.load(open(\"/nfs/team283/aa16/KR_NAS/0_publication_tables/CR_cells_DE_14pcw_vs_19pcw_naive.p\", \"rb\" ))\n",
    "    \n",
    "    tissue1_wta = key_wta_array[j].split('_vs_')[0]\n",
    "    tissue2_wta = key_wta_array[j].split('_vs_')[1]\n",
    "    \n",
    "\n",
    "    key_wta = key_wta_array[j]\n",
    "\n",
    "    res_cc = res_cc[key_wta]\n",
    "    res_naive = res_naive[key_wta]\n",
    "    res_tidy = pd.DataFrame(index = list(range(len(res_cc['gene']))), columns = ('gene', 'qval_cc', 'qval_naive',\n",
    "                                       'log2_mean_wta' + tissue1_wta, 'log2_mean_wta' + tissue2_wta,                                        \n",
    "                                       'log2fc_cc', 'log2fc_naive', 'log2fc_sc'))\n",
    "    \n",
    "    print(key_wta)\n",
    "    print(tissue1_wta)\n",
    "    print(tissue2_wta)\n",
    "    \n",
    "    for i in range(len(res_cc['gene'])):\n",
    "        res_tidy['gene'].iloc[i]  = res_cc['gene'].iloc[i]\n",
    "        \n",
    "        index_naive = res_naive['gene'] == res_cc['gene'].iloc[i]\n",
    "        \n",
    "        if res_naive['gene'].loc[index_naive].iloc[0] != res_cc['gene'].iloc[i]:\n",
    "            print(res_naive['gene'].loc[index_naive])\n",
    "            print(res_cc['gene'].iloc[i])\n",
    "            raise ValueError()\n",
    "        \n",
    "        res_tidy['qval_cc'].iloc[i] = res_cc['qval'].iloc[i]\n",
    "        res_tidy['qval_naive'].iloc[i]  = res_naive['qval'].loc[index_naive].iloc[0]\n",
    "        \n",
    "        res_tidy['log2_mean_wta' + tissue1_wta].iloc[i] = res_cc['log2_mean_' + tissue1_wta].iloc[i]\n",
    "        res_tidy['log2_mean_wta' + tissue2_wta].iloc[i] = res_cc['log2_mean_' + tissue2_wta].iloc[i]\n",
    "        \n",
    "        res_tidy['log2fc_cc'].iloc[i]  = res_cc['log2_fold_change'].iloc[i]\n",
    "        res_tidy['log2fc_naive'].iloc[i]  = res_naive['log2_fold_change'].loc[index_naive].iloc[0]\n",
    "            \n",
    "    allResults += [res_tidy]"
   ]
  },
  {
   "cell_type": "code",
   "execution_count": 59,
   "metadata": {},
   "outputs": [],
   "source": [
    "pickle.dump(allResults, open(\"/nfs/team283/aa16/KR_NAS/0_publication_tables/CR_cells_DE_14pcw_vs_19pcw_allResults.p\", \"wb\" ))"
   ]
  },
  {
   "cell_type": "code",
   "execution_count": 60,
   "metadata": {},
   "outputs": [],
   "source": [
    "# Create a Pandas Excel writer using XlsxWriter as the engine.\n",
    "writer = pd.ExcelWriter('/nfs/team283/aa16/KR_NAS/0_publication_tables/CR_cell_DE_14pcw_vs_19pcw_results.xlsx', engine='xlsxwriter')\n",
    "\n",
    "# Write each dataframe to a different worksheet.\n",
    "for i in range(len(allResults)):\n",
    "    allResults[i].to_excel(writer, sheet_name=key_wta_array[i])\n",
    "\n",
    "# Close the Pandas Excel writer and output the Excel file.\n",
    "writer.save()"
   ]
  },
  {
   "cell_type": "code",
   "execution_count": 120,
   "metadata": {},
   "outputs": [
    {
     "data": {
      "text/plain": [
       "array(['ATF5', 'PRDX3', 'ARL17B', 'NPC2', 'MOCS3', 'SHC3', 'VANGL2',\n",
       "       'VGF', 'DUSP1', 'SUPT7L', 'IFIT1', 'EGR1', 'USP9Y', 'RPS4Y1'],\n",
       "      dtype=object)"
      ]
     },
     "execution_count": 120,
     "metadata": {},
     "output_type": "execute_result"
    }
   ],
   "source": [
    "allResults[0] = allResults[0].sort_values('log2fc_cc')\n",
    "genesOfInterest = np.array(allResults[0].loc[[allResults[0]['qval_cc'].iloc[i] < 0.01 and np.abs(allResults[0]['log2fc_cc'].iloc[i]) > 2\n",
    "                 and np.any(np.array([allResults[0]['log2_mean_wta19 pcw'].iloc[i], allResults[0]['log2_mean_wta14 pcw'].iloc[i]]) > 6) for i in range(len(allResults[0]['qval_cc']))],:]['gene'])\n",
    "genesOfInterest"
   ]
  },
  {
   "cell_type": "code",
   "execution_count": 121,
   "metadata": {},
   "outputs": [
    {
     "data": {
      "text/plain": [
       "array([5.72503555, 4.09933559])"
      ]
     },
     "execution_count": 121,
     "metadata": {},
     "output_type": "execute_result"
    }
   ],
   "source": [
    "np.array([allResults[0]['log2_mean_wta19 pcw'].iloc[i], allResults[0]['log2_mean_wta14 pcw'].iloc[i]])"
   ]
  },
  {
   "cell_type": "code",
   "execution_count": 122,
   "metadata": {},
   "outputs": [
    {
     "name": "stderr",
     "output_type": "stream",
     "text": [
      "Trying to set attribute `.obs` of view, copying.\n",
      "/nfs/team283/aa16/software/miniconda3/envs/countcorrect/lib/python3.7/site-packages/pandas/core/indexing.py:1637: SettingWithCopyWarning: \n",
      "A value is trying to be set on a copy of a slice from a DataFrame\n",
      "\n",
      "See the caveats in the documentation: https://pandas.pydata.org/pandas-docs/stable/user_guide/indexing.html#returning-a-view-versus-a-copy\n",
      "  self._setitem_single_block(indexer, value, name)\n"
     ]
    }
   ],
   "source": [
    "adata.obs['Tissue'] = adata.obs['Tissue'].astype(str)\n",
    "adata.obs['Tissue'].loc[adata.obs['Tissue'] == 'Foetal brain (occipital lobe)'] = 'Occipital'\n",
    "adata.obs['Tissue'].loc[adata.obs['Tissue'] == 'Foetal brain (frontal lobe)'] = 'Frontal'"
   ]
  },
  {
   "cell_type": "code",
   "execution_count": 123,
   "metadata": {},
   "outputs": [],
   "source": [
    "adata = adata[[adata.obs['Tissue'].iloc[i] in ('Occipital', 'Frontal') for i in range(len(adata.obs['Tissue']))],:]"
   ]
  },
  {
   "cell_type": "code",
   "execution_count": 124,
   "metadata": {},
   "outputs": [],
   "source": [
    "geneNames = adata.var_names[[g in genesOfInterest for g in adata.var_names]]\n",
    "counts_cpm = adata.layers['X_corrected_cc_cpm'][:,[g in genesOfInterest for g in adata.var_names]]\n",
    "regions  = adata.obs['Tissue']"
   ]
  },
  {
   "cell_type": "code",
   "execution_count": 125,
   "metadata": {},
   "outputs": [],
   "source": [
    "tab = pd.DataFrame(index = range(np.prod(np.shape(counts_cpm))), columns = ('gene', 'counts', 'Region'))\n",
    "n_genes = np.shape(counts_cpm)[1]\n",
    "n_samples = np.shape(counts_cpm)[0]\n",
    "for i in range(len(geneNames)):\n",
    "    tab.iloc[(i*n_samples):((i+1)*n_samples),0] = geneNames[i]\n",
    "    tab.iloc[(i*n_samples):((i+1)*n_samples),1] = counts_cpm[:,i] + 5\n",
    "    tab.iloc[(i*n_samples):((i+1)*n_samples),2] = regions"
   ]
  },
  {
   "cell_type": "code",
   "execution_count": 126,
   "metadata": {},
   "outputs": [
    {
     "data": {
      "image/png": "[encoded data removed]",
      "text/plain": [
       "<Figure size 1130.4x307.44 with 1 Axes>"
      ]
     },
     "metadata": {},
     "output_type": "display_data"
    }
   ],
   "source": [
    "import matplotlib.pyplot as plt\n",
    "import seaborn as sns\n",
    "sns.set(rc={'figure.figsize':(15.7,4.27)})\n",
    "sns.stripplot(x=\"gene\", y=\"counts\", hue=\"Region\", data=tab, alpha = 0.75, jitter=0.2)\n",
    "plt.yscale('log')\n",
    "plt.ylabel('Log CPM')\n",
    "plt.xlabel('Gene')\n",
    "plt.ylim(5, 10**5)\n",
    "plt.xticks(rotation=45)\n",
    "plt.show()"
   ]
  },
  {
   "cell_type": "code",
   "execution_count": null,
   "metadata": {},
   "outputs": [],
   "source": []
  }
 ],
 "metadata": {
  "kernelspec": {
   "display_name": "Python [conda env:countcorrect]",
   "language": "python",
   "name": "conda-env-countcorrect-py"
  },
  "language_info": {
   "codemirror_mode": {
    "name": "ipython",
    "version": 3
   },
   "file_extension": ".py",
   "mimetype": "text/x-python",
   "name": "python",
   "nbconvert_exporter": "python",
   "pygments_lexer": "ipython3",
   "version": "3.7.10"
  }
 },
 "nbformat": 4,
 "nbformat_minor": 4
}
