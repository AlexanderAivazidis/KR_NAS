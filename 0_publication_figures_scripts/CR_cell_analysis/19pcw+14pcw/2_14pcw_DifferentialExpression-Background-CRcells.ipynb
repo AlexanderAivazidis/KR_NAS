{
 "cells": [
  {
   "cell_type": "code",
   "execution_count": 1,
   "metadata": {},
   "outputs": [],
   "source": [
    "import sys,os\n",
    "import pickle\n",
    "import anndata\n",
    "import pandas as pd\n",
    "import numpy as np\n",
    "import scanpy as sc\n",
    "import diffxpy.api as de\n",
    "import statsmodels.stats.multitest as multi\n",
    "import pickle\n",
    "import countcorrect as cc"
   ]
  },
  {
   "cell_type": "code",
   "execution_count": 2,
   "metadata": {},
   "outputs": [],
   "source": [
    "adata = sc.read_h5ad(open(\"/nfs/team283/aa16/KR_NAS/data/CR_cells_14pcw_AnnData.h5ad\", \"rb\"))"
   ]
  },
  {
   "cell_type": "code",
   "execution_count": 3,
   "metadata": {},
   "outputs": [],
   "source": [
    "adata.var_names = adata.var['SYMBOL']"
   ]
  },
  {
   "cell_type": "code",
   "execution_count": 4,
   "metadata": {},
   "outputs": [],
   "source": [
    "adata.obs['GeoLOD2.0_01'] = adata.obs['GeoLOD2.0_01'].astype(float)\n",
    "detected = np.array([adata.X[i,:] >= adata.obs['GeoLOD2.0_01'].iloc[i] for i in range(len(adata.X[:,1]))])"
   ]
  },
  {
   "cell_type": "code",
   "execution_count": 5,
   "metadata": {},
   "outputs": [
    {
     "data": {
      "text/plain": [
       "Residual    37\n",
       "CRcellsA    36\n",
       "CRcellsB    36\n",
       "Name: Pool, dtype: int64"
      ]
     },
     "execution_count": 5,
     "metadata": {},
     "output_type": "execute_result"
    }
   ],
   "source": [
    "adata.obs['Pool'].value_counts()"
   ]
  },
  {
   "cell_type": "code",
   "execution_count": 6,
   "metadata": {},
   "outputs": [],
   "source": [
    "subset_CRcellsA = np.sum(detected[adata.obs['Pool'] == 'CRcellsA',:], axis = 0)/np.sum(adata.obs['Pool'] == 'CRcellsA') > 0.25\n",
    "subset_CRcellsB = np.sum(detected[adata.obs['Pool'] == 'CRcellsB',:], axis = 0)/np.sum(adata.obs['Pool'] == 'CRcellsB') > 0.25\n",
    "subset_Residual = np.sum(detected[adata.obs['Pool'] == 'Residual',:], axis = 0)/np.sum(adata.obs['Pool'] == 'Residual') > 0.25"
   ]
  },
  {
   "cell_type": "code",
   "execution_count": 7,
   "metadata": {},
   "outputs": [],
   "source": [
    "counts_geneProbes = adata.X\n",
    "counts_negativeProbes = np.array(adata.obsm['negProbes'])\n",
    "counts_nuclei = np.repeat(10, len(adata.obs['slide name']))\n",
    "names_slides = adata.obs['slide name']"
   ]
  },
  {
   "cell_type": "code",
   "execution_count": 8,
   "metadata": {},
   "outputs": [
    {
     "name": "stdout",
     "output_type": "stream",
     "text": [
      "Using naive model\n",
      "Done.\n"
     ]
    }
   ],
   "source": [
    "output_naive = cc.run_countcorrect(counts_geneProbes, counts_negativeProbes, counts_nuclei, naive  = True)"
   ]
  },
  {
   "cell_type": "code",
   "execution_count": 9,
   "metadata": {},
   "outputs": [],
   "source": [
    "adata.X = output_naive['NormCounts']\n",
    "adata_subset = adata[adata.obs['Pool'] != 'CRcellsB', subset_CRcellsA + subset_Residual]\n",
    "resA_cc = de.test.rank_test(\n",
    "    data=adata_subset,\n",
    "    grouping=\"Pool\",\n",
    "    is_logged=False\n",
    ").summary()\n",
    "adata_subset = adata[adata.obs['Pool'] != 'CRcellsA',subset_CRcellsB + subset_Residual]\n",
    "resB_cc = de.test.rank_test(\n",
    "    data=adata_subset,\n",
    "    grouping=\"Pool\",\n",
    "    is_logged=False\n",
    ").summary()"
   ]
  },
  {
   "cell_type": "code",
   "execution_count": 10,
   "metadata": {
    "scrolled": true
   },
   "outputs": [
    {
     "name": "stdout",
     "output_type": "stream",
     "text": [
      "3457\n",
      "3595\n",
      "448\n",
      "476\n",
      "1592\n",
      "1612\n",
      "474\n",
      "503\n"
     ]
    }
   ],
   "source": [
    "print(np.shape(resA_cc)[0])\n",
    "print(np.shape(resB_cc)[0])\n",
    "print(np.sum([resA_cc['qval'].iloc[i] < 0.05 and np.abs(resA_cc['log2fc'].iloc[i]) > 1 for i in range(len(resA_cc['qval']))]))\n",
    "print(np.sum([resB_cc['qval'].iloc[i] < 0.05 and np.abs(resB_cc['log2fc'].iloc[i]) > 1 for i in range(len(resB_cc['qval']))]))\n",
    "print(np.sum([resA_cc['qval'].iloc[i] < 0.1 for i in range(len(resA_cc['qval']))]))\n",
    "print(np.sum([resB_cc['qval'].iloc[i] < 0.1 for i in range(len(resB_cc['qval']))]))\n",
    "print(np.sum([np.abs(resA_cc['log2fc'].iloc[i]) > 1 for i in range(len(resA_cc['qval']))]))\n",
    "print(np.sum([np.abs(resB_cc['log2fc'].iloc[i]) > 1 for i in range(len(resB_cc['qval']))]))"
   ]
  },
  {
   "cell_type": "code",
   "execution_count": null,
   "metadata": {},
   "outputs": [],
   "source": []
  }
 ],
 "metadata": {
  "kernelspec": {
   "display_name": "Python [conda env:countcorrect]",
   "language": "python",
   "name": "conda-env-countcorrect-py"
  },
  "language_info": {
   "codemirror_mode": {
    "name": "ipython",
    "version": 3
   },
   "file_extension": ".py",
   "mimetype": "text/x-python",
   "name": "python",
   "nbconvert_exporter": "python",
   "pygments_lexer": "ipython3",
   "version": "3.7.10"
  }
 },
 "nbformat": 4,
 "nbformat_minor": 4
}
