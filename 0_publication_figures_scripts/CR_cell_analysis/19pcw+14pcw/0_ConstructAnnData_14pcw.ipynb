{
 "cells": [
  {
   "cell_type": "code",
   "execution_count": 15,
   "metadata": {},
   "outputs": [],
   "source": [
    "import pickle\n",
    "import scanpy as sc\n",
    "import anndata\n",
    "import pandas as pd\n",
    "import numpy as np\n",
    "import matplotlib.pyplot as plt\n",
    "import seaborn as sns\n",
    "import sys, os\n",
    "path = '/nfs/team283/aa16/KR_NAS/'\n",
    "os.chdir(path)\n",
    "sys.path.append(path)\n",
    "from IPython.display import Image\n",
    "data_type = 'float32'\n",
    "os.environ[\"THEANO_FLAGS\"] = 'device=cuda,floatX=' + data_type + ',force_device=True' + ',dnn.enabled=False'\n",
    "import matplotlib\n",
    "matplotlib.rcParams['pdf.fonttype'] = 42\n",
    "matplotlib.rcParams['ps.fonttype'] = 42"
   ]
  },
  {
   "cell_type": "markdown",
   "metadata": {},
   "source": [
    "Construct AnnData object:"
   ]
  },
  {
   "cell_type": "code",
   "execution_count": 16,
   "metadata": {},
   "outputs": [
    {
     "name": "stdout",
     "output_type": "stream",
     "text": [
      "Metadata, but no counts, number: 42\n",
      "Metadata, but no counts, names: ['HCA_F_BRA11360457', 'HCA_F_BRA11360460', 'HCA_F_BRA11360463', 'HCA_F_BRA11360466', 'HCA_F_BRA11360469', 'HCA_F_BRA11360472', 'HCA_F_BRA11360475', 'HCA_F_BRA11360478', 'HCA_F_BRA11360481', 'HCA_F_BRA11360484', 'HCA_F_BRA11360487', 'HCA_F_BRA11360490', 'HCA_F_BRA11360493', 'HCA_F_BRA11360496', 'HCA_F_BRA11360499', 'HCA_F_BRA11360502', 'HCA_F_BRA11360505', 'HCA_F_BRA11360508', 'HCA_F_BRA11360511', 'HCA_F_BRA11360514', 'HCA_F_BRA11360517', 'HCA_F_BRA11360520', 'HCA_F_BRA11360523', 'HCA_F_BRA11360526', 'HCA_F_BRA11360529', 'HCA_F_BRA11360532', 'HCA_F_BRA11360535', 'HCA_F_BRA11360538', 'HCA_F_BRA11360541', 'HCA_F_BRA11360544', 'HCA_F_BRA11360547', 'HCA_F_BRA11360550', 'HCA_F_BRA11360553', 'HCA_F_BRA11360556', 'HCA_F_BRA11360559', 'HCA_F_BRA11360562', 'HCA_F_BRA11360565', 'HCA_F_BRA11360568', 'HCA_F_BRA11360571', 'HCA_F_BRA11360574', 'PhiX', 'No match']\n",
      "Metadata and counts, number: 81\n",
      "Counts, but no metadata, number: 0\n"
     ]
    },
    {
     "name": "stderr",
     "output_type": "stream",
     "text": [
      "/nfs/team283/aa16/software/miniconda3/envs/cellpymc/lib/python3.7/site-packages/IPython/core/interactiveshell.py:3170: DtypeWarning: Columns (10) have mixed types.Specify dtype option on import or set low_memory=False.\n",
      "  interactivity=interactivity, compiler=compiler, result=result)\n"
     ]
    }
   ],
   "source": [
    "counts = pd.read_table('data/CRcells_14pcw/ns_tic1219_twobatch/az1219b1_TargetCountMatrix.txt')\n",
    "genes = counts['TargetName']\n",
    "counts = counts.drop('TargetName',1)\n",
    "counts = counts.rename(index=genes)\n",
    "counts = counts.astype('int')\n",
    "metadata = pd.read_csv('data/CRcells_14pcw/NS_DSP human foetal brain Cajal-Retzius NanoString profiling 2 annotations.csv')\n",
    "metadata = metadata.rename(index=metadata['Sanger Sample ID'])\n",
    "print('Metadata, but no counts, number:', len([c for c in metadata.index if c not in np.array(counts.columns)]))\n",
    "print('Metadata, but no counts, names:',[c for c in metadata.index if c not in np.array(counts.columns)])\n",
    "print('Metadata and counts, number:', len([c for c in metadata.index if c in np.array(counts.columns)]))\n",
    "print('Counts, but no metadata, number:', len([c for c in np.array(counts.columns) if c not in metadata.index]))\n",
    "metadata = metadata.loc[~pd.isna(metadata.index),:]\n",
    "metadata = metadata.reindex(np.array(counts.columns))\n",
    "properties = pd.read_table('data/CRcells_14pcw/ns_tic1219_twobatch/az1219b1_SegmentProperties.txt')\n",
    "properties = properties.rename(index=properties['Sample_ID'])\n",
    "properties = properties.reindex(np.array(metadata.index))\n",
    "properties = properties.drop(labels='Sample_ID', axis = 1)\n",
    "probe_counts = pd.read_table('data/CRcells_14pcw/ns_tic1219_twobatch/az1219b1_BioProbeCountMatrix.txt')\n",
    "genes = probe_counts['TargetName']\n",
    "probe_counts = probe_counts.drop(['TargetName', 'ProbeName', 'ProbeDisplayName', 'TargetName', 'HUGOSymbol',\n",
    "                                 'Accessions', 'GenomeBuild', 'GenomicPosition', 'GlobalOutlier', 'GlobalOutlierReason',\n",
    "                                 'OutlierFrequency', 'OutlierAOIs', 'Gene'],1)\n",
    "probe_counts = probe_counts.rename(index=genes)\n",
    "probe_counts = probe_counts.astype('int')\n",
    "negprobe_counts = probe_counts.loc[probe_counts.index == 'NegProbe-WTX', ]\n",
    "negprobe_counts.index = negprobe_counts.index + '-' + [str(x) for x in range(len(negprobe_counts.index))]\n",
    "adataA = sc.AnnData(X=np.array(counts).T, obs=pd.concat((metadata, properties), axis = 1), var=np.array(counts.index))\n",
    "adataA.var_names = counts.index\n",
    "adataA.obsm['negProbes'] = negprobe_counts.T\n",
    "adataA.obs['GeoLOD2.0_01'] = adataA.obs['NegGeoMean_01'] * adataA.obs['NegGeoSD_01']**2\n",
    "adataA.obs['DetectedGenes2.0'] = np.sum(np.array([adataA.X[i,:] >= adataA.obs['GeoLOD2.0_01'].iloc[i] for i in range(len(adataA.X[:,1]))]), axis = 1)\n",
    "adataA.var['SYMBOL'] = adataA.var[0]\n",
    "adataA.var = adataA.var.drop(0, axis = 1)\n",
    "adataA.var.index = [str(x) for x in range(len(adataA.var.index))]"
   ]
  },
  {
   "cell_type": "code",
   "execution_count": 17,
   "metadata": {},
   "outputs": [
    {
     "data": {
      "text/plain": [
       "Residual    41\n",
       "CRcellsA    40\n",
       "Name: Pool, dtype: int64"
      ]
     },
     "execution_count": 17,
     "metadata": {},
     "output_type": "execute_result"
    }
   ],
   "source": [
    "adataA.obs['Pool'].astype(str).value_counts()"
   ]
  },
  {
   "cell_type": "code",
   "execution_count": 18,
   "metadata": {},
   "outputs": [
    {
     "name": "stdout",
     "output_type": "stream",
     "text": [
      "Metadata, but no counts, number: 42\n",
      "Metadata, but no counts, names: ['HCA_F_BRA11360456', 'HCA_F_BRA11360459', 'HCA_F_BRA11360462', 'HCA_F_BRA11360465', 'HCA_F_BRA11360468', 'HCA_F_BRA11360471', 'HCA_F_BRA11360474', 'HCA_F_BRA11360477', 'HCA_F_BRA11360480', 'HCA_F_BRA11360483', 'HCA_F_BRA11360486', 'HCA_F_BRA11360489', 'HCA_F_BRA11360492', 'HCA_F_BRA11360495', 'HCA_F_BRA11360498', 'HCA_F_BRA11360501', 'HCA_F_BRA11360504', 'HCA_F_BRA11360507', 'HCA_F_BRA11360510', 'HCA_F_BRA11360513', 'HCA_F_BRA11360516', 'HCA_F_BRA11360519', 'HCA_F_BRA11360522', 'HCA_F_BRA11360525', 'HCA_F_BRA11360528', 'HCA_F_BRA11360531', 'HCA_F_BRA11360534', 'HCA_F_BRA11360537', 'HCA_F_BRA11360540', 'HCA_F_BRA11360543', 'HCA_F_BRA11360546', 'HCA_F_BRA11360549', 'HCA_F_BRA11360552', 'HCA_F_BRA11360555', 'HCA_F_BRA11360558', 'HCA_F_BRA11360561', 'HCA_F_BRA11360564', 'HCA_F_BRA11360567', 'HCA_F_BRA11360570', 'HCA_F_BRA11360573', 'PhiX', 'No match']\n",
      "Metadata and counts, number: 81\n",
      "Counts, but no metadata, number: 0\n"
     ]
    }
   ],
   "source": [
    "counts = pd.read_table('data/CRcells_14pcw/ns_tic1219_twobatch/az1219b2_TargetCountMatrix.txt')\n",
    "genes = counts['TargetName']\n",
    "counts = counts.drop('TargetName',1)\n",
    "counts = counts.rename(index=genes)\n",
    "counts = counts.astype('int')\n",
    "metadata = pd.read_csv('data/CRcells_14pcw/NS_DSP human foetal brain Cajal-Retzius NanoString profiling 2 annotations.csv')\n",
    "metadata = metadata.rename(index=metadata['Sanger Sample ID'])\n",
    "print('Metadata, but no counts, number:', len([c for c in metadata.index if c not in np.array(counts.columns)]))\n",
    "print('Metadata, but no counts, names:',[c for c in metadata.index if c not in np.array(counts.columns)])\n",
    "print('Metadata and counts, number:', len([c for c in metadata.index if c in np.array(counts.columns)]))\n",
    "print('Counts, but no metadata, number:', len([c for c in np.array(counts.columns) if c not in metadata.index]))\n",
    "metadata = metadata.loc[~pd.isna(metadata.index),:]\n",
    "metadata = metadata.reindex(np.array(counts.columns))\n",
    "properties = pd.read_table('data/CRcells_14pcw/ns_tic1219_twobatch/az1219b2_SegmentProperties.txt')\n",
    "properties = properties.rename(index=properties['Sample_ID'])\n",
    "properties = properties.reindex(np.array(metadata.index))\n",
    "properties = properties.drop(labels='Sample_ID', axis = 1)\n",
    "probe_counts = pd.read_table('data/CRcells_14pcw/ns_tic1219_twobatch/az1219b2_BioProbeCountMatrix.txt')\n",
    "genes = probe_counts['TargetName']\n",
    "probe_counts = probe_counts.drop(['TargetName', 'ProbeName', 'ProbeDisplayName', 'TargetName', 'HUGOSymbol',\n",
    "                                 'Accessions', 'GenomeBuild', 'GenomicPosition', 'GlobalOutlier', 'GlobalOutlierReason',\n",
    "                                 'OutlierFrequency', 'OutlierAOIs', 'Gene'],1)\n",
    "probe_counts = probe_counts.rename(index=genes)\n",
    "probe_counts = probe_counts.astype('int')\n",
    "negprobe_counts = probe_counts.loc[probe_counts.index == 'NegProbe-WTX', ]\n",
    "negprobe_counts.index = negprobe_counts.index + '-' + [str(x) for x in range(len(negprobe_counts.index))]\n",
    "adataB = sc.AnnData(X=np.array(counts).T, obs=pd.concat((metadata, properties), axis = 1), var=np.array(counts.index))\n",
    "adataB.var_names = counts.index\n",
    "adataB.obsm['negProbes'] = negprobe_counts.T\n",
    "adataB.obs['GeoLOD2.0_01'] = adataB.obs['NegGeoMean_01'] * adataB.obs['NegGeoSD_01']**2\n",
    "adataB.obs['DetectedGenes2.0'] = np.sum(np.array([adataB.X[i,:] >= adataB.obs['GeoLOD2.0_01'].iloc[i] for i in range(len(adataB.X[:,1]))]), axis = 1)\n",
    "adataB.var['SYMBOL'] = adataB.var[0]\n",
    "adataB.var = adataB.var.drop(0, axis = 1)\n",
    "adataB.var.index = [str(x) for x in range(len(adataB.var.index))]"
   ]
  },
  {
   "cell_type": "code",
   "execution_count": 19,
   "metadata": {},
   "outputs": [],
   "source": [
    "adata = anndata.AnnData.concatenate(adataA,adataB[adataB.obs['Pool'] == 'CRcellsB',:])"
   ]
  },
  {
   "cell_type": "code",
   "execution_count": 20,
   "metadata": {},
   "outputs": [
    {
     "data": {
      "text/plain": [
       "HCA_F_BRA11360455-0     NaN\n",
       "HCA_F_BRA11360558-0    11.0\n",
       "HCA_F_BRA11360566-0    13.0\n",
       "HCA_F_BRA11360573-0    16.0\n",
       "HCA_F_BRA11360547-1     7.0\n",
       "Name: roi, dtype: float64"
      ]
     },
     "execution_count": 20,
     "metadata": {},
     "output_type": "execute_result"
    }
   ],
   "source": [
    "adata[np.array(adata.obs['NegGeoMean_01'] == 1),:].obs['roi']"
   ]
  },
  {
   "cell_type": "code",
   "execution_count": 21,
   "metadata": {},
   "outputs": [
    {
     "data": {
      "text/plain": [
       "HCA_F_BRA11360455-0    No Template Control\n",
       "HCA_F_BRA11360558-0            NS_DSP_01FS\n",
       "HCA_F_BRA11360566-0            NS_DSP_01FS\n",
       "HCA_F_BRA11360573-0            NS_DSP_01FS\n",
       "HCA_F_BRA11360547-1            NS_DSP_01FS\n",
       "Name: slide name, dtype: object"
      ]
     },
     "execution_count": 21,
     "metadata": {},
     "output_type": "execute_result"
    }
   ],
   "source": [
    "adata[np.array(adata.obs['NegGeoMean_01'] == 1),:].obs['slide name']"
   ]
  },
  {
   "cell_type": "code",
   "execution_count": 22,
   "metadata": {},
   "outputs": [
    {
     "data": {
      "text/plain": [
       "AnnData object with n_obs × n_vars = 121 × 18677\n",
       "    obs: 'Sample_ID', 'Manifest ID', 'slide name', 'scan name', 'panel', 'roi', 'segment', 'aoi', 'area', 'Type', 'Species', 'Age', 'Background', 'Tissue', 'Slide code', 'Sample slide ID', 'TR', 'Cy5', 'Cy3', 'Pool', 'Collection plate', 'Well', 'PCR plate', 'PCR well', 'Primer plate', 'Primer well', 'I7_Index_ID', 'index', 'I5_Index_ID', 'index2', 'Notes', 'Sanger Sample ID', 'Tag', 'Reads, count', 'Reads, %', 'expected_neg', 'ns_sample_ID', 'RawReads', 'TrimmedReads', 'StitchedReads', 'AlignedReads', 'DeduplicatedReads', 'SequencingSaturation', 'UID', 'NegGeoMean_01', 'NegGeoSD_01', 'GeoLOQ2.5_01', 'NormFactorNeg_01', 'NormFactorQ3', 'NormFactorHK', 'GeoLOD2.0_01', 'DetectedGenes2.0', 'batch'\n",
       "    var: 'SYMBOL'\n",
       "    obsm: 'negProbes'"
      ]
     },
     "execution_count": 22,
     "metadata": {},
     "output_type": "execute_result"
    }
   ],
   "source": [
    "adata"
   ]
  },
  {
   "cell_type": "code",
   "execution_count": 23,
   "metadata": {},
   "outputs": [],
   "source": [
    "adata = adata[~np.array([adata.obs['roi'].iloc[i] in (11,13,16,7) and adata.obs['slide name'].iloc[i] == 'NS_DSP_01FS'\n",
    "                        for i in range(len(adata.obs['roi']))]),:]"
   ]
  },
  {
   "cell_type": "code",
   "execution_count": 24,
   "metadata": {},
   "outputs": [
    {
     "data": {
      "text/plain": [
       "View of AnnData object with n_obs × n_vars = 109 × 18677\n",
       "    obs: 'Sample_ID', 'Manifest ID', 'slide name', 'scan name', 'panel', 'roi', 'segment', 'aoi', 'area', 'Type', 'Species', 'Age', 'Background', 'Tissue', 'Slide code', 'Sample slide ID', 'TR', 'Cy5', 'Cy3', 'Pool', 'Collection plate', 'Well', 'PCR plate', 'PCR well', 'Primer plate', 'Primer well', 'I7_Index_ID', 'index', 'I5_Index_ID', 'index2', 'Notes', 'Sanger Sample ID', 'Tag', 'Reads, count', 'Reads, %', 'expected_neg', 'ns_sample_ID', 'RawReads', 'TrimmedReads', 'StitchedReads', 'AlignedReads', 'DeduplicatedReads', 'SequencingSaturation', 'UID', 'NegGeoMean_01', 'NegGeoSD_01', 'GeoLOQ2.5_01', 'NormFactorNeg_01', 'NormFactorQ3', 'NormFactorHK', 'GeoLOD2.0_01', 'DetectedGenes2.0', 'batch'\n",
       "    var: 'SYMBOL'\n",
       "    obsm: 'negProbes'"
      ]
     },
     "execution_count": 24,
     "metadata": {},
     "output_type": "execute_result"
    }
   ],
   "source": [
    "adata"
   ]
  },
  {
   "cell_type": "code",
   "execution_count": 25,
   "metadata": {},
   "outputs": [
    {
     "name": "stdout",
     "output_type": "stream",
     "text": [
      "2559.9166666666665\n",
      "2827.1388888888887\n",
      "-267.2222222222222\n",
      "-0.09452037297228252\n"
     ]
    }
   ],
   "source": [
    "detectedA = np.mean(adata.obs['DetectedGenes2.0'].loc[adata.obs['Pool'] == 'CRcellsA'])\n",
    "detectedB = np.mean(adata.obs['DetectedGenes2.0'].loc[adata.obs['Pool'] == 'CRcellsB'])\n",
    "print(detectedA)\n",
    "print(detectedB)\n",
    "print(detectedA - detectedB)\n",
    "print((detectedA - detectedB)/detectedB)"
   ]
  },
  {
   "cell_type": "code",
   "execution_count": 26,
   "metadata": {},
   "outputs": [
    {
     "data": {
      "text/plain": [
       "Text(0, 0.5, 'Detected Genes')"
      ]
     },
     "execution_count": 26,
     "metadata": {},
     "output_type": "execute_result"
    },
    {
     "data": {
      "image/png": "[encoded data removed]",
      "text/plain": [
       "<Figure size 432x288 with 1 Axes>"
      ]
     },
     "metadata": {
      "needs_background": "light"
     },
     "output_type": "display_data"
    }
   ],
   "source": [
    "subsetA = adata.obs['Pool'] == 'CRcellsA'\n",
    "subsetB = adata.obs['Pool'] == 'CRcellsB'\n",
    "plt.scatter(adata.obs['area'].loc[subsetA], adata.obs['DetectedGenes2.0'].loc[subsetA], label = 'A', alpha = 0.75)\n",
    "plt.scatter(adata.obs['area'].loc[subsetB], adata.obs['DetectedGenes2.0'].loc[subsetB], label = 'B', alpha = 0.75)\n",
    "plt.legend()\n",
    "plt.xlabel('Area')\n",
    "plt.ylabel('Detected Genes')"
   ]
  },
  {
   "cell_type": "code",
   "execution_count": 27,
   "metadata": {},
   "outputs": [
    {
     "name": "stderr",
     "output_type": "stream",
     "text": [
      "No handles with labels found to put in legend.\n"
     ]
    },
    {
     "data": {
      "text/plain": [
       "(0.0, 6000.0)"
      ]
     },
     "execution_count": 27,
     "metadata": {},
     "output_type": "execute_result"
    },
    {
     "data": {
      "image/png": "[encoded data removed]",
      "text/plain": [
       "<Figure size 432x288 with 1 Axes>"
      ]
     },
     "metadata": {
      "needs_background": "light"
     },
     "output_type": "display_data"
    }
   ],
   "source": [
    "subsetA = adata.obs['Pool'] == 'CRcellsA'\n",
    "subsetB = adata.obs['Pool'] == 'CRcellsB'\n",
    "plt.scatter(range(6000), range(6000), c = 'black', s = 1)\n",
    "plt.scatter(adata.obs['DetectedGenes2.0'].loc[subsetA], adata.obs['DetectedGenes2.0'].loc[subsetB], s = 100, alpha = 0.8)\n",
    "plt.legend()\n",
    "plt.xlabel('Detected Genes A')\n",
    "plt.ylabel('Detected Genes B')\n",
    "plt.ylim(0,6000)\n",
    "plt.xlim(0,6000)"
   ]
  },
  {
   "cell_type": "markdown",
   "metadata": {},
   "source": [
    "Save for later use:"
   ]
  },
  {
   "cell_type": "code",
   "execution_count": 34,
   "metadata": {},
   "outputs": [
    {
     "name": "stderr",
     "output_type": "stream",
     "text": [
      "/nfs/team283/aa16/software/miniconda3/envs/cellpymc/lib/python3.7/site-packages/anndata/_core/anndata.py:1229: ImplicitModificationWarning: Initializing view as actual.\n",
      "  \"Initializing view as actual.\", ImplicitModificationWarning\n",
      "Trying to set attribute `.obs` of view, copying.\n",
      "... storing 'Sample_ID' as categorical\n",
      "Trying to set attribute `.obs` of view, copying.\n",
      "... storing 'slide name' as categorical\n",
      "Trying to set attribute `.obs` of view, copying.\n",
      "... storing 'scan name' as categorical\n",
      "Trying to set attribute `.obs` of view, copying.\n",
      "... storing 'panel' as categorical\n",
      "Trying to set attribute `.obs` of view, copying.\n",
      "... storing 'segment' as categorical\n",
      "Trying to set attribute `.obs` of view, copying.\n",
      "... storing 'aoi' as categorical\n",
      "Trying to set attribute `.obs` of view, copying.\n",
      "... storing 'Type' as categorical\n",
      "Trying to set attribute `.obs` of view, copying.\n",
      "... storing 'Species' as categorical\n",
      "Trying to set attribute `.obs` of view, copying.\n",
      "... storing 'Age' as categorical\n",
      "Trying to set attribute `.obs` of view, copying.\n",
      "... storing 'Background' as categorical\n",
      "Trying to set attribute `.obs` of view, copying.\n",
      "... storing 'Tissue' as categorical\n",
      "Trying to set attribute `.obs` of view, copying.\n",
      "... storing 'Slide code' as categorical\n",
      "Trying to set attribute `.obs` of view, copying.\n",
      "... storing 'Sample slide ID' as categorical\n",
      "Trying to set attribute `.obs` of view, copying.\n",
      "... storing 'TR' as categorical\n",
      "Trying to set attribute `.obs` of view, copying.\n",
      "... storing 'Cy5' as categorical\n",
      "Trying to set attribute `.obs` of view, copying.\n",
      "... storing 'Cy3' as categorical\n",
      "Trying to set attribute `.obs` of view, copying.\n",
      "... storing 'Pool' as categorical\n",
      "Trying to set attribute `.obs` of view, copying.\n",
      "... storing 'Well' as categorical\n",
      "Trying to set attribute `.obs` of view, copying.\n",
      "... storing 'PCR plate' as categorical\n",
      "Trying to set attribute `.obs` of view, copying.\n",
      "... storing 'PCR well' as categorical\n",
      "Trying to set attribute `.obs` of view, copying.\n",
      "... storing 'Primer plate' as categorical\n",
      "Trying to set attribute `.obs` of view, copying.\n",
      "... storing 'Primer well' as categorical\n",
      "Trying to set attribute `.obs` of view, copying.\n",
      "... storing 'Notes' as categorical\n",
      "Trying to set attribute `.obs` of view, copying.\n",
      "... storing 'ns_sample_ID' as categorical\n"
     ]
    }
   ],
   "source": [
    "adata.write_h5ad('/nfs/team283/aa16/KR_NAS/data/CR_cells_14pcw_AnnData.h5ad')"
   ]
  },
  {
   "cell_type": "code",
   "execution_count": null,
   "metadata": {},
   "outputs": [],
   "source": []
  }
 ],
 "metadata": {
  "kernelspec": {
   "display_name": "Python [conda env:cellpymc]",
   "language": "python",
   "name": "conda-env-cellpymc-py"
  },
  "language_info": {
   "codemirror_mode": {
    "name": "ipython",
    "version": 3
   },
   "file_extension": ".py",
   "mimetype": "text/x-python",
   "name": "python",
   "nbconvert_exporter": "python",
   "pygments_lexer": "ipython3",
   "version": "3.7.11"
  }
 },
 "nbformat": 4,
 "nbformat_minor": 4
}
