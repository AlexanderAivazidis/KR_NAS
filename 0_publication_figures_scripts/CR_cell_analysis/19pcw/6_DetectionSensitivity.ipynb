{
 "cells": [
  {
   "cell_type": "code",
   "execution_count": 12,
   "metadata": {},
   "outputs": [],
   "source": [
    "import sys,os\n",
    "import pickle\n",
    "import anndata\n",
    "import pandas as pd\n",
    "import numpy as np\n",
    "import scanpy as sc\n",
    "import pickle\n",
    "import matplotlib.pyplot as plt"
   ]
  },
  {
   "cell_type": "code",
   "execution_count": 2,
   "metadata": {},
   "outputs": [],
   "source": [
    "adata = sc.read_h5ad(open(\"/nfs/team283/aa16/KR_NAS/data/CR_cells_AnnData_1.h5ad\", \"rb\"))"
   ]
  },
  {
   "cell_type": "code",
   "execution_count": 3,
   "metadata": {},
   "outputs": [],
   "source": [
    "adata = adata[adata.obs['Pool'] == 'CRcells',:]"
   ]
  },
  {
   "cell_type": "code",
   "execution_count": 4,
   "metadata": {},
   "outputs": [
    {
     "name": "stderr",
     "output_type": "stream",
     "text": [
      "Trying to set attribute `.obs` of view, copying.\n"
     ]
    }
   ],
   "source": [
    "adata.obs['GeoLOD2.0_01'] = adata.obs['NegGeoMean_01'] * adata.obs['NegGeoSD_01']**2"
   ]
  },
  {
   "cell_type": "code",
   "execution_count": 5,
   "metadata": {},
   "outputs": [],
   "source": [
    "adata.obs['Donor'] = [x.split('-')[0] for x in adata.obs['Sample slide ID']]"
   ]
  },
  {
   "cell_type": "code",
   "execution_count": 8,
   "metadata": {},
   "outputs": [],
   "source": [
    "unique_donors = np.unique(adata.obs['Donor'])\n",
    "detection_list = []\n",
    "nuclei_list = []\n",
    "for j in range(len(unique_donors)):\n",
    "    subset = [adata.obs['Donor'][i] == unique_donors[j] for i in range(len(adata.obs['Donor']))]\n",
    "    adata_subset = adata[subset,:]\n",
    "    detection_list.append([sum(adata_subset.X[i,:] > adata_subset.obs['GeoLOD2.0_01'].iloc[i]) for i in range(np.shape(adata_subset)[0])])\n",
    "    nuclei_list.append(np.array(adata_subset.obs['nuclei']))"
   ]
  },
  {
   "cell_type": "code",
   "execution_count": 18,
   "metadata": {},
   "outputs": [],
   "source": [
    "donor = ('Donor 1', 'Donor 2')\n",
    "colours = ('Red', 'Blue', 'Yellow', 'Grey')\n",
    "\n",
    "SMALL_SIZE = 18\n",
    "MEDIUM_SIZE = 18\n",
    "BIGGER_SIZE = 18\n",
    "\n",
    "plt.rc('font', size=SMALL_SIZE)          # controls default text sizes\n",
    "plt.rc('axes', titlesize=SMALL_SIZE)     # fontsize of the axes title\n",
    "plt.rc('axes', labelsize=MEDIUM_SIZE)    # fontsize of the x and y labels\n",
    "plt.rc('xtick', labelsize=SMALL_SIZE)    # fontsize of the tick labels\n",
    "plt.rc('ytick', labelsize=SMALL_SIZE)    # fontsize of the tick labels\n",
    "plt.rc('legend', fontsize=14)  # legend fontsize\n",
    "plt.rc('figure', titlesize=BIGGER_SIZE)  # fontsize of the figure title\n",
    "\n",
    "plt.figure(figsize=(4,6))\n",
    "\n",
    "count = 0\n",
    "for j in range(2):\n",
    "        plt.scatter(nuclei_list[count], detection_list[count], c = colours[j],\n",
    "                    label = donor[j],\n",
    "                    s = 50)\n",
    "        plt.legend(loc = 'lower right')\n",
    "        plt.ylabel('Number of detected genes')\n",
    "        plt.xlabel('Number of nuclei')\n",
    "        count += 1\n",
    "\n",
    "plt.savefig('/nfs/team283/aa16/KR_NAS/0_publication_figures/Figure5_DetectedGenesPerAOI_vsNuclei_LoD20.pdf',\n",
    "            bbox_inches=\"tight\")"
   ]
  },
  {
   "cell_type": "code",
   "execution_count": null,
   "metadata": {},
   "outputs": [],
   "source": []
  }
 ],
 "metadata": {
  "kernelspec": {
   "display_name": "Python [conda env:ts21]",
   "language": "python",
   "name": "conda-env-ts21-py"
  },
  "language_info": {
   "codemirror_mode": {
    "name": "ipython",
    "version": 3
   },
   "file_extension": ".py",
   "mimetype": "text/x-python",
   "name": "python",
   "nbconvert_exporter": "python",
   "pygments_lexer": "ipython3",
   "version": "3.9.5"
  }
 },
 "nbformat": 4,
 "nbformat_minor": 4
}
