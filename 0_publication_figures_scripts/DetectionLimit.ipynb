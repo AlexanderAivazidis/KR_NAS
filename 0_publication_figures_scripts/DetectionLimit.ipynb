{
 "cells": [
  {
   "cell_type": "markdown",
   "metadata": {},
   "source": [
    "Make plots for transcriptome wide detection and detection sensitivity."
   ]
  },
  {
   "cell_type": "code",
   "execution_count": 1,
   "metadata": {},
   "outputs": [
    {
     "name": "stdout",
     "output_type": "stream",
     "text": [
      "Populating the interactive namespace from numpy and matplotlib\n"
     ]
    },
    {
     "name": "stderr",
     "output_type": "stream",
     "text": [
      "/nfs/users/nfs_a/aa16/.local/lib/python3.7/site-packages/anndata/_core/anndata.py:21: FutureWarning: pandas.core.index is deprecated and will be removed in a future version.  The public classes are available in the top-level namespace.\n",
      "  from pandas.core.index import RangeIndex\n"
     ]
    }
   ],
   "source": [
    "import sys,os\n",
    "path = '/nfs/team283/aa16/KR_NAS/'\n",
    "os.chdir(path)\n",
    "sys.path.append(path)\n",
    "%pylab inline\n",
    "import pandas as pd\n",
    "import pickle as pickle\n",
    "import matplotlib\n",
    "matplotlib.rcParams['pdf.fonttype'] = 42\n",
    "matplotlib.rcParams['ps.fonttype'] = 42\n",
    "import isctools\n",
    "data_type = 'float32'\n",
    "os.environ[\"THEANO_FLAGS\"] = 'device=cuda,floatX=' + data_type + ',force_device=True' + ',dnn.enabled=False'"
   ]
  },
  {
   "cell_type": "markdown",
   "metadata": {},
   "source": [
    "Load data:"
   ]
  },
  {
   "cell_type": "code",
   "execution_count": 2,
   "metadata": {},
   "outputs": [],
   "source": [
    "adata = pickle.load(open('../KR_NAS/data/nanostringWTA_fetailBrain_AnnData.p',  \"rb\"))\n",
    "adata = adata[:,adata.var_names != 'NegProbe-WTX']"
   ]
  },
  {
   "cell_type": "code",
   "execution_count": 3,
   "metadata": {},
   "outputs": [
    {
     "name": "stderr",
     "output_type": "stream",
     "text": [
      "Trying to set attribute `.obs` of view, copying.\n"
     ]
    }
   ],
   "source": [
    "adata.obs['GeoLOD2.0_01'] = adata.obs['NegGeoMean_01'] * adata.obs['NegGeoSD_01']**2"
   ]
  },
  {
   "cell_type": "markdown",
   "metadata": {},
   "source": [
    "Add number of detected genes to adata object:"
   ]
  },
  {
   "cell_type": "code",
   "execution_count": 4,
   "metadata": {},
   "outputs": [],
   "source": [
    "adata.obs['DetectedGenes2.5'] = np.sum(np.array([adata.X[i,:] >= adata.obs['GeoLOD2.5_01'].iloc[i] for i in range(len(adata.X[:,1]))]), axis = 1)\n",
    "adata.obs['DetectedGenes2.0'] = np.sum(np.array([adata.X[i,:] >= adata.obs['GeoLOD2.0_01'].iloc[i] for i in range(len(adata.X[:,1]))]), axis = 1)"
   ]
  },
  {
   "cell_type": "markdown",
   "metadata": {},
   "source": [
    "Also add number of detected vRG and IP markers to adata object:"
   ]
  },
  {
   "cell_type": "code",
   "execution_count": 5,
   "metadata": {},
   "outputs": [],
   "source": [
    "markers = pd.read_csv('../data/fetalBrain/Polioudakis/clusterMarkers.csv')\n",
    "vRG_markers = np.array(markers['gene'].loc[[markers['p_val'][i] < 0.01\n",
    "                      and markers['cluster'][i] == 'vRG' for i in range(len(markers['cluster']))]])\n",
    "vRG_index = [np.where(adata.var_names == g)[0][0] for g in vRG_markers if g in adata.var_names]\n",
    "\n",
    "IP_markers = np.array(markers['gene'].loc[[markers['p_val'][i] < 0.01\n",
    "                           and markers['cluster'][i] == 'IP' for i in range(len(markers['cluster']))]])\n",
    "IP_index = [np.where(adata.var_names == g)[0][0] for g in IP_markers if g in adata.var_names]\n",
    "\n",
    "InMGE_markers = np.array(markers['gene'].loc[[markers['p_val'][i] < 0.01\n",
    "                           and markers['cluster'][i] == 'InMGE' for i in range(len(markers['cluster']))]])\n",
    "InMGE_index = [np.where(adata.var_names == g)[0][0] for g in InMGE_markers if g in adata.var_names]\n",
    "\n",
    "InCGE_markers = np.array(markers['gene'].loc[[markers['p_val'][i] < 0.01\n",
    "                           and markers['cluster'][i] == 'InCGE' for i in range(len(markers['cluster']))]])\n",
    "InCGE_index = [np.where(adata.var_names == g)[0][0] for g in InCGE_markers if g in adata.var_names]"
   ]
  },
  {
   "cell_type": "code",
   "execution_count": 6,
   "metadata": {},
   "outputs": [],
   "source": [
    "adata.obs['DetectedGenes2.5_vRG'] = np.sum(np.array([adata.X[i,vRG_index] >= adata.obs['GeoLOD2.5_01'].iloc[i] for i in range(len(adata.X[:,1]))]), axis = 1)\n",
    "adata.obs['DetectedGenes2.5_IP'] = np.sum(np.array([adata.X[i,IP_index] >= adata.obs['GeoLOD2.5_01'].iloc[i] for i in range(len(adata.X[:,1]))]), axis = 1)\n",
    "adata.obs['DetectedGenes2.5_InMGE'] = np.sum(np.array([adata.X[i,InMGE_index] >= adata.obs['GeoLOD2.5_01'].iloc[i] for i in range(len(adata.X[:,1]))]), axis = 1)\n",
    "adata.obs['DetectedGenes2.5_InCGE'] = np.sum(np.array([adata.X[i,InCGE_index] >= adata.obs['GeoLOD2.5_01'].iloc[i] for i in range(len(adata.X[:,1]))]), axis = 1)\n",
    "\n",
    "adata.obs['DetectedGenes2.0_vRG'] = np.sum(np.array([adata.X[i,vRG_index] >= adata.obs['GeoLOD2.0_01'].iloc[i] for i in range(len(adata.X[:,1]))]), axis = 1)\n",
    "adata.obs['DetectedGenes2.0_IP'] = np.sum(np.array([adata.X[i,IP_index] >= adata.obs['GeoLOD2.0_01'].iloc[i] for i in range(len(adata.X[:,1]))]), axis = 1)\n",
    "adata.obs['DetectedGenes2.0_InMGE'] = np.sum(np.array([adata.X[i,InMGE_index] >= adata.obs['GeoLOD2.0_01'].iloc[i] for i in range(len(adata.X[:,1]))]), axis = 1)\n",
    "adata.obs['DetectedGenes2.0_InCGE'] = np.sum(np.array([adata.X[i,InCGE_index] >= adata.obs['GeoLOD2.0_01'].iloc[i] for i in range(len(adata.X[:,1]))]), axis = 1)"
   ]
  },
  {
   "cell_type": "markdown",
   "metadata": {},
   "source": [
    "Plot number of detected genes across all GeometricROIs:"
   ]
  },
  {
   "cell_type": "code",
   "execution_count": 7,
   "metadata": {},
   "outputs": [
    {
     "data": {
      "image/png": "[encoded data removed]",
      "text/plain": [
       "<Figure size 360x360 with 1 Axes>"
      ]
     },
     "metadata": {
      "needs_background": "light"
     },
     "output_type": "display_data"
    }
   ],
   "source": [
    "SMALL_SIZE = 18\n",
    "MEDIUM_SIZE = 18\n",
    "BIGGER_SIZE = 18\n",
    "\n",
    "plt.rc('font', size=SMALL_SIZE)          # controls default text sizes\n",
    "plt.rc('axes', titlesize=SMALL_SIZE)     # fontsize of the axes title\n",
    "plt.rc('axes', labelsize=MEDIUM_SIZE)    # fontsize of the x and y labels\n",
    "plt.rc('xtick', labelsize=SMALL_SIZE)    # fontsize of the tick labels\n",
    "plt.rc('ytick', labelsize=SMALL_SIZE)    # fontsize of the tick labels\n",
    "plt.rc('legend', fontsize=14)            # legend fontsize\n",
    "plt.rc('figure', titlesize=BIGGER_SIZE)  # fontsize of the figure title\n",
    "\n",
    "roi_number = adata.obs['nuclei']\n",
    "detected_genes = adata.obs['DetectedGenes2.0']\n",
    "\n",
    "slide1_subset = [adata.obs['AOI_type'][i] == 'Geometric' and adata.obs['Radial_position'][i] in (2,5)\n",
    "                 and adata.obs['slide'][i] == '00MU' for i in range(len(adata.obs['AOI_type']))]\n",
    "slide2_subset = [adata.obs['AOI_type'][i] == 'Geometric' and adata.obs['Radial_position'][i] in (2,5) \n",
    "                 and adata.obs['slide'][i] in ('00MV', '00MV-2') for i in range(len(adata.obs['AOI_type']))]\n",
    "slide3_subset = [adata.obs['AOI_type'][i] == 'Geometric' and adata.obs['slide'][i] == '00MR' for i in range(len(adata.obs['AOI_type']))]\n",
    "slide4_subset = [adata.obs['AOI_type'][i] == 'Geometric' and adata.obs['Radial_position'][i] in (2,5)\n",
    "                 and adata.obs['slide'][i] == '00MW' for i in range(len(adata.obs['AOI_type']))]\n",
    "\n",
    "plt.figure(figsize=(5,5))\n",
    "plt.scatter(roi_number[slide1_subset], detected_genes[slide1_subset], label = '21GW-1.1', c = 'blue')\n",
    "plt.scatter(roi_number[slide2_subset], detected_genes[slide2_subset], label = '21GW-1.2', c = 'red')\n",
    "plt.scatter(roi_number[slide3_subset], detected_genes[slide3_subset], label = '21GW-2', c = 'yellow')\n",
    "plt.scatter(roi_number[slide4_subset], detected_genes[slide4_subset], label = '16GW-1', c = 'black')\n",
    "plt.xlabel('Number of Nuclei')\n",
    "plt.ylabel('Number of Genes')\n",
    "plt.ylim(-100,11000)\n",
    "plt.legend(ncol = 2, loc = 'lower right', handletextpad=0)\n",
    "plt.tight_layout()\n",
    "plt.savefig('0_publication_figures/Figure1_TranscriptomeWideDetection_xAxisNuclei_SquareFormat_LoD2_Draft2.pdf', bbox_tight = True)"
   ]
  },
  {
   "cell_type": "code",
   "execution_count": 9,
   "metadata": {},
   "outputs": [
    {
     "data": {
      "image/png": "[encoded data removed]",
      "text/plain": [
       "<Figure size 504x360 with 1 Axes>"
      ]
     },
     "metadata": {
      "needs_background": "light"
     },
     "output_type": "display_data"
    }
   ],
   "source": [
    "SMALL_SIZE = 18\n",
    "MEDIUM_SIZE = 18\n",
    "BIGGER_SIZE = 18\n",
    "\n",
    "plt.rc('font', size=SMALL_SIZE)          # controls default text sizes\n",
    "plt.rc('axes', titlesize=SMALL_SIZE)     # fontsize of the axes title\n",
    "plt.rc('axes', labelsize=MEDIUM_SIZE)    # fontsize of the x and y labels\n",
    "plt.rc('xtick', labelsize=SMALL_SIZE)    # fontsize of the tick labels\n",
    "plt.rc('ytick', labelsize=SMALL_SIZE)    # fontsize of the tick labels\n",
    "plt.rc('legend', fontsize=14)            # legend fontsize\n",
    "plt.rc('figure', titlesize=BIGGER_SIZE)  # fontsize of the figure title\n",
    "\n",
    "roi_number = adata.obs['nuclei']\n",
    "detected_genes = adata.obs['roi_dimension'].iloc[:,0]\n",
    "\n",
    "slide1_subset = [adata.obs['AOI_type'][i] == 'Geometric' and adata.obs['Radial_position'][i] in (2,5)\n",
    "                 and adata.obs['slide'][i] == '00MU' for i in range(len(adata.obs['AOI_type']))]\n",
    "slide2_subset = [adata.obs['AOI_type'][i] == 'Geometric' and adata.obs['Radial_position'][i] in (2,5) \n",
    "                 and adata.obs['slide'][i] in ('00MV', '00MV-2') for i in range(len(adata.obs['AOI_type']))]\n",
    "slide3_subset = [adata.obs['AOI_type'][i] == 'Geometric' and adata.obs['slide'][i] == '00MR' for i in range(len(adata.obs['AOI_type']))]\n",
    "slide4_subset = [adata.obs['AOI_type'][i] == 'Geometric' and adata.obs['Radial_position'][i] in (2,5)\n",
    "                 and adata.obs['slide'][i] == '00MW' for i in range(len(adata.obs['AOI_type']))]\n",
    "\n",
    "plt.figure(figsize=(7,5))\n",
    "plt.scatter(detected_genes[slide1_subset], roi_number[slide1_subset],  label = '21GW-1.1', c = 'blue')\n",
    "plt.scatter( detected_genes[slide2_subset], roi_number[slide2_subset], label = '21GW-1.2', c = 'red')\n",
    "plt.scatter(detected_genes[slide3_subset], roi_number[slide3_subset],  label = '21GW-2', c = 'yellow')\n",
    "plt.scatter(detected_genes[slide4_subset], roi_number[slide4_subset], label = '16GW-1', c = 'black')\n",
    "plt.ylabel('Number of Nuclei')\n",
    "plt.xlabel('ROI size (' + \"$\\mu m^2$\" + ')')\n",
    "#plt.ylim(-100,11000)\n",
    "plt.legend(ncol = 1, loc = 'upper left', handletextpad=0)\n",
    "plt.tight_layout()\n",
    "plt.savefig('0_publication_figures/Supplementary_ROIsize_vs_nucleiNumber.pdf', bbox_tight = True)"
   ]
  },
  {
   "cell_type": "code",
   "execution_count": 38,
   "metadata": {},
   "outputs": [
    {
     "data": {
      "text/plain": [
       "390059.1538"
      ]
     },
     "execution_count": 38,
     "metadata": {},
     "output_type": "execute_result"
    }
   ],
   "source": [
    "np.max(detected_genes[slide1_subset])"
   ]
  },
  {
   "cell_type": "code",
   "execution_count": 15,
   "metadata": {},
   "outputs": [
    {
     "data": {
      "text/plain": [
       "390059.1538"
      ]
     },
     "execution_count": 15,
     "metadata": {},
     "output_type": "execute_result"
    }
   ],
   "source": [
    "np.max(np.array(detected_genes))"
   ]
  },
  {
   "cell_type": "code",
   "execution_count": 26,
   "metadata": {},
   "outputs": [
    {
     "data": {
      "text/plain": [
       "2702"
      ]
     },
     "execution_count": 26,
     "metadata": {},
     "output_type": "execute_result"
    }
   ],
   "source": [
    "np.max(roi_number[slide2_subset])"
   ]
  },
  {
   "cell_type": "code",
   "execution_count": 17,
   "metadata": {},
   "outputs": [
    {
     "data": {
      "text/plain": [
       "2890"
      ]
     },
     "execution_count": 17,
     "metadata": {},
     "output_type": "execute_result"
    }
   ],
   "source": [
    "np.max(roi_number)"
   ]
  },
  {
   "cell_type": "code",
   "execution_count": 29,
   "metadata": {},
   "outputs": [
    {
     "data": {
      "image/png": "[encoded data removed]",
      "text/plain": [
       "<Figure size 504x360 with 1 Axes>"
      ]
     },
     "metadata": {
      "needs_background": "light"
     },
     "output_type": "display_data"
    }
   ],
   "source": [
    "SMALL_SIZE = 18\n",
    "MEDIUM_SIZE = 18\n",
    "BIGGER_SIZE = 18\n",
    "\n",
    "plt.rc('font', size=SMALL_SIZE)          # controls default text sizes\n",
    "plt.rc('axes', titlesize=SMALL_SIZE)     # fontsize of the axes title\n",
    "plt.rc('axes', labelsize=MEDIUM_SIZE)    # fontsize of the x and y labels\n",
    "plt.rc('xtick', labelsize=SMALL_SIZE)    # fontsize of the tick labels\n",
    "plt.rc('ytick', labelsize=SMALL_SIZE)    # fontsize of the tick labels\n",
    "plt.rc('legend', fontsize=14)            # legend fontsize\n",
    "plt.rc('figure', titlesize=BIGGER_SIZE)  # fontsize of the figure title\n",
    "\n",
    "roi_number = adata.obs['nuclei']/adata.obs['roi_dimension'].iloc[:,0]\n",
    "detected_genes = adata.obs['VCDepth']\n",
    "\n",
    "slide1_subset = [adata.obs['AOI_type'][i] == 'Geometric' and adata.obs['Radial_position'][i] in (2,5)\n",
    "                 and adata.obs['slide'][i] == '00MU' for i in range(len(adata.obs['AOI_type']))]\n",
    "slide2_subset = [adata.obs['AOI_type'][i] == 'Geometric' and adata.obs['Radial_position'][i] in (2,5) \n",
    "                 and adata.obs['slide'][i] in ('00MV', '00MV-2') for i in range(len(adata.obs['AOI_type']))]\n",
    "slide3_subset = [adata.obs['AOI_type'][i] == 'Geometric' and adata.obs['slide'][i] == '00MR' for i in range(len(adata.obs['AOI_type']))]\n",
    "slide4_subset = [adata.obs['AOI_type'][i] == 'Geometric' and adata.obs['Radial_position'][i] in (2,5)\n",
    "                 and adata.obs['slide'][i] == '00MW' for i in range(len(adata.obs['AOI_type']))]\n",
    "\n",
    "plt.figure(figsize=(7,5))\n",
    "plt.scatter(detected_genes[slide1_subset], roi_number[slide1_subset],  label = '21GW-1.1', c = 'blue')\n",
    "plt.scatter( detected_genes[slide2_subset], roi_number[slide2_subset], label = '21GW-1.2', c = 'red')\n",
    "plt.scatter(detected_genes[slide4_subset], roi_number[slide4_subset], label = '16GW-1', c = 'black')\n",
    "plt.ylabel('Nuclei Density (nuclei per ' + \"$\\mu m^2$\" + ')')\n",
    "plt.xlabel('ROI size (' + \"$\\mu m^2$\" + ')')\n",
    "#plt.ylim(-100,11000)\n",
    "plt.legend(ncol = 1, loc = 'upper center', handletextpad=0)\n",
    "plt.tight_layout()\n",
    "plt.savefig('0_publication_figures/Supplementary_CorticalDepth_vs_nucleiDensity.pdf', bbox_tight = True)"
   ]
  },
  {
   "cell_type": "code",
   "execution_count": 8,
   "metadata": {},
   "outputs": [],
   "source": [
    "pd.set_option('display.expand_frame_repr', False)\n",
    "test = adata.obs.sort_values('nuclei')\n",
    "test = test.loc[[test['Radial_position'][i] in (2,5) and test['slide'][i] in ('00MV', '00MV-2') \n",
    "          for i in range(len(test['Radial_position']))]]"
   ]
  },
  {
   "cell_type": "code",
   "execution_count": 9,
   "metadata": {},
   "outputs": [
    {
     "name": "stdout",
     "output_type": "stream",
     "text": [
      "HCA_F_BRA8739359    0.521105\n",
      "HCA_F_BRA8739351    0.629048\n",
      "HCA_F_BRA8739216    0.720293\n",
      "HCA_F_BRA8739200    0.621572\n",
      "HCA_F_BRA8739231    0.023035\n",
      "HCA_F_BRA8739208    0.513711\n",
      "HCA_F_BRA8739247    0.087751\n",
      "HCA_F_BRA8739255    0.129799\n",
      "HCA_F_BRA8739224    0.789762\n",
      "HCA_F_BRA8739271    0.253382\n",
      "HCA_F_BRA8739184    0.319196\n",
      "HCA_F_BRA8739239    0.053748\n",
      "HCA_F_BRA8739263    0.182815\n",
      "HCA_F_BRA8739319    0.977071\n",
      "HCA_F_BRA8739192    0.398537\n",
      "HCA_F_BRA8739248    0.963437\n",
      "HCA_F_BRA8739240    0.910420\n",
      "HCA_F_BRA8739232    0.855576\n",
      "HCA_F_BRA8739327    0.921239\n",
      "HCA_F_BRA8739335    0.848656\n",
      "Name: VCDepth, dtype: float64\n",
      "HCA_F_BRA8739359    5.0\n",
      "HCA_F_BRA8739351    5.0\n",
      "HCA_F_BRA8739216    2.0\n",
      "HCA_F_BRA8739200    2.0\n",
      "HCA_F_BRA8739231    2.0\n",
      "HCA_F_BRA8739208    2.0\n",
      "HCA_F_BRA8739247    2.0\n",
      "HCA_F_BRA8739255    2.0\n",
      "HCA_F_BRA8739224    2.0\n",
      "HCA_F_BRA8739271    2.0\n",
      "HCA_F_BRA8739184    2.0\n",
      "HCA_F_BRA8739239    2.0\n",
      "HCA_F_BRA8739263    2.0\n",
      "HCA_F_BRA8739319    5.0\n",
      "HCA_F_BRA8739192    2.0\n",
      "HCA_F_BRA8739248    2.0\n",
      "HCA_F_BRA8739240    2.0\n",
      "HCA_F_BRA8739232    2.0\n",
      "HCA_F_BRA8739327    5.0\n",
      "HCA_F_BRA8739335    5.0\n",
      "Name: Radial_position, dtype: float64\n"
     ]
    }
   ],
   "source": [
    "print(test['VCDepth'])\n",
    "print(test['Radial_position'])"
   ]
  },
  {
   "cell_type": "markdown",
   "metadata": {},
   "source": [
    "Plot number of detected Genes for small VZ ROIs:"
   ]
  },
  {
   "cell_type": "code",
   "execution_count": 10,
   "metadata": {},
   "outputs": [
    {
     "data": {
      "text/plain": [
       "array([['Geometric', 95, 0.007499429],\n",
       "       ['Geometric', 48, 0.007499429],\n",
       "       ['Geometric', 16, 0.007499429],\n",
       "       ['Geometric', 5, 0.007499429]], dtype=object)"
      ]
     },
     "execution_count": 10,
     "metadata": {},
     "output_type": "execute_result"
    }
   ],
   "source": [
    "# Identify small VZ ROIs:\n",
    "subset = [adata.obs['nuclei'][i] < 150 and adata.obs['slide'][i] == '00MU' and adata.obs['AOI_type'][i] == 'Geometric' for i in\n",
    "         range(len(adata.obs['nuclei']))]\n",
    "np.array(adata.obs.loc[:,('AOI_type', 'nuclei','VCDepth')].loc[subset])"
   ]
  },
  {
   "cell_type": "code",
   "execution_count": 11,
   "metadata": {},
   "outputs": [
    {
     "data": {
      "image/png": "[encoded data removed]",
      "text/plain": [
       "<Figure size 360x360 with 1 Axes>"
      ]
     },
     "metadata": {
      "needs_background": "light"
     },
     "output_type": "display_data"
    }
   ],
   "source": [
    "n = 4\n",
    "\n",
    "SMALL_SIZE = 18\n",
    "MEDIUM_SIZE = 18\n",
    "BIGGER_SIZE = 18\n",
    "\n",
    "plt.rc('font', size=SMALL_SIZE)          # controls default text sizes\n",
    "plt.rc('axes', titlesize=SMALL_SIZE)     # fontsize of the axes title\n",
    "plt.rc('axes', labelsize=MEDIUM_SIZE)    # fontsize of the x and y labels\n",
    "plt.rc('xtick', labelsize=SMALL_SIZE)    # fontsize of the tick labels\n",
    "plt.rc('ytick', labelsize=SMALL_SIZE)    # fontsize of the tick labels\n",
    "plt.rc('legend', fontsize=12)            # legend fontsize\n",
    "plt.rc('figure', titlesize=BIGGER_SIZE)  # fontsize of the figure title\n",
    "\n",
    "roi_number = np.array((95,48,16,10)) #adata.obs['nuclei']\n",
    "detected_genes = adata.obs['DetectedGenes2.0']\n",
    "\n",
    "plt.figure(figsize=(5,5))\n",
    "plt.scatter(roi_number, detected_genes[subset], label = 'All Genes (n=18317)', c = 'black')\n",
    "plt.scatter(roi_number, adata.obs['DetectedGenes2.0_vRG'][subset],\n",
    "            label = 'vRG Markers (n=' + str(len(vRG_markers)) + ')' + '\\n' + '(' + \n",
    "            ', '.join([str(np.round(adata.obs['DetectedGenes2.0_vRG'][subset]/len(vRG_markers),2)[i]*100)[:2] + '%' for i in (3,2,1,0)]) + ')' ,\n",
    "            c = 'yellow')\n",
    "plt.scatter(roi_number, adata.obs['DetectedGenes2.0_InMGE'][subset],\n",
    "            label = 'InMGE Markers (n=' + str(len(InMGE_markers)) + ')'+ '\\n' + '(' + \n",
    "            ', '.join([str(np.round(adata.obs['DetectedGenes2.0_InMGE'][subset]/len(InMGE_markers),2)[i]*100)[:2] + '%' for i in (3,2,1,0)]) + ')' ,\n",
    "            c = 'magenta')\n",
    "plt.xlabel('Number of Nuclei')\n",
    "plt.ylabel('Number of Genes')\n",
    "plt.ylim(0,8000)\n",
    "plt.xlim(0,100)\n",
    "plt.legend(ncol = 1, handletextpad=0)\n",
    "\n",
    "text = (r'$\\delta$', r'$\\gamma$', r'$\\beta$', r'$\\alpha$')\n",
    "for i, txt in enumerate(text):\n",
    "    ax = gca()\n",
    "    ax.annotate(txt, (roi_number[i]-2, detected_genes[subset][i]+250))\n",
    "plt.tight_layout()\n",
    "plt.savefig('0_publication_figures/Figure1_DetectionSensitivity_4VZROIs_LoD20_Draft3.pdf')"
   ]
  },
  {
   "cell_type": "code",
   "execution_count": 12,
   "metadata": {},
   "outputs": [
    {
     "data": {
      "text/plain": [
       "array([95, 48, 16, 10])"
      ]
     },
     "execution_count": 12,
     "metadata": {},
     "output_type": "execute_result"
    }
   ],
   "source": [
    "roi_number"
   ]
  },
  {
   "cell_type": "markdown",
   "metadata": {},
   "source": [
    "Check how many vRG genes detected in scRNAseq are also detected in WTA data (possibly include a correlation figure)"
   ]
  },
  {
   "cell_type": "code",
   "execution_count": 13,
   "metadata": {},
   "outputs": [],
   "source": [
    "meanExpression_sc = pd.read_csv('data/polioudakis2019_meanExpressionProfiles.csv')\n",
    "commonGenes = [g for g in meanExpression_sc['Unnamed: 0'] if g in adata.var_names]\n",
    "meanExpression_sc = meanExpression_sc.loc[[g in commonGenes for g in meanExpression_sc['Unnamed: 0']]]\n",
    "adata = adata[:,[g in commonGenes for g in adata.var_names]]"
   ]
  },
  {
   "cell_type": "code",
   "execution_count": 14,
   "metadata": {},
   "outputs": [
    {
     "name": "stdout",
     "output_type": "stream",
     "text": [
      "8731\n",
      "7320\n"
     ]
    }
   ],
   "source": [
    "vRG_scRNAseq = np.sum(meanExpression_sc['vRG'] >= 0.02)\n",
    "vRG_WTA = np.sum(np.sum(np.array([adata.X[i,:] >= adata.obs['GeoLOD2.0_01'].iloc[i] \n",
    "                           for i in np.where(subset)[0]]), axis = 0) > 0)\n",
    "print(vRG_scRNAseq)\n",
    "print(vRG_WTA)"
   ]
  },
  {
   "cell_type": "markdown",
   "metadata": {},
   "source": [
    "total # of genes detected in nanostring across all 21GW ROIs (in one replicate) vs scRNAseq"
   ]
  },
  {
   "cell_type": "code",
   "execution_count": 54,
   "metadata": {},
   "outputs": [
    {
     "data": {
      "text/plain": [
       "<matplotlib.collections.PathCollection at 0x1454db5a2f10>"
      ]
     },
     "execution_count": 54,
     "metadata": {},
     "output_type": "execute_result"
    },
    {
     "data": {
      "image/png": "[encoded data removed]",
      "text/plain": [
       "<Figure size 432x288 with 1 Axes>"
      ]
     },
     "metadata": {
      "needs_background": "light"
     },
     "output_type": "display_data"
    }
   ],
   "source": [
    "subset1 = [adata.obs['slide'].iloc[i] == '00MR'\n",
    "           and adata.obs['Y_coordinate'].iloc[i] > 17000\n",
    "           and adata.obs['X_coordinate'].iloc[i] > 20000\n",
    "           for i in range(len(adata.obs['slide']))]\n",
    "plt.scatter(adata.obs['X_coordinate'], adata.obs['Y_coordinate'])\n",
    "plt.scatter(adata.obs['X_coordinate'].loc[subset1], adata.obs['Y_coordinate'].loc[subset1], c = 'red')"
   ]
  },
  {
   "cell_type": "code",
   "execution_count": 55,
   "metadata": {},
   "outputs": [],
   "source": [
    "subset2 = [adata.obs['slide'].iloc[i] in ('00MV', '00MV-2', '00MU')\n",
    "          and adata.obs['AOI_type'].iloc[i] == 'Geometric'\n",
    "          for i in range(len(adata.obs['slide']))]"
   ]
  },
  {
   "cell_type": "code",
   "execution_count": 59,
   "metadata": {},
   "outputs": [
    {
     "data": {
      "text/plain": [
       "[False,\n",
       " False,\n",
       " False,\n",
       " False,\n",
       " False,\n",
       " False,\n",
       " False,\n",
       " False,\n",
       " False,\n",
       " False,\n",
       " False,\n",
       " False,\n",
       " False,\n",
       " False,\n",
       " False,\n",
       " False,\n",
       " False,\n",
       " False,\n",
       " False,\n",
       " False,\n",
       " False,\n",
       " False,\n",
       " False,\n",
       " False,\n",
       " False,\n",
       " False,\n",
       " False,\n",
       " False,\n",
       " False,\n",
       " False,\n",
       " False,\n",
       " False,\n",
       " False,\n",
       " False,\n",
       " False,\n",
       " False,\n",
       " False,\n",
       " False,\n",
       " False,\n",
       " False,\n",
       " False,\n",
       " False,\n",
       " False,\n",
       " False,\n",
       " False,\n",
       " False,\n",
       " False,\n",
       " False,\n",
       " False,\n",
       " False,\n",
       " False,\n",
       " False,\n",
       " False,\n",
       " False,\n",
       " False,\n",
       " False,\n",
       " False,\n",
       " False,\n",
       " False,\n",
       " False,\n",
       " False,\n",
       " False,\n",
       " False,\n",
       " False,\n",
       " False,\n",
       " False,\n",
       " False,\n",
       " False,\n",
       " False,\n",
       " False,\n",
       " False,\n",
       " False,\n",
       " False,\n",
       " False,\n",
       " False,\n",
       " False,\n",
       " False,\n",
       " False,\n",
       " False,\n",
       " False,\n",
       " False,\n",
       " False,\n",
       " False,\n",
       " False,\n",
       " False,\n",
       " False,\n",
       " False,\n",
       " False,\n",
       " False,\n",
       " False,\n",
       " False,\n",
       " False,\n",
       " True,\n",
       " True,\n",
       " False,\n",
       " False,\n",
       " False,\n",
       " False,\n",
       " True,\n",
       " True,\n",
       " True,\n",
       " True,\n",
       " False,\n",
       " False,\n",
       " False,\n",
       " True,\n",
       " True,\n",
       " True,\n",
       " True,\n",
       " True,\n",
       " False,\n",
       " False,\n",
       " False,\n",
       " True,\n",
       " True,\n",
       " True,\n",
       " True,\n",
       " False,\n",
       " False,\n",
       " False,\n",
       " True,\n",
       " True,\n",
       " True,\n",
       " True,\n",
       " True,\n",
       " False,\n",
       " False,\n",
       " False,\n",
       " True,\n",
       " True,\n",
       " True,\n",
       " True,\n",
       " True,\n",
       " False,\n",
       " False,\n",
       " False,\n",
       " True,\n",
       " True,\n",
       " True,\n",
       " True,\n",
       " False,\n",
       " False,\n",
       " False,\n",
       " True,\n",
       " True,\n",
       " True,\n",
       " True,\n",
       " False,\n",
       " False,\n",
       " False,\n",
       " True,\n",
       " True,\n",
       " True,\n",
       " True,\n",
       " True,\n",
       " False,\n",
       " False,\n",
       " False,\n",
       " True,\n",
       " True,\n",
       " True,\n",
       " True,\n",
       " False,\n",
       " False,\n",
       " False,\n",
       " False,\n",
       " True,\n",
       " False,\n",
       " True,\n",
       " True,\n",
       " False,\n",
       " False,\n",
       " False,\n",
       " False,\n",
       " True,\n",
       " False,\n",
       " True,\n",
       " True,\n",
       " False,\n",
       " False,\n",
       " False,\n",
       " False,\n",
       " True,\n",
       " False,\n",
       " False,\n",
       " False,\n",
       " False,\n",
       " False,\n",
       " False,\n",
       " False,\n",
       " False,\n",
       " False,\n",
       " False,\n",
       " False,\n",
       " False,\n",
       " False,\n",
       " False,\n",
       " False,\n",
       " False,\n",
       " False,\n",
       " False,\n",
       " False,\n",
       " False,\n",
       " False,\n",
       " False,\n",
       " False,\n",
       " False,\n",
       " False,\n",
       " False,\n",
       " False,\n",
       " False,\n",
       " False,\n",
       " False,\n",
       " False,\n",
       " False,\n",
       " False,\n",
       " False,\n",
       " False,\n",
       " False,\n",
       " False,\n",
       " False,\n",
       " False,\n",
       " True,\n",
       " False,\n",
       " False,\n",
       " False,\n",
       " False,\n",
       " False,\n",
       " False,\n",
       " True,\n",
       " False,\n",
       " False,\n",
       " False,\n",
       " False,\n",
       " False,\n",
       " False,\n",
       " True,\n",
       " False,\n",
       " False,\n",
       " False,\n",
       " False,\n",
       " False,\n",
       " False,\n",
       " False,\n",
       " False,\n",
       " False,\n",
       " False,\n",
       " False,\n",
       " True,\n",
       " False,\n",
       " False,\n",
       " False,\n",
       " False,\n",
       " False,\n",
       " True]"
      ]
     },
     "execution_count": 59,
     "metadata": {},
     "output_type": "execute_result"
    }
   ],
   "source": [
    "subset2"
   ]
  },
  {
   "cell_type": "code",
   "execution_count": 66,
   "metadata": {},
   "outputs": [],
   "source": [
    "all_scRNAseq = np.array(meanExpression_sc['Unnamed: 0'].loc[np.sum(meanExpression_sc.iloc[:,1:17] >= 0.02, axis = 1) > 0])\n",
    "\n",
    "geometricROIs_21GW = np.where([subset1[i] or subset2[i] for i in range(len(subset1))])[0]\n",
    "\n",
    "all_WTA = adata.var_names[np.sum(np.array([adata.X[i,:] >= adata.obs['GeoLOD2.0_01'].iloc[i] \n",
    "                           for i in geometricROIs_21GW]), axis = 0) > 2]\n",
    "\n",
    "unique_scRNAseq = [g for g in all_scRNAseq if g not in all_WTA]\n",
    "unique_WTA = [g for g in all_WTA if g not in all_scRNAseq]\n",
    "\n",
    "common = [g for g in all_scRNAseq if g in all_WTA]"
   ]
  },
  {
   "cell_type": "code",
   "execution_count": 67,
   "metadata": {},
   "outputs": [
    {
     "name": "stdout",
     "output_type": "stream",
     "text": [
      "2288\n",
      "820\n",
      "9932\n"
     ]
    }
   ],
   "source": [
    "print(len(unique_scRNAseq))\n",
    "print(len(unique_WTA))\n",
    "print(len(common))"
   ]
  },
  {
   "cell_type": "code",
   "execution_count": 68,
   "metadata": {},
   "outputs": [
    {
     "data": {
      "image/png": "[encoded data removed]",
      "text/plain": [
       "<Figure size 396x720 with 1 Axes>"
      ]
     },
     "metadata": {
      "needs_background": "light"
     },
     "output_type": "display_data"
    }
   ],
   "source": [
    "SMALL_SIZE = 18\n",
    "MEDIUM_SIZE = 18\n",
    "BIGGER_SIZE = 18\n",
    "\n",
    "plt.rc('font', size=SMALL_SIZE)          # controls default text sizes\n",
    "plt.rc('axes', titlesize=SMALL_SIZE)     # fontsize of the axes title\n",
    "plt.rc('axes', labelsize=MEDIUM_SIZE)    # fontsize of the x and y labels\n",
    "plt.rc('xtick', labelsize=SMALL_SIZE)    # fontsize of the tick labels\n",
    "plt.rc('ytick', labelsize=SMALL_SIZE)    # fontsize of the tick labels\n",
    "plt.rc('legend', fontsize=SMALL_SIZE)            # legend fontsize\n",
    "plt.rc('figure', titlesize=BIGGER_SIZE)  # fontsize of the figure title\n",
    " \n",
    "# Values of each group\n",
    "bars1 = [len(common), len(common)]\n",
    "bars2 = [len(unique_scRNAseq), len(unique_WTA)]\n",
    "\n",
    "# The position of the bars on the x-axis\n",
    "r = [0,1]\n",
    " \n",
    "# Names of group and bar width\n",
    "names = ['RNAseq', 'WTA']\n",
    "barWidth = 1\n",
    "\n",
    "plt.figure(figsize=(5.5,10))\n",
    "# Create brown bars\n",
    "plt.bar(r, bars1, color= 'red', edgecolor='white', width=barWidth, label = '... common')\n",
    "# Create green bars (top)\n",
    "plt.bar(r, bars2, bottom=bars1, color='blue', edgecolor='white', width=barWidth, label = '... specific')\n",
    "\n",
    "plt.axhline(y=18317,linewidth=1, color='k', linestyle= '--')\n",
    "plt.text(-0.5,18500, 'All WTA Probes (n = 18318)')\n",
    "\n",
    "plt.ylim(0,20000)\n",
    "\n",
    "# Custom X axis\n",
    "plt.xticks(r, names)\n",
    "\n",
    "plt.legend(loc = (0.1,0.75))\n",
    "\n",
    "plt.tight_layout()\n",
    "plt.savefig('../KR_NAS/0_publication_figures/Figure1_TotalNumberGenesDetected_scRNAseq-vs-WTA_Draft2.pdf')\n",
    "\n",
    "# Show graphic\n",
    "plt.show()"
   ]
  },
  {
   "cell_type": "code",
   "execution_count": 32,
   "metadata": {},
   "outputs": [],
   "source": [
    "all_scRNAseq = np.array(meanExpression_sc['Unnamed: 0'].loc[np.sum(meanExpression_sc.iloc[:,1:17] >= 0.02, axis = 1) > 0])\n",
    "\n",
    "geometricROIs_21GW = np.where([adata.obs['slide'].iloc[i] in ('00MV', '00MV-2', '00MU')\n",
    "#           and adata.obs['AOI_type'].iloc[i] == 'Geometric'\n",
    "#           and adata.obs['Radial_position'].iloc[i] == 2\n",
    "          for i in range(len(adata.obs['slide']))])[0]\n",
    "\n",
    "all_WTA = adata.var_names[np.sum(np.array([adata.X[i,:] >= adata.obs['GeoLOD2.5_01'].iloc[i] \n",
    "                           for i in np.where(geometricROIs_21GW)[0]]), axis = 0) > 2]\n",
    "\n",
    "unique_scRNAseq = [g for g in all_scRNAseq if g not in all_WTA]\n",
    "unique_WTA = [g for g in all_WTA if g not in all_scRNAseq]\n",
    "\n",
    "common = [g for g in all_scRNAseq if g in all_WTA]"
   ]
  },
  {
   "cell_type": "code",
   "execution_count": 33,
   "metadata": {},
   "outputs": [
    {
     "name": "stdout",
     "output_type": "stream",
     "text": [
      "11414\n",
      "12220\n",
      "992\n",
      "1798\n",
      "10422\n"
     ]
    }
   ],
   "source": [
    "print(len(all_WTA))\n",
    "print(len(all_scRNAseq))\n",
    "print(len(unique_WTA))\n",
    "print(len(unique_scRNAseq))\n",
    "print(len(common))"
   ]
  },
  {
   "cell_type": "code",
   "execution_count": null,
   "metadata": {},
   "outputs": [],
   "source": []
  }
 ],
 "metadata": {
  "kernelspec": {
   "display_name": "Python (cellpymc)",
   "language": "python",
   "name": "cellpymc"
  },
  "language_info": {
   "codemirror_mode": {
    "name": "ipython",
    "version": 3
   },
   "file_extension": ".py",
   "mimetype": "text/x-python",
   "name": "python",
   "nbconvert_exporter": "python",
   "pygments_lexer": "ipython3",
   "version": "3.7.6"
  }
 },
 "nbformat": 4,
 "nbformat_minor": 4
}
