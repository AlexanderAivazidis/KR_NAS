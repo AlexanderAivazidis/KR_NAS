{
 "cells": [
  {
   "cell_type": "markdown",
   "metadata": {},
   "source": [
    "Return some statistics about negative probes:"
   ]
  },
  {
   "cell_type": "code",
   "execution_count": 1,
   "metadata": {},
   "outputs": [],
   "source": [
    "import sys,os\n",
    "path = '/nfs/team283/aa16/KR_NAS/'\n",
    "os.chdir(path)\n",
    "sys.path.append(path)"
   ]
  },
  {
   "cell_type": "code",
   "execution_count": 2,
   "metadata": {},
   "outputs": [
    {
     "name": "stderr",
     "output_type": "stream",
     "text": [
      "/nfs/users/nfs_a/aa16/.local/lib/python3.7/site-packages/anndata/_core/anndata.py:21: FutureWarning: pandas.core.index is deprecated and will be removed in a future version.  The public classes are available in the top-level namespace.\n",
      "  from pandas.core.index import RangeIndex\n"
     ]
    }
   ],
   "source": [
    "import pickle\n",
    "import anndata\n",
    "import pandas as pd\n",
    "import numpy as np\n",
    "import scanpy as sc\n",
    "import matplotlib.pyplot as plt\n",
    "import seaborn as sns\n",
    "import diffxpy.api as de\n",
    "import matplotlib\n",
    "matplotlib.rcParams['pdf.fonttype'] = 42\n",
    "matplotlib.rcParams['ps.fonttype'] = 42"
   ]
  },
  {
   "cell_type": "code",
   "execution_count": 3,
   "metadata": {},
   "outputs": [],
   "source": [
    "adata_wta = pickle.load(open(path + \"data/nanostringWTA_fetailBrain_AnnData.p\", \"rb\" ))"
   ]
  },
  {
   "cell_type": "code",
   "execution_count": 4,
   "metadata": {},
   "outputs": [],
   "source": [
    "adata_genes = adata_wta[:, np.array(adata_wta.var != 'NegProbe-WTX')[:,0]]\n",
    "adata_neg = adata_wta[:, np.array(adata_wta.var == 'NegProbe-WTX')[:,0]]"
   ]
  },
  {
   "cell_type": "code",
   "execution_count": 5,
   "metadata": {},
   "outputs": [],
   "source": [
    "totalcounts1 = np.sum(adata_wta.X, axis = 1)\n",
    "totalcounts2 = np.sum(adata_genes.X, axis = 1)"
   ]
  },
  {
   "cell_type": "code",
   "execution_count": 6,
   "metadata": {},
   "outputs": [
    {
     "name": "stdout",
     "output_type": "stream",
     "text": [
      "0.9101187420387069\n",
      "0.04629981643708809\n"
     ]
    }
   ],
   "source": [
    "corrMatrix = np.corrcoef(totalcounts1, adata_neg.X.T)\n",
    "print(np.mean(corrMatrix[0,1:]))\n",
    "print(np.sqrt(np.var(corrMatrix[0,1:])))"
   ]
  },
  {
   "cell_type": "code",
   "execution_count": 7,
   "metadata": {},
   "outputs": [
    {
     "name": "stdout",
     "output_type": "stream",
     "text": [
      "0.9098415471251129\n",
      "0.046366865030593\n"
     ]
    }
   ],
   "source": [
    "corrMatrix = np.corrcoef(totalcounts2, adata_neg.X.T)\n",
    "print(np.mean(corrMatrix[0,1:]))\n",
    "print(np.sqrt(np.var(corrMatrix[0,1:])))"
   ]
  },
  {
   "cell_type": "code",
   "execution_count": 9,
   "metadata": {},
   "outputs": [
    {
     "data": {
      "text/plain": [
       "array([[  6.,   0.,  48., ...,  33.,  20.,  24.],\n",
       "       [ 19.,  21., 123., ...,  36.,  35.,  28.],\n",
       "       [  7.,  22., 140., ...,  54.,  51.,  51.],\n",
       "       ...,\n",
       "       [ 25.,  34., 106., ...,  34.,  51.,  40.],\n",
       "       [ 25.,  30.,  98., ...,  50.,  51.,  43.],\n",
       "       [  8.,  14.,  36., ...,   8.,  17.,  10.]], dtype=float32)"
      ]
     },
     "execution_count": 9,
     "metadata": {},
     "output_type": "execute_result"
    }
   ],
   "source": [
    "adata_wta.X"
   ]
  },
  {
   "cell_type": "code",
   "execution_count": 14,
   "metadata": {},
   "outputs": [],
   "source": [
    "adata_wta.obs.to_csv('/nfs/team283/aa16/KR_NAS/0_publication_tables/SupplementaryTableX_WTA-Experiment_Metadata.csv')"
   ]
  },
  {
   "cell_type": "code",
   "execution_count": 25,
   "metadata": {},
   "outputs": [],
   "source": [
    "pd.DataFrame(data = adata_wta.X.T, index = list(adata_wta.var.index), columns = list(adata_wta.obs.index)).to_csv(\n",
    "'/nfs/team283/aa16/KR_NAS/0_publication_tables/SupplementaryTableX_WTA-Experiment_ProbeCounts.csv')"
   ]
  },
  {
   "cell_type": "code",
   "execution_count": null,
   "metadata": {},
   "outputs": [],
   "source": []
  }
 ],
 "metadata": {
  "kernelspec": {
   "display_name": "Python 3",
   "language": "python",
   "name": "python3"
  },
  "language_info": {
   "codemirror_mode": {
    "name": "ipython",
    "version": 3
   },
   "file_extension": ".py",
   "mimetype": "text/x-python",
   "name": "python",
   "nbconvert_exporter": "python",
   "pygments_lexer": "ipython3",
   "version": "3.7.6"
  }
 },
 "nbformat": 4,
 "nbformat_minor": 4
}
