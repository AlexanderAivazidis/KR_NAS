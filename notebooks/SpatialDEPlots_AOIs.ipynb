{
 "cells": [
  {
   "cell_type": "markdown",
   "metadata": {},
   "source": [
    "In this notebook, we extract significantly spatially varying genes in cell type specific AOIs."
   ]
  },
  {
   "cell_type": "markdown",
   "metadata": {},
   "source": [
    "Load relevant packages, including SpatialDE:"
   ]
  },
  {
   "cell_type": "code",
   "execution_count": 1,
   "metadata": {},
   "outputs": [],
   "source": [
    "import sys,os\n",
    "path = '/nfs/team283/aa16/InSituCellTools/'\n",
    "os.chdir(path)\n",
    "sys.path.append(path)"
   ]
  },
  {
   "cell_type": "code",
   "execution_count": 2,
   "metadata": {},
   "outputs": [
    {
     "name": "stdout",
     "output_type": "stream",
     "text": [
      "Populating the interactive namespace from numpy and matplotlib\n"
     ]
    }
   ],
   "source": [
    "%pylab inline\n",
    "import pandas as pd\n",
    "import NaiveDE\n",
    "import SpatialDE\n",
    "import statsmodels.stats.multitest as multi\n",
    "import scipy.stats as ss\n",
    "import pickle as pickle\n",
    "import scipy as sc"
   ]
  },
  {
   "cell_type": "markdown",
   "metadata": {},
   "source": [
    "Load the data and remove negative probes for this analysis:"
   ]
  },
  {
   "cell_type": "code",
   "execution_count": 3,
   "metadata": {},
   "outputs": [
    {
     "name": "stderr",
     "output_type": "stream",
     "text": [
      "/nfs/users/nfs_a/aa16/.local/lib/python3.7/site-packages/anndata/_core/anndata.py:21: FutureWarning: pandas.core.index is deprecated and will be removed in a future version.  The public classes are available in the top-level namespace.\n",
      "  from pandas.core.index import RangeIndex\n"
     ]
    }
   ],
   "source": [
    "adata = pickle.load(open('data/nanostringWTA_fetailBrain_AnnData.p',  \"rb\"))\n",
    "adata = adata[:,adata.var_names != 'NegProbe-WTX']"
   ]
  },
  {
   "cell_type": "markdown",
   "metadata": {},
   "source": [
    "Choose the data from 19pcw replicates, in cell type specific AOIs at radial position 1,3:"
   ]
  },
  {
   "cell_type": "code",
   "execution_count": 4,
   "metadata": {},
   "outputs": [],
   "source": [
    "subset_19pcw = list()\n",
    "for j in range(2):\n",
    "    subset_19pcw.append([adata.obs['Radial_position'][i] in (1,3) and\n",
    "                    adata.obs['AOI_type'][i] == ('HOPXpos', 'EOMESpos')[j] and\n",
    "                    adata.obs['age'][i] == '19pcw' for i in range(np.shape(adata.obs)[0])])"
   ]
  },
  {
   "cell_type": "markdown",
   "metadata": {},
   "source": [
    "Prepare data for spatialDE:"
   ]
  },
  {
   "cell_type": "code",
   "execution_count": 5,
   "metadata": {},
   "outputs": [],
   "source": [
    "adata.layers['Stabilized'] = NaiveDE.stabilize(adata.X)\n",
    "adata.obs['TotalCounts'] = np.sum(adata.X, axis = 1)\n",
    "adata.layers['TotalCountsRegressed'] = NaiveDE.regress_out(adata.obs, adata.layers['Stabilized'].T, 'np.log(TotalCounts)').T\n",
    "adata.layers['CPM'] = np.asarray([adata.X[i,:]/adata.obs['TotalCounts'][i] for i in range(len(adata.obs['TotalCounts']))])*10**6\n",
    "adata.layers['zscore_19pcw'] = sc.stats.zscore(np.log2(adata.layers['CPM']+1), axis = 0)"
   ]
  },
  {
   "cell_type": "markdown",
   "metadata": {},
   "source": [
    "Run spatialDE (only on genes detected in at least 5 ROIs):"
   ]
  },
  {
   "cell_type": "code",
   "execution_count": 6,
   "metadata": {},
   "outputs": [
    {
     "name": "stdout",
     "output_type": "stream",
     "text": [
      "0\n",
      "1\n"
     ]
    }
   ],
   "source": [
    "detected = list()\n",
    "for j in range(2):\n",
    "    print(j)\n",
    "    detected.append([[adata.X[subset_19pcw[j],i][x] > adata.obs['GeoLOD2.5_01'][subset_19pcw[j]][x] \n",
    "     for i in range(np.shape(adata.X)[1])]\n",
    "     for x in range(sum(subset_19pcw[j]))])"
   ]
  },
  {
   "cell_type": "code",
   "execution_count": 7,
   "metadata": {},
   "outputs": [],
   "source": [
    "keep_genes = list()\n",
    "for j in range(2):\n",
    "    keep_genes.append(np.sum(detected[j], axis = 0) > 2)"
   ]
  },
  {
   "cell_type": "code",
   "execution_count": 8,
   "metadata": {},
   "outputs": [
    {
     "name": "stdout",
     "output_type": "stream",
     "text": [
      "0\n"
     ]
    },
    {
     "data": {
      "application/vnd.jupyter.widget-view+json": {
       "model_id": "243dd6957f92423eae26c5d60e11e4ef",
       "version_major": 2,
       "version_minor": 0
      },
      "text/plain": [
       "HBox(children=(FloatProgress(value=0.0, description='Models: ', max=10.0, style=ProgressStyle(description_widt…"
      ]
     },
     "metadata": {},
     "output_type": "display_data"
    },
    {
     "data": {
      "application/vnd.jupyter.widget-view+json": {
       "model_id": "",
       "version_major": 2,
       "version_minor": 0
      },
      "text/plain": [
       "HBox(children=(FloatProgress(value=0.0, max=6194.0), HTML(value='')))"
      ]
     },
     "metadata": {},
     "output_type": "display_data"
    },
    {
     "data": {
      "application/vnd.jupyter.widget-view+json": {
       "model_id": "",
       "version_major": 2,
       "version_minor": 0
      },
      "text/plain": [
       "HBox(children=(FloatProgress(value=0.0, max=6194.0), HTML(value='')))"
      ]
     },
     "metadata": {},
     "output_type": "display_data"
    },
    {
     "data": {
      "application/vnd.jupyter.widget-view+json": {
       "model_id": "",
       "version_major": 2,
       "version_minor": 0
      },
      "text/plain": [
       "HBox(children=(FloatProgress(value=0.0, max=6194.0), HTML(value='')))"
      ]
     },
     "metadata": {},
     "output_type": "display_data"
    },
    {
     "data": {
      "application/vnd.jupyter.widget-view+json": {
       "model_id": "",
       "version_major": 2,
       "version_minor": 0
      },
      "text/plain": [
       "HBox(children=(FloatProgress(value=0.0, max=6194.0), HTML(value='')))"
      ]
     },
     "metadata": {},
     "output_type": "display_data"
    },
    {
     "data": {
      "application/vnd.jupyter.widget-view+json": {
       "model_id": "",
       "version_major": 2,
       "version_minor": 0
      },
      "text/plain": [
       "HBox(children=(FloatProgress(value=0.0, max=6194.0), HTML(value='')))"
      ]
     },
     "metadata": {},
     "output_type": "display_data"
    },
    {
     "data": {
      "application/vnd.jupyter.widget-view+json": {
       "model_id": "",
       "version_major": 2,
       "version_minor": 0
      },
      "text/plain": [
       "HBox(children=(FloatProgress(value=0.0, max=6194.0), HTML(value='')))"
      ]
     },
     "metadata": {},
     "output_type": "display_data"
    },
    {
     "data": {
      "application/vnd.jupyter.widget-view+json": {
       "model_id": "",
       "version_major": 2,
       "version_minor": 0
      },
      "text/plain": [
       "HBox(children=(FloatProgress(value=0.0, max=6194.0), HTML(value='')))"
      ]
     },
     "metadata": {},
     "output_type": "display_data"
    },
    {
     "data": {
      "application/vnd.jupyter.widget-view+json": {
       "model_id": "",
       "version_major": 2,
       "version_minor": 0
      },
      "text/plain": [
       "HBox(children=(FloatProgress(value=0.0, max=6194.0), HTML(value='')))"
      ]
     },
     "metadata": {},
     "output_type": "display_data"
    },
    {
     "data": {
      "application/vnd.jupyter.widget-view+json": {
       "model_id": "",
       "version_major": 2,
       "version_minor": 0
      },
      "text/plain": [
       "HBox(children=(FloatProgress(value=0.0, max=6194.0), HTML(value='')))"
      ]
     },
     "metadata": {},
     "output_type": "display_data"
    },
    {
     "data": {
      "application/vnd.jupyter.widget-view+json": {
       "model_id": "",
       "version_major": 2,
       "version_minor": 0
      },
      "text/plain": [
       "HBox(children=(FloatProgress(value=0.0, max=6194.0), HTML(value='')))"
      ]
     },
     "metadata": {},
     "output_type": "display_data"
    },
    {
     "name": "stdout",
     "output_type": "stream",
     "text": [
      "\n",
      "1\n"
     ]
    },
    {
     "data": {
      "application/vnd.jupyter.widget-view+json": {
       "model_id": "fe60dc19d2394cad952623bf828abb35",
       "version_major": 2,
       "version_minor": 0
      },
      "text/plain": [
       "HBox(children=(FloatProgress(value=0.0, description='Models: ', max=10.0, style=ProgressStyle(description_widt…"
      ]
     },
     "metadata": {},
     "output_type": "display_data"
    },
    {
     "data": {
      "application/vnd.jupyter.widget-view+json": {
       "model_id": "",
       "version_major": 2,
       "version_minor": 0
      },
      "text/plain": [
       "HBox(children=(FloatProgress(value=0.0, max=5599.0), HTML(value='')))"
      ]
     },
     "metadata": {},
     "output_type": "display_data"
    },
    {
     "data": {
      "application/vnd.jupyter.widget-view+json": {
       "model_id": "",
       "version_major": 2,
       "version_minor": 0
      },
      "text/plain": [
       "HBox(children=(FloatProgress(value=0.0, max=5599.0), HTML(value='')))"
      ]
     },
     "metadata": {},
     "output_type": "display_data"
    },
    {
     "data": {
      "application/vnd.jupyter.widget-view+json": {
       "model_id": "",
       "version_major": 2,
       "version_minor": 0
      },
      "text/plain": [
       "HBox(children=(FloatProgress(value=0.0, max=5599.0), HTML(value='')))"
      ]
     },
     "metadata": {},
     "output_type": "display_data"
    },
    {
     "data": {
      "application/vnd.jupyter.widget-view+json": {
       "model_id": "",
       "version_major": 2,
       "version_minor": 0
      },
      "text/plain": [
       "HBox(children=(FloatProgress(value=0.0, max=5599.0), HTML(value='')))"
      ]
     },
     "metadata": {},
     "output_type": "display_data"
    },
    {
     "data": {
      "application/vnd.jupyter.widget-view+json": {
       "model_id": "",
       "version_major": 2,
       "version_minor": 0
      },
      "text/plain": [
       "HBox(children=(FloatProgress(value=0.0, max=5599.0), HTML(value='')))"
      ]
     },
     "metadata": {},
     "output_type": "display_data"
    },
    {
     "data": {
      "application/vnd.jupyter.widget-view+json": {
       "model_id": "",
       "version_major": 2,
       "version_minor": 0
      },
      "text/plain": [
       "HBox(children=(FloatProgress(value=0.0, max=5599.0), HTML(value='')))"
      ]
     },
     "metadata": {},
     "output_type": "display_data"
    },
    {
     "data": {
      "application/vnd.jupyter.widget-view+json": {
       "model_id": "",
       "version_major": 2,
       "version_minor": 0
      },
      "text/plain": [
       "HBox(children=(FloatProgress(value=0.0, max=5599.0), HTML(value='')))"
      ]
     },
     "metadata": {},
     "output_type": "display_data"
    },
    {
     "data": {
      "application/vnd.jupyter.widget-view+json": {
       "model_id": "",
       "version_major": 2,
       "version_minor": 0
      },
      "text/plain": [
       "HBox(children=(FloatProgress(value=0.0, max=5599.0), HTML(value='')))"
      ]
     },
     "metadata": {},
     "output_type": "display_data"
    },
    {
     "data": {
      "application/vnd.jupyter.widget-view+json": {
       "model_id": "",
       "version_major": 2,
       "version_minor": 0
      },
      "text/plain": [
       "HBox(children=(FloatProgress(value=0.0, max=5599.0), HTML(value='')))"
      ]
     },
     "metadata": {},
     "output_type": "display_data"
    },
    {
     "data": {
      "application/vnd.jupyter.widget-view+json": {
       "model_id": "",
       "version_major": 2,
       "version_minor": 0
      },
      "text/plain": [
       "HBox(children=(FloatProgress(value=0.0, max=5599.0), HTML(value='')))"
      ]
     },
     "metadata": {},
     "output_type": "display_data"
    },
    {
     "name": "stdout",
     "output_type": "stream",
     "text": [
      "\n"
     ]
    }
   ],
   "source": [
    "input_data = list()\n",
    "input_coordinates = list()\n",
    "results = list()\n",
    "for j in range(2):\n",
    "    print(j)\n",
    "    input_data.append(pd.DataFrame(adata.layers['TotalCountsRegressed'][subset_19pcw[j],:][:,keep_genes[j]], index = adata.obs['Sanger_sampleID'][subset_19pcw[j]],\n",
    "                       columns = adata.var_names[keep_genes[j]]))\n",
    "    input_coordinates.append(adata.obs.loc[subset_19pcw[j],('Radial_position', 'VCDepth')].rename(columns={\"Radial_position\": \"x\", \"VCDepth\": \"y\"}))\n",
    "    results.append(SpatialDE.run(input_coordinates[j], input_data[j]))"
   ]
  },
  {
   "cell_type": "markdown",
   "metadata": {},
   "source": [
    "Now remove all spatially varying genes that are also spatially varying in reference rings and higher expressed in reference rings in > 50% of regions."
   ]
  },
  {
   "cell_type": "code",
   "execution_count": null,
   "metadata": {},
   "outputs": [],
   "source": []
  },
  {
   "cell_type": "markdown",
   "metadata": {},
   "source": [
    "Get list of all spatially varying genes:"
   ]
  },
  {
   "cell_type": "code",
   "execution_count": 9,
   "metadata": {},
   "outputs": [
    {
     "name": "stdout",
     "output_type": "stream",
     "text": [
      "0\n",
      "significance threshold (fdr/qval): 0.05\n",
      "genes significant (pval): 400\n",
      "genes significant (fdr): 0\n",
      "genes significant (qval): 0\n",
      "overlap_fdr_qval: nan\n",
      "percent_significant_qval: 0.0\n",
      "percent_significant_fdr: 0.0\n",
      "percent_significant_pval: 0.06457862447529868\n",
      "1\n",
      "significance threshold (fdr/qval): 0.05\n",
      "genes significant (pval): 382\n",
      "genes significant (fdr): 0\n",
      "genes significant (qval): 0\n",
      "overlap_fdr_qval: nan\n",
      "percent_significant_qval: 0.0\n",
      "percent_significant_fdr: 0.0\n",
      "percent_significant_pval: 0.06822646901232363\n"
     ]
    },
    {
     "name": "stderr",
     "output_type": "stream",
     "text": [
      "/nfs/team283/aa16/software/miniconda3/envs/cellpymc/lib/python3.7/site-packages/ipykernel_launcher.py:13: RuntimeWarning: invalid value encountered in double_scalars\n",
      "  del sys.path[0]\n"
     ]
    }
   ],
   "source": [
    "for j in range(2):\n",
    "    print(j)\n",
    "    threshold = 0.05\n",
    "    print('significance threshold (fdr/qval):', threshold)\n",
    "    results[j] = results[j].sort_values('pval')\n",
    "    genes_ranked = np.array(results[j]['g'])\n",
    "    genes_significant_fdr = genes_ranked[multi.multipletests(results[j]['pval'], method = 'fdr_bh')[1] < threshold]\n",
    "    genes_significant_qval = genes_ranked[results[j]['qval'] < 0.05]\n",
    "    genes_significant_pval = genes_ranked[results[j]['pval'] < 0.05]\n",
    "    print('genes significant (pval):', len(genes_significant_pval))\n",
    "    print('genes significant (fdr):', len(genes_significant_fdr))\n",
    "    print('genes significant (qval):', len(genes_significant_qval))\n",
    "    overlap = sum([genes_significant_fdr[i] in genes_significant_qval for i in range(len(genes_significant_fdr))])/len(genes_significant_fdr)\n",
    "    print('overlap_fdr_qval:', overlap)\n",
    "    percent_significant_fdr = len(genes_significant_fdr)/len(genes_ranked)\n",
    "    percent_significant_qval = len(genes_significant_qval)/len(genes_ranked)\n",
    "    percent_significant_pval = len(genes_significant_pval)/len(genes_ranked)\n",
    "    print('percent_significant_qval:', percent_significant_qval)\n",
    "    print('percent_significant_fdr:', percent_significant_fdr)\n",
    "    print('percent_significant_pval:', percent_significant_pval)"
   ]
  },
  {
   "cell_type": "code",
   "execution_count": 10,
   "metadata": {},
   "outputs": [
    {
     "data": {
      "text/html": [
       "<div>\n",
       "<style scoped>\n",
       "    .dataframe tbody tr th:only-of-type {\n",
       "        vertical-align: middle;\n",
       "    }\n",
       "\n",
       "    .dataframe tbody tr th {\n",
       "        vertical-align: top;\n",
       "    }\n",
       "\n",
       "    .dataframe thead th {\n",
       "        text-align: right;\n",
       "    }\n",
       "</style>\n",
       "<table border=\"1\" class=\"dataframe\">\n",
       "  <thead>\n",
       "    <tr style=\"text-align: right;\">\n",
       "      <th></th>\n",
       "      <th>FSV</th>\n",
       "      <th>M</th>\n",
       "      <th>g</th>\n",
       "      <th>l</th>\n",
       "      <th>max_delta</th>\n",
       "      <th>max_ll</th>\n",
       "      <th>max_mu_hat</th>\n",
       "      <th>max_s2_t_hat</th>\n",
       "      <th>model</th>\n",
       "      <th>n</th>\n",
       "      <th>s2_FSV</th>\n",
       "      <th>s2_logdelta</th>\n",
       "      <th>time</th>\n",
       "      <th>BIC</th>\n",
       "      <th>max_ll_null</th>\n",
       "      <th>LLR</th>\n",
       "      <th>pval</th>\n",
       "      <th>qval</th>\n",
       "    </tr>\n",
       "  </thead>\n",
       "  <tbody>\n",
       "    <tr>\n",
       "      <th>5755</th>\n",
       "      <td>8.766174e-01</td>\n",
       "      <td>4</td>\n",
       "      <td>CRH</td>\n",
       "      <td>0.153225</td>\n",
       "      <td>1.034869e-01</td>\n",
       "      <td>-16.212524</td>\n",
       "      <td>-8.071162</td>\n",
       "      <td>1.282877e+01</td>\n",
       "      <td>SE</td>\n",
       "      <td>20</td>\n",
       "      <td>0.002824</td>\n",
       "      <td>2.182603e-01</td>\n",
       "      <td>0.000709</td>\n",
       "      <td>44.407978</td>\n",
       "      <td>-30.035838</td>\n",
       "      <td>13.823314</td>\n",
       "      <td>0.000201</td>\n",
       "      <td>0.909457</td>\n",
       "    </tr>\n",
       "    <tr>\n",
       "      <th>4959</th>\n",
       "      <td>9.988959e-01</td>\n",
       "      <td>4</td>\n",
       "      <td>ZGLP1</td>\n",
       "      <td>0.017224</td>\n",
       "      <td>1.047025e-03</td>\n",
       "      <td>4.829266</td>\n",
       "      <td>-10.492837</td>\n",
       "      <td>5.782062e+01</td>\n",
       "      <td>SE</td>\n",
       "      <td>20</td>\n",
       "      <td>0.000002</td>\n",
       "      <td>1.291963e+00</td>\n",
       "      <td>0.000981</td>\n",
       "      <td>2.324398</td>\n",
       "      <td>-6.764108</td>\n",
       "      <td>11.593373</td>\n",
       "      <td>0.000662</td>\n",
       "      <td>0.909457</td>\n",
       "    </tr>\n",
       "    <tr>\n",
       "      <th>5974</th>\n",
       "      <td>9.085880e-01</td>\n",
       "      <td>4</td>\n",
       "      <td>PAQR8</td>\n",
       "      <td>0.153225</td>\n",
       "      <td>7.397377e-02</td>\n",
       "      <td>-1.446485</td>\n",
       "      <td>-8.765102</td>\n",
       "      <td>1.438106e+01</td>\n",
       "      <td>SE</td>\n",
       "      <td>20</td>\n",
       "      <td>0.002472</td>\n",
       "      <td>3.083703e-01</td>\n",
       "      <td>0.000549</td>\n",
       "      <td>14.875899</td>\n",
       "      <td>-12.159596</td>\n",
       "      <td>10.713112</td>\n",
       "      <td>0.001064</td>\n",
       "      <td>0.909457</td>\n",
       "    </tr>\n",
       "    <tr>\n",
       "      <th>5838</th>\n",
       "      <td>8.595519e-01</td>\n",
       "      <td>4</td>\n",
       "      <td>H1-5</td>\n",
       "      <td>0.153225</td>\n",
       "      <td>1.201394e-01</td>\n",
       "      <td>-2.682387</td>\n",
       "      <td>-6.701099</td>\n",
       "      <td>8.319062e+00</td>\n",
       "      <td>SE</td>\n",
       "      <td>20</td>\n",
       "      <td>0.004826</td>\n",
       "      <td>3.067945e-01</td>\n",
       "      <td>0.000758</td>\n",
       "      <td>17.347703</td>\n",
       "      <td>-13.088361</td>\n",
       "      <td>10.405974</td>\n",
       "      <td>0.001256</td>\n",
       "      <td>0.909457</td>\n",
       "    </tr>\n",
       "    <tr>\n",
       "      <th>6010</th>\n",
       "      <td>8.894919e-01</td>\n",
       "      <td>4</td>\n",
       "      <td>PNRC1</td>\n",
       "      <td>0.153225</td>\n",
       "      <td>9.134688e-02</td>\n",
       "      <td>-0.419480</td>\n",
       "      <td>-9.140696</td>\n",
       "      <td>1.543050e+01</td>\n",
       "      <td>SE</td>\n",
       "      <td>20</td>\n",
       "      <td>0.004083</td>\n",
       "      <td>3.747627e-01</td>\n",
       "      <td>0.000753</td>\n",
       "      <td>12.821890</td>\n",
       "      <td>-10.648000</td>\n",
       "      <td>10.228520</td>\n",
       "      <td>0.001383</td>\n",
       "      <td>0.909457</td>\n",
       "    </tr>\n",
       "    <tr>\n",
       "      <th>...</th>\n",
       "      <td>...</td>\n",
       "      <td>...</td>\n",
       "      <td>...</td>\n",
       "      <td>...</td>\n",
       "      <td>...</td>\n",
       "      <td>...</td>\n",
       "      <td>...</td>\n",
       "      <td>...</td>\n",
       "      <td>...</td>\n",
       "      <td>...</td>\n",
       "      <td>...</td>\n",
       "      <td>...</td>\n",
       "      <td>...</td>\n",
       "      <td>...</td>\n",
       "      <td>...</td>\n",
       "      <td>...</td>\n",
       "      <td>...</td>\n",
       "      <td>...</td>\n",
       "    </tr>\n",
       "    <tr>\n",
       "      <th>2795</th>\n",
       "      <td>2.039574e-09</td>\n",
       "      <td>4</td>\n",
       "      <td>KLHL8</td>\n",
       "      <td>0.001936</td>\n",
       "      <td>4.851652e+08</td>\n",
       "      <td>-18.317715</td>\n",
       "      <td>-10.297761</td>\n",
       "      <td>2.193264e-07</td>\n",
       "      <td>SE</td>\n",
       "      <td>20</td>\n",
       "      <td>0.033267</td>\n",
       "      <td>5.790381e+15</td>\n",
       "      <td>0.000959</td>\n",
       "      <td>48.618360</td>\n",
       "      <td>-18.330648</td>\n",
       "      <td>0.012933</td>\n",
       "      <td>0.909457</td>\n",
       "      <td>0.909457</td>\n",
       "    </tr>\n",
       "    <tr>\n",
       "      <th>3232</th>\n",
       "      <td>2.039574e-09</td>\n",
       "      <td>4</td>\n",
       "      <td>RPL17-C18orf32,C18orf32</td>\n",
       "      <td>0.001936</td>\n",
       "      <td>4.851652e+08</td>\n",
       "      <td>2.008353</td>\n",
       "      <td>-10.457115</td>\n",
       "      <td>2.254884e-07</td>\n",
       "      <td>SE</td>\n",
       "      <td>20</td>\n",
       "      <td>0.028228</td>\n",
       "      <td>4.913361e+15</td>\n",
       "      <td>0.001238</td>\n",
       "      <td>7.966223</td>\n",
       "      <td>1.995420</td>\n",
       "      <td>0.012933</td>\n",
       "      <td>0.909457</td>\n",
       "      <td>0.909457</td>\n",
       "    </tr>\n",
       "    <tr>\n",
       "      <th>1604</th>\n",
       "      <td>2.048816e-09</td>\n",
       "      <td>4</td>\n",
       "      <td>TLK1</td>\n",
       "      <td>0.000218</td>\n",
       "      <td>4.851652e+08</td>\n",
       "      <td>-5.936563</td>\n",
       "      <td>-9.212670</td>\n",
       "      <td>1.751554e-07</td>\n",
       "      <td>SE</td>\n",
       "      <td>20</td>\n",
       "      <td>0.026779</td>\n",
       "      <td>4.619164e+15</td>\n",
       "      <td>0.001148</td>\n",
       "      <td>23.856055</td>\n",
       "      <td>-5.949496</td>\n",
       "      <td>0.012933</td>\n",
       "      <td>0.909457</td>\n",
       "      <td>0.909457</td>\n",
       "    </tr>\n",
       "    <tr>\n",
       "      <th>1456</th>\n",
       "      <td>2.048816e-09</td>\n",
       "      <td>4</td>\n",
       "      <td>SMIM15</td>\n",
       "      <td>0.000218</td>\n",
       "      <td>4.851652e+08</td>\n",
       "      <td>-1.486517</td>\n",
       "      <td>-9.007015</td>\n",
       "      <td>1.673538e-07</td>\n",
       "      <td>SE</td>\n",
       "      <td>20</td>\n",
       "      <td>0.025031</td>\n",
       "      <td>4.317583e+15</td>\n",
       "      <td>0.001298</td>\n",
       "      <td>14.955964</td>\n",
       "      <td>-1.499450</td>\n",
       "      <td>0.012933</td>\n",
       "      <td>0.909457</td>\n",
       "      <td>0.909457</td>\n",
       "    </tr>\n",
       "    <tr>\n",
       "      <th>696</th>\n",
       "      <td>2.048816e-09</td>\n",
       "      <td>4</td>\n",
       "      <td>HSPH1</td>\n",
       "      <td>0.000218</td>\n",
       "      <td>4.851652e+08</td>\n",
       "      <td>-3.908655</td>\n",
       "      <td>-9.001514</td>\n",
       "      <td>1.671880e-07</td>\n",
       "      <td>SE</td>\n",
       "      <td>20</td>\n",
       "      <td>0.018414</td>\n",
       "      <td>3.176298e+15</td>\n",
       "      <td>0.001132</td>\n",
       "      <td>19.800239</td>\n",
       "      <td>-3.921588</td>\n",
       "      <td>0.012933</td>\n",
       "      <td>0.909457</td>\n",
       "      <td>0.909457</td>\n",
       "    </tr>\n",
       "  </tbody>\n",
       "</table>\n",
       "<p>6479 rows × 18 columns</p>\n",
       "</div>"
      ],
      "text/plain": [
       "               FSV  M                        g         l     max_delta  \\\n",
       "5755  8.766174e-01  4                      CRH  0.153225  1.034869e-01   \n",
       "4959  9.988959e-01  4                    ZGLP1  0.017224  1.047025e-03   \n",
       "5974  9.085880e-01  4                    PAQR8  0.153225  7.397377e-02   \n",
       "5838  8.595519e-01  4                     H1-5  0.153225  1.201394e-01   \n",
       "6010  8.894919e-01  4                    PNRC1  0.153225  9.134688e-02   \n",
       "...            ... ..                      ...       ...           ...   \n",
       "2795  2.039574e-09  4                    KLHL8  0.001936  4.851652e+08   \n",
       "3232  2.039574e-09  4  RPL17-C18orf32,C18orf32  0.001936  4.851652e+08   \n",
       "1604  2.048816e-09  4                     TLK1  0.000218  4.851652e+08   \n",
       "1456  2.048816e-09  4                   SMIM15  0.000218  4.851652e+08   \n",
       "696   2.048816e-09  4                    HSPH1  0.000218  4.851652e+08   \n",
       "\n",
       "         max_ll  max_mu_hat  max_s2_t_hat model   n    s2_FSV   s2_logdelta  \\\n",
       "5755 -16.212524   -8.071162  1.282877e+01    SE  20  0.002824  2.182603e-01   \n",
       "4959   4.829266  -10.492837  5.782062e+01    SE  20  0.000002  1.291963e+00   \n",
       "5974  -1.446485   -8.765102  1.438106e+01    SE  20  0.002472  3.083703e-01   \n",
       "5838  -2.682387   -6.701099  8.319062e+00    SE  20  0.004826  3.067945e-01   \n",
       "6010  -0.419480   -9.140696  1.543050e+01    SE  20  0.004083  3.747627e-01   \n",
       "...         ...         ...           ...   ...  ..       ...           ...   \n",
       "2795 -18.317715  -10.297761  2.193264e-07    SE  20  0.033267  5.790381e+15   \n",
       "3232   2.008353  -10.457115  2.254884e-07    SE  20  0.028228  4.913361e+15   \n",
       "1604  -5.936563   -9.212670  1.751554e-07    SE  20  0.026779  4.619164e+15   \n",
       "1456  -1.486517   -9.007015  1.673538e-07    SE  20  0.025031  4.317583e+15   \n",
       "696   -3.908655   -9.001514  1.671880e-07    SE  20  0.018414  3.176298e+15   \n",
       "\n",
       "          time        BIC  max_ll_null        LLR      pval      qval  \n",
       "5755  0.000709  44.407978   -30.035838  13.823314  0.000201  0.909457  \n",
       "4959  0.000981   2.324398    -6.764108  11.593373  0.000662  0.909457  \n",
       "5974  0.000549  14.875899   -12.159596  10.713112  0.001064  0.909457  \n",
       "5838  0.000758  17.347703   -13.088361  10.405974  0.001256  0.909457  \n",
       "6010  0.000753  12.821890   -10.648000  10.228520  0.001383  0.909457  \n",
       "...        ...        ...          ...        ...       ...       ...  \n",
       "2795  0.000959  48.618360   -18.330648   0.012933  0.909457  0.909457  \n",
       "3232  0.001238   7.966223     1.995420   0.012933  0.909457  0.909457  \n",
       "1604  0.001148  23.856055    -5.949496   0.012933  0.909457  0.909457  \n",
       "1456  0.001298  14.955964    -1.499450   0.012933  0.909457  0.909457  \n",
       "696   0.001132  19.800239    -3.921588   0.012933  0.909457  0.909457  \n",
       "\n",
       "[6479 rows x 18 columns]"
      ]
     },
     "execution_count": 10,
     "metadata": {},
     "output_type": "execute_result"
    }
   ],
   "source": [
    "results[0]"
   ]
  },
  {
   "cell_type": "code",
   "execution_count": 62,
   "metadata": {},
   "outputs": [],
   "source": [
    "pickle.dump(results, open( \"../KR_NAS/data/spatialDE_results_AOIs.p\", \"wb\" ))"
   ]
  },
  {
   "cell_type": "code",
   "execution_count": 8,
   "metadata": {},
   "outputs": [],
   "source": [
    "results = pickle.load(open('../KR_NAS/data/spatialDE_results_AOIs.p', \"rb\"))"
   ]
  },
  {
   "cell_type": "code",
   "execution_count": 12,
   "metadata": {},
   "outputs": [
    {
     "data": {
      "text/plain": [
       "FSV               0.727233\n",
       "M                        4\n",
       "g                    MKI67\n",
       "l                 0.153225\n",
       "max_delta         0.275778\n",
       "max_ll            -4.64685\n",
       "max_mu_hat         -8.5607\n",
       "max_s2_t_hat       12.7407\n",
       "model                   SE\n",
       "n                       20\n",
       "s2_FSV           0.0206648\n",
       "s2_logdelta       0.561765\n",
       "time            0.00069952\n",
       "BIC                21.2766\n",
       "max_ll_null       -10.4371\n",
       "LLR                5.79021\n",
       "pval             0.0161157\n",
       "qval              0.586233\n",
       "Name: 5028, dtype: object"
      ]
     },
     "execution_count": 12,
     "metadata": {},
     "output_type": "execute_result"
    }
   ],
   "source": [
    "results[1].iloc[np.where(results[1]['g'] == 'MKI67')[0][0],]"
   ]
  },
  {
   "cell_type": "code",
   "execution_count": 26,
   "metadata": {},
   "outputs": [
    {
     "name": "stdout",
     "output_type": "stream",
     "text": [
      "0\n",
      "1\n"
     ]
    }
   ],
   "source": [
    "input_data = []\n",
    "for j in range(2):\n",
    "    print(j)\n",
    "    input_data.append(pd.DataFrame(adata.layers['CPM'][subset_19pcw[j],:][:,keep_genes[j]], index = adata.obs['Sanger_sampleID'][subset_19pcw[j]],\n",
    "                       columns = adata.var_names[keep_genes[j]]))"
   ]
  },
  {
   "cell_type": "code",
   "execution_count": 31,
   "metadata": {},
   "outputs": [
    {
     "data": {
      "text/plain": [
       "Text(0, 0.5, 'CPM')"
      ]
     },
     "execution_count": 31,
     "metadata": {},
     "output_type": "execute_result"
    },
    {
     "data": {
      "image/png": "[encoded data removed]",
      "text/plain": [
       "<Figure size 432x288 with 1 Axes>"
      ]
     },
     "metadata": {
      "needs_background": "light"
     },
     "output_type": "display_data"
    }
   ],
   "source": [
    "plt.scatter(input_coordinates[0]['y'], input_data[1]['MKI67'])\n",
    "plt.xlabel('Cortical Depth')\n",
    "plt.ylabel('CPM')"
   ]
  }
 ],
 "metadata": {
  "kernelspec": {
   "display_name": "Python (cellpymc)",
   "language": "python",
   "name": "cellpymc"
  },
  "language_info": {
   "codemirror_mode": {
    "name": "ipython",
    "version": 3
   },
   "file_extension": ".py",
   "mimetype": "text/x-python",
   "name": "python",
   "nbconvert_exporter": "python",
   "pygments_lexer": "ipython3",
   "version": "3.7.6"
  }
 },
 "nbformat": 4,
 "nbformat_minor": 4
}
