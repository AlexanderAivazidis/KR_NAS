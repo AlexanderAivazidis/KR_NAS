{
 "cells": [
  {
   "cell_type": "markdown",
   "metadata": {},
   "source": [
    "Here we apply a simple method to extract cell-cell interactions from cell type specific AOIs in Nanostring data, based on correlations between spatially varying genes in the EOMESplus population and HOPXplus population."
   ]
  },
  {
   "cell_type": "code",
   "execution_count": 1,
   "metadata": {},
   "outputs": [],
   "source": [
    "import sys,os\n",
    "path = '/nfs/team283/aa16/KR_NAS/'\n",
    "os.chdir(path)\n",
    "sys.path.append(path)"
   ]
  },
  {
   "cell_type": "code",
   "execution_count": 2,
   "metadata": {},
   "outputs": [
    {
     "name": "stdout",
     "output_type": "stream",
     "text": [
      "Populating the interactive namespace from numpy and matplotlib\n"
     ]
    }
   ],
   "source": [
    "%pylab inline\n",
    "import pandas as pd\n",
    "import NaiveDE\n",
    "import SpatialDE\n",
    "import statsmodels.stats.multitest as multi\n",
    "import scipy.stats as ss\n",
    "import pickle as pickle\n",
    "import scipy as sc\n",
    "import matplotlib\n",
    "import statsmodels.stats.multitest as multi\n",
    "matplotlib.rcParams['pdf.fonttype'] = 42\n",
    "matplotlib.rcParams['ps.fonttype'] = 42"
   ]
  },
  {
   "cell_type": "markdown",
   "metadata": {},
   "source": [
    "Load data (without negative probes):"
   ]
  },
  {
   "cell_type": "code",
   "execution_count": 3,
   "metadata": {},
   "outputs": [
    {
     "name": "stderr",
     "output_type": "stream",
     "text": [
      "/nfs/users/nfs_a/aa16/.local/lib/python3.7/site-packages/anndata/_core/anndata.py:21: FutureWarning: pandas.core.index is deprecated and will be removed in a future version.  The public classes are available in the top-level namespace.\n",
      "  from pandas.core.index import RangeIndex\n"
     ]
    }
   ],
   "source": [
    "adata = pickle.load(open('data/nanostringWTA_fetailBrain_AnnData.p',  \"rb\"))\n",
    "adata = adata[:,adata.var_names != 'NegProbe-WTX']\n",
    "adata.layers['Stabilized'] = NaiveDE.stabilize(adata.X)\n",
    "adata.obs['TotalCounts'] = np.sum(adata.X, axis = 1)\n",
    "adata.layers['TotalCountsRegressed'] = NaiveDE.regress_out(adata.obs, adata.layers['Stabilized'].T, 'np.log(TotalCounts)').T"
   ]
  },
  {
   "cell_type": "code",
   "execution_count": 4,
   "metadata": {},
   "outputs": [
    {
     "data": {
      "text/plain": [
       "Layers with keys: CPM, X_Corrected, CPM_corrected, X, Stabilized, TotalCountsRegressed"
      ]
     },
     "execution_count": 4,
     "metadata": {},
     "output_type": "execute_result"
    }
   ],
   "source": [
    "adata.layers"
   ]
  },
  {
   "cell_type": "markdown",
   "metadata": {},
   "source": [
    "Order AOIs according to slide, radial_position and cortical depth, returning a data frame with the index of each HOPXpos, EOMESpos and background AOI for each position:"
   ]
  },
  {
   "cell_type": "code",
   "execution_count": 5,
   "metadata": {},
   "outputs": [
    {
     "name": "stderr",
     "output_type": "stream",
     "text": [
      "/nfs/users/nfs_a/aa16/.local/lib/python3.7/site-packages/pandas/core/indexing.py:670: SettingWithCopyWarning: \n",
      "A value is trying to be set on a copy of a slice from a DataFrame\n",
      "\n",
      "See the caveats in the documentation: https://pandas.pydata.org/pandas-docs/stable/user_guide/indexing.html#returning-a-view-versus-a-copy\n",
      "  self._setitem_with_indexer(indexer, value)\n"
     ]
    }
   ],
   "source": [
    "celltypeAOIs_1 = np.array(np.where([adata.obs['age'][i] == '19pcw' and adata.obs['slide'][i] in ('00MU', '00MV', '00MV-2') \n",
    "                and adata.obs['Radial_position'][i] in (1,3) and adata.obs['AOI_type'][i] == 'EOMESpos'\n",
    "                for i in range(len(adata.obs['age']))])[0])\n",
    "\n",
    "celltypeAOIs_2 = np.array(np.where([adata.obs['age'][i] == '19pcw' and adata.obs['slide'][i] in ('00MU', '00MV', '00MV-2') \n",
    "                and adata.obs['Radial_position'][i] in (1,3) and adata.obs['AOI_type'][i] == 'HOPXpos'\n",
    "                for i in range(len(adata.obs['age']))])[0])\n",
    "\n",
    "backgroundAOIs = np.array(np.where([adata.obs['age'][i] == '19pcw' and adata.obs['slide'][i] in ('00MU', '00MV', '00MV-2') \n",
    "                and adata.obs['Radial_position'][i] in (1,3) and adata.obs['AOI_type'][i] == 'Residual'\n",
    "                for i in range(len(adata.obs['age']))])[0])\n",
    "\n",
    "adata.obs.loc[adata.obs['slide'] == '00MV-2', 'slide'] = '00MV'\n",
    "\n",
    "order_list1 = []\n",
    "order_list2 = []\n",
    "order_list3 = []\n",
    "\n",
    "unique_slides = np.array(('00MU', '00MV'))\n",
    "unique_positions = (1,3)\n",
    "combinations = []\n",
    "\n",
    "for i in range(len(unique_slides)):\n",
    "    for j in range(len(unique_positions)):\n",
    "        order_list1.append(backgroundAOIs[[adata.obs['slide'][k] in unique_slides[i] and \n",
    "                                    adata.obs['Radial_position'][k] == unique_positions[j]\n",
    "                           for k in backgroundAOIs]])\n",
    "        combinations.append((unique_slides[i], unique_positions[j]))\n",
    "\n",
    "for i in range(len(unique_slides)):\n",
    "    for j in range(len(unique_positions)):\n",
    "        order_list2.append(celltypeAOIs_1[[adata.obs['slide'][k] in unique_slides[i] and \n",
    "                                    adata.obs['Radial_position'][k] == unique_positions[j]\n",
    "                           for k in celltypeAOIs_1]])\n",
    "\n",
    "for i in range(len(unique_slides)):\n",
    "    for j in range(len(unique_positions)):\n",
    "        order_list3.append(celltypeAOIs_2[[adata.obs['slide'][k] in unique_slides[i] and \n",
    "                                    adata.obs['Radial_position'][k] == unique_positions[j]\n",
    "                           for k in celltypeAOIs_2]])\n",
    "\n",
    "VCDepths = list()\n",
    "for i in range(len(order_list1)):\n",
    "    VCDepths.append(np.intersect1d(np.intersect1d(adata.obs['VCDepth'].iloc[order_list1[i]], adata.obs['VCDepth'].iloc[order_list2[i]]),\n",
    "                   adata.obs['VCDepth'].iloc[order_list3[i]]))\n",
    "\n",
    "input_data = pd.DataFrame(columns = ('Slide', 'Radial_position', 'VCDepth', 'Background', 'HOPXpos', 'EOMESpos'),\n",
    "             index = range(sum([len(VCDepths[i]) for i in range(len(VCDepths))])))\n",
    "\n",
    "input_data['VCDepth'] = [item for sublist in VCDepths for item in sublist]\n",
    "\n",
    "slides = []\n",
    "radial_positions = []\n",
    "for i in range(len(VCDepths)):\n",
    "    slides.append(np.repeat(combinations[i][0], len(VCDepths[i])))\n",
    "    radial_positions.append(np.repeat(combinations[i][1], len(VCDepths[i])))\n",
    "\n",
    "input_data['Slide'] = [item for sublist in slides for item in sublist]\n",
    "input_data['Radial_position'] = [item for sublist in radial_positions for item in sublist]\n",
    "\n",
    "# Finally fill in the relevant index in the adata frame:\n",
    "for i in input_data.index:\n",
    "    input_data['Background'].iloc[i] = np.where([adata.obs['slide'][j] == input_data['Slide'][i] and\n",
    "                                                adata.obs['Radial_position'][j] == input_data['Radial_position'][i] and\n",
    "                                                adata.obs['VCDepth'][j] == input_data['VCDepth'][i] and\n",
    "                                                adata.obs['AOI_type'][j] == 'Residual' \n",
    "                                                for j in range(len(adata.obs['slide']))])[0][0]\n",
    "    input_data['HOPXpos'].iloc[i] = np.where([adata.obs['slide'][j] == input_data['Slide'][i] and\n",
    "                                                adata.obs['Radial_position'][j] == input_data['Radial_position'][i] and\n",
    "                                                adata.obs['VCDepth'][j] == input_data['VCDepth'][i] and\n",
    "                                                adata.obs['AOI_type'][j] == 'HOPXpos' \n",
    "                                                for j in range(len(adata.obs['slide']))])[0][0]\n",
    "\n",
    "    input_data['EOMESpos'].iloc[i] = np.where([adata.obs['slide'][j] == input_data['Slide'][i] and\n",
    "                                                adata.obs['Radial_position'][j] == input_data['Radial_position'][i] and\n",
    "                                                adata.obs['VCDepth'][j] == input_data['VCDepth'][i] and\n",
    "                                                adata.obs['AOI_type'][j] == 'EOMESpos' \n",
    "                                                for j in range(len(adata.obs['slide']))])[0][0]\n",
    "\n",
    "input_data"
   ]
  },
  {
   "cell_type": "markdown",
   "metadata": {},
   "source": [
    "Get spatially varying genes in AOIs and reference rings:"
   ]
  },
  {
   "cell_type": "code",
   "execution_count": 11,
   "metadata": {},
   "outputs": [
    {
     "name": "stdout",
     "output_type": "stream",
     "text": [
      "0\n"
     ]
    },
    {
     "ename": "TypeError",
     "evalue": "list indices must be integers or slices, not numpy.str_",
     "output_type": "error",
     "traceback": [
      "\u001b[0;31m---------------------------------------------------------------------------\u001b[0m",
      "\u001b[0;31mTypeError\u001b[0m                                 Traceback (most recent call last)",
      "\u001b[0;32m<ipython-input-11-9cdcff6857ee>\u001b[0m in \u001b[0;36m<module>\u001b[0;34m\u001b[0m\n\u001b[1;32m      7\u001b[0m \u001b[0;31m#     input_data.append(pd.DataFrame(adata.layers['TotalCountsRegressed'][list(input_data[AOI_list[j]]),:], index = adata.obs['Sanger_sampleID'][list(input_data[AOI_list[j]])],\u001b[0m\u001b[0;34m\u001b[0m\u001b[0;34m\u001b[0m\u001b[0;34m\u001b[0m\u001b[0m\n\u001b[1;32m      8\u001b[0m \u001b[0;31m#                        columns = adata.var_names))\u001b[0m\u001b[0;34m\u001b[0m\u001b[0;34m\u001b[0m\u001b[0;34m\u001b[0m\u001b[0m\n\u001b[0;32m----> 9\u001b[0;31m     \u001b[0minput_coordinates\u001b[0m\u001b[0;34m.\u001b[0m\u001b[0mappend\u001b[0m\u001b[0;34m(\u001b[0m\u001b[0madata\u001b[0m\u001b[0;34m.\u001b[0m\u001b[0mobs\u001b[0m\u001b[0;34m.\u001b[0m\u001b[0mloc\u001b[0m\u001b[0;34m[\u001b[0m\u001b[0mlist\u001b[0m\u001b[0;34m(\u001b[0m\u001b[0minput_data\u001b[0m\u001b[0;34m[\u001b[0m\u001b[0mAOI_list\u001b[0m\u001b[0;34m[\u001b[0m\u001b[0mj\u001b[0m\u001b[0;34m]\u001b[0m\u001b[0;34m]\u001b[0m\u001b[0;34m)\u001b[0m\u001b[0;34m,\u001b[0m\u001b[0;34m(\u001b[0m\u001b[0;34m'Radial_position'\u001b[0m\u001b[0;34m,\u001b[0m \u001b[0;34m'VCDepth'\u001b[0m\u001b[0;34m)\u001b[0m\u001b[0;34m]\u001b[0m\u001b[0;34m.\u001b[0m\u001b[0mrename\u001b[0m\u001b[0;34m(\u001b[0m\u001b[0mcolumns\u001b[0m\u001b[0;34m=\u001b[0m\u001b[0;34m{\u001b[0m\u001b[0;34m\"Radial_position\"\u001b[0m\u001b[0;34m:\u001b[0m \u001b[0;34m\"x\"\u001b[0m\u001b[0;34m,\u001b[0m \u001b[0;34m\"VCDepth\"\u001b[0m\u001b[0;34m:\u001b[0m \u001b[0;34m\"y\"\u001b[0m\u001b[0;34m}\u001b[0m\u001b[0;34m)\u001b[0m\u001b[0;34m)\u001b[0m\u001b[0;34m\u001b[0m\u001b[0;34m\u001b[0m\u001b[0m\n\u001b[0m\u001b[1;32m     10\u001b[0m     \u001b[0;31m#results.append(SpatialDE.run(input_coordinates[j], input_data[j]))\u001b[0m\u001b[0;34m\u001b[0m\u001b[0;34m\u001b[0m\u001b[0;34m\u001b[0m\u001b[0m\n",
      "\u001b[0;31mTypeError\u001b[0m: list indices must be integers or slices, not numpy.str_"
     ]
    }
   ],
   "source": [
    "input_data = list()\n",
    "input_coordinates = list()\n",
    "results = list()\n",
    "AOI_list = np.array(('HOPXpos', 'EOMESpos', 'Background'))\n",
    "for j in range(2):\n",
    "    print(j)\n",
    "    input_data.append(pd.DataFrame(adata.layers['TotalCountsRegressed'][list(input_data[AOI_list[j]]),:], index = adata.obs['Sanger_sampleID'][list(input_data[AOI_list[j]])],\n",
    "                       columns = adata.var_names))\n",
    "    input_coordinates.append(adata.obs.loc[list(input_data[AOI_list[j]]),('Radial_position', 'VCDepth')].rename(columns={\"Radial_position\": \"x\", \"VCDepth\": \"y\"}))\n",
    "    #results.append(SpatialDE.run(input_coordinates[j], input_data[j]))"
   ]
  },
  {
   "cell_type": "code",
   "execution_count": 13,
   "metadata": {},
   "outputs": [
    {
     "ename": "TypeError",
     "evalue": "list indices must be integers or slices, not numpy.str_",
     "output_type": "error",
     "traceback": [
      "\u001b[0;31m---------------------------------------------------------------------------\u001b[0m",
      "\u001b[0;31mTypeError\u001b[0m                                 Traceback (most recent call last)",
      "\u001b[0;32m<ipython-input-13-d28ea0b80bfe>\u001b[0m in \u001b[0;36m<module>\u001b[0;34m\u001b[0m\n\u001b[0;32m----> 1\u001b[0;31m \u001b[0minput_coordinates\u001b[0m\u001b[0;34m.\u001b[0m\u001b[0mappend\u001b[0m\u001b[0;34m(\u001b[0m\u001b[0madata\u001b[0m\u001b[0;34m.\u001b[0m\u001b[0mobs\u001b[0m\u001b[0;34m.\u001b[0m\u001b[0mloc\u001b[0m\u001b[0;34m[\u001b[0m\u001b[0mlist\u001b[0m\u001b[0;34m(\u001b[0m\u001b[0minput_data\u001b[0m\u001b[0;34m[\u001b[0m\u001b[0mAOI_list\u001b[0m\u001b[0;34m[\u001b[0m\u001b[0mj\u001b[0m\u001b[0;34m]\u001b[0m\u001b[0;34m]\u001b[0m\u001b[0;34m)\u001b[0m\u001b[0;34m,\u001b[0m\u001b[0;34m(\u001b[0m\u001b[0;34m'Radial_position'\u001b[0m\u001b[0;34m,\u001b[0m \u001b[0;34m'VCDepth'\u001b[0m\u001b[0;34m)\u001b[0m\u001b[0;34m]\u001b[0m\u001b[0;34m.\u001b[0m\u001b[0mrename\u001b[0m\u001b[0;34m(\u001b[0m\u001b[0mcolumns\u001b[0m\u001b[0;34m=\u001b[0m\u001b[0;34m{\u001b[0m\u001b[0;34m\"Radial_position\"\u001b[0m\u001b[0;34m:\u001b[0m \u001b[0;34m\"x\"\u001b[0m\u001b[0;34m,\u001b[0m \u001b[0;34m\"VCDepth\"\u001b[0m\u001b[0;34m:\u001b[0m \u001b[0;34m\"y\"\u001b[0m\u001b[0;34m}\u001b[0m\u001b[0;34m)\u001b[0m\u001b[0;34m)\u001b[0m\u001b[0;34m\u001b[0m\u001b[0;34m\u001b[0m\u001b[0m\n\u001b[0m",
      "\u001b[0;31mTypeError\u001b[0m: list indices must be integers or slices, not numpy.str_"
     ]
    }
   ],
   "source": [
    "input_coordinates.append(adata.obs.loc[list(input_data[AOI_list[j]]),('Radial_position', 'VCDepth')].rename(columns={\"Radial_position\": \"x\", \"VCDepth\": \"y\"}))\n"
   ]
  },
  {
   "cell_type": "markdown",
   "metadata": {},
   "source": [
    "Make a function that returns spatially varying gene clusters across cell type specific AOIs, as well as a list of ligand-receptor pairs ranked by highest correlations with these clusters. It currently ignores all protein complexes."
   ]
  },
  {
   "cell_type": "code",
   "execution_count": null,
   "metadata": {},
   "outputs": [],
   "source": [
    "x_coordinate = input_data['VCDepth']\n",
    "adata_background = adata[list(input_data['Background']),:]\n",
    "adata_AOIs = list((adata[list(input_data['HOPXpos']),:], adata[list(input_data['EOMESpos']),:]))"
   ]
  },
  {
   "cell_type": "code",
   "execution_count": null,
   "metadata": {},
   "outputs": [],
   "source": [
    "from sklearn.cluster import AgglomerativeClustering\n",
    "\n",
    "def getClusterInteractions(x_coordinate, adata_background, adata_AOIs, spatialGenes, target_index = 1):\n",
    "    \n",
    "    nontarget_index = np.array(range(len(adata_AOIs)))[np.array([0,1]) != target_index][0]\n",
    "\n",
    "    ### Load CellPhoneDB data ###\n",
    "\n",
    "    genes = pd.read_csv('../data/CellPhoneDB/gene_input.csv')\n",
    "    proteins = pd.read_csv('../data/CellPhoneDB/protein_input.csv')\n",
    "    interactions = pd.read_csv('../data/CellPhoneDB/interaction_input.csv')\n",
    "    complexes = pd.read_csv('../data/CellPhoneDB/complex_input.csv')\n",
    "\n",
    "    ### Remove duplicate protein names (probably due to different gene names for same protein in Ensemble)\n",
    "\n",
    "    genes = genes.drop_duplicates(subset = 'uniprot')\n",
    "    genes.index = genes['uniprot']\n",
    "    proteins = pd.read_csv('../data/CellPhoneDB/protein_input.csv')\n",
    "    proteins = proteins.drop_duplicates(subset = 'uniprot')\n",
    "    genes = genes.reindex(np.array(proteins['uniprot']))\n",
    "\n",
    "    ### Find receptors detected in each group of AOIs:\n",
    "\n",
    "    genes_ligand = genes['gene_name'].iloc[np.invert(np.array(proteins['receptor']))]\n",
    "    genes_receptor = genes['gene_name'].iloc[np.array(proteins['receptor'])]\n",
    "    genes_receptor = genes_receptor[[genes_receptor[i] in adata.var_names for i in range(len(genes_receptor))]]\n",
    "    detection_rate = np.array([[(adata_AOIs[target_index].X[j,adata_AOIs[target_index].var_names == genes_receptor[i]] >\n",
    "                        adata_AOIs[target_index].obs['GeoLOD2.5_01'].iloc[j])[0] \n",
    "                        for j in range(np.shape(adata_AOIs[target_index])[0])] for i in range(len(genes_receptor))])\n",
    "    keep_receptors = [sum(detection_rate[i,:]) > 2 for i in range(np.shape(detection_rate)[0])]\n",
    "    genes_receptor = genes_receptor[keep_receptors]\n",
    "    proteins_receptor = np.array([genes.index[np.where(genes['gene_name'] == genes_receptor[i])][0]\n",
    "                        for i in range(len(genes_receptor))])\n",
    "\n",
    "    ### Get the ligands for these receptors:\n",
    "\n",
    "    proteins_ligand = np.repeat('EmptyEmptyEmptyEmptyEmpty', len(proteins_receptor))\n",
    "    for i in range(len(proteins_ligand)):\n",
    "        if sum(interactions['partner_a'] == proteins_receptor[i]) > 0:\n",
    "            proteins_ligand[i] = interactions['partner_b'].loc[interactions['partner_a'] == proteins_receptor[i]].iloc[0]\n",
    "        if sum(interactions['partner_b'] == proteins_receptor[i]) > 0:\n",
    "            proteins_ligand[i] = interactions['partner_a'].loc[interactions['partner_b'] == proteins_receptor[i]].iloc[0]\n",
    "    subset = [proteins_ligand[i] != 'EmptyEmptyEmptyEmptyEmpty' and proteins_ligand[i] not in list(complexes['complex_name'])\n",
    "             for i in range(len(proteins_ligand))]\n",
    "    proteins_receptor = proteins_receptor[subset]\n",
    "    proteins_ligand = proteins_ligand[subset]\n",
    "\n",
    "    genes_receptor = [np.array(genes['gene_name'])[np.array(genes['uniprot'] == proteins_receptor[i])][0] for i in range(len(proteins_receptor))]\n",
    "\n",
    "    genes_ligand_old = [np.array(genes['gene_name'])[np.array(genes['uniprot'] == proteins_ligand[i])][0] for i in range(len(proteins_ligand))]\n",
    "    gene_ligand_Index = np.where([adata_background.var_names[i] in genes_ligand_old\n",
    "                                  for i in range(len(adata_background.var_names))])[0]\n",
    "    genes_ligand = adata.var_names[gene_ligand_Index]\n",
    "\n",
    "    ### Cluster spatially varying genes into groups:\n",
    "\n",
    "    spatialGenes_Index = list()\n",
    "    for i in range(len(spatialGenes)):\n",
    "        spatialGenes_Index.append(np.where([adata_background.var_names[j] in spatialGenes[i]\n",
    "                                   for j in range(len(adata_background.var_names))])[0])\n",
    "        spatialGenes[i] = adata_background.var_names[spatialGenes_Index[i]]\n",
    "\n",
    "    expressionData = adata_AOIs[target_index].layers['CPM'][:, spatialGenes_Index[target_index]]\n",
    "    correlationMatrix = np.corrcoef(expressionData.T)\n",
    "    cluster = AgglomerativeClustering(n_clusters=2, affinity='euclidean', linkage='ward')\n",
    "    groups = cluster.fit_predict(correlationMatrix)    \n",
    "\n",
    "    groups_genes = list()\n",
    "    for i in np.unique(groups):\n",
    "        groups_genes.append(spatialGenes[target_index][groups == i])\n",
    "\n",
    "    # First we get normalized counts target AOIs and background (background + all other AOIs):\n",
    "    normCounts_AOI = np.array([adata_AOIs[target_index].layers['X'][i,:]/sum(adata_AOIs[target_index].layers['X'][i,:])\n",
    "                                    for i in range(np.shape(adata_AOIs[target_index].layers['X'])[0])])\n",
    "    normCounts_Background = np.array([(adata_background.layers['X'][i,:] + adata_AOIs[nontarget_index].layers['X'][i,:])/\n",
    "                             sum(adata_background.layers['X'][i,:] + adata_AOIs[nontarget_index].layers['X'][i,:])\n",
    "                                    for i in range(np.shape(adata_background.layers['X'])[0])])\n",
    "\n",
    "    # Then we combine them into one dataset taking ligands from the background and variable genes in the AOIs:\n",
    "    normCounts = np.concatenate((normCounts_Background[:,gene_ligand_Index],\n",
    "                                     normCounts_AOI[:,spatialGenes_Index[target_index]]), axis = 1)\n",
    "\n",
    "    # Next we calculate correlation between all genes: \n",
    "    normCountsDF = pd.DataFrame(normCounts, columns = np.concatenate((genes_ligand, spatialGenes[target_index])))\n",
    "    correlationMatrix = np.corrcoef(normCountsDF.T)\n",
    "    correlationMatrixDF = pd.DataFrame(correlationMatrix, columns = np.concatenate((genes_ligand, spatialGenes[target_index])),\n",
    "                                      index = np.concatenate((genes_ligand, spatialGenes[target_index])))\n",
    "\n",
    "    # And obtain the genes that are most correlated with each group:\n",
    "    groups_ligands = list()\n",
    "    groups_receptors = list()\n",
    "    for i in np.unique(groups):\n",
    "        subMatrix = correlationMatrixDF.iloc[range(len(genes_ligand), len(genes_ligand) + len(spatialGenes[target_index]))\n",
    "                                       ,range(len(genes_ligand))]\n",
    "        subMatrix = subMatrix.loc[groups_genes[i],:]\n",
    "        topGenes = genes_ligand[np.argsort(-abs(np.mean(subMatrix, axis = 0)))]\n",
    "        topGenes_correlations = np.mean(subMatrix, axis = 0)\n",
    "        topGenes_correlations = topGenes_correlations[np.argsort(-np.abs(topGenes_correlations))]\n",
    "        groups_ligands.append(topGenes_correlations)\n",
    "        groups_receptors.append([genes_receptor[np.where(topGenes_correlations.index[i] == np.array(genes_ligand_old))[0][0]]\n",
    "     for i in range(len(topGenes_correlations.index))])\n",
    "    \n",
    "    return list((groups_genes, groups_ligands, groups_receptors))"
   ]
  },
  {
   "cell_type": "code",
   "execution_count": null,
   "metadata": {},
   "outputs": [],
   "source": [
    "results=list()\n",
    "for i in range(2):\n",
    "    print(i)\n",
    "    results.append(getClusterInteractions(x_coordinate, adata_background, adata_AOIs, spatialGenes, target_index = i))"
   ]
  },
  {
   "cell_type": "code",
   "execution_count": null,
   "metadata": {},
   "outputs": [],
   "source": [
    "results"
   ]
  },
  {
   "cell_type": "markdown",
   "metadata": {},
   "source": [
    "Plot the spatially varying gene clusters:"
   ]
  },
  {
   "cell_type": "code",
   "execution_count": null,
   "metadata": {},
   "outputs": [],
   "source": [
    "scaling = 6.66\n",
    "power = 3.33\n",
    "n_genes = 15\n",
    "\n",
    "SMALL_SIZE = 18\n",
    "MEDIUM_SIZE = 18\n",
    "BIGGER_SIZE = 18\n",
    "\n",
    "plt.rc('font', size=SMALL_SIZE)          # controls default text sizes\n",
    "plt.rc('axes', titlesize=SMALL_SIZE)     # fontsize of the axes title\n",
    "plt.rc('axes', labelsize=MEDIUM_SIZE)    # fontsize of the x and y labels\n",
    "plt.rc('xtick', labelsize=24)    # fontsize of the tick labels\n",
    "plt.rc('ytick', labelsize=SMALL_SIZE)    # fontsize of the tick labels\n",
    "plt.rc('legend', fontsize=SMALL_SIZE)    # legend fontsize\n",
    "plt.rc('figure', titlesize=BIGGER_SIZE)  # fontsize of the figure title\n",
    "\n",
    "subset = input_data['Slide'] == '00MU'\n",
    "\n",
    "fig, ax = plt.subplots(2,2, figsize=(30,20))\n",
    "\n",
    "for target_index in range(2):\n",
    "\n",
    "    normCounts_AOI = np.array([adata_AOIs[target_index].layers['X'][i,:]/sum(adata_AOIs[target_index].layers['X'][i,:])\n",
    "                            for i in range(np.shape(adata_AOIs[target_index].layers['X'])[0])])*10**6\n",
    "\n",
    "    for group_index in range(2):\n",
    "\n",
    "        topGenes = list()\n",
    "        countsForPlot = list()\n",
    "        for i in range(len(results[target_index][0][group_index])):\n",
    "            index = np.where(adata_AOIs[target_index].var_names == results[target_index][0][group_index][i])[0][0]\n",
    "            topGenes.append(adata_AOIs[target_index].var_names[index])\n",
    "            countsForPlot.append(sc.stats.zscore(np.log2(normCounts_AOI[np.argsort(x_coordinate)[subset], :][:,index].squeeze()+1)))\n",
    "        countsForPlot = np.array(countsForPlot)\n",
    "\n",
    "        totalGenes = len(topGenes)    \n",
    "        topGenes = topGenes[:n_genes]\n",
    "        topGenes = ['... '] + topGenes\n",
    "\n",
    "        countsForPlot = countsForPlot[:n_genes,:]\n",
    "        countsForPlot = np.concatenate([np.repeat(-3, 10).reshape(1,10), countsForPlot], axis = 0)\n",
    "\n",
    "        genesForPlot = np.repeat(topGenes,sum(subset))\n",
    "\n",
    "        vcForPlot = np.array([x_coordinate[subset][np.argsort(x_coordinate[subset])] for i in range(len(topGenes))]).flatten()\n",
    "\n",
    "        ax[group_index, target_index].scatter(vcForPlot, genesForPlot,\n",
    "                                              s=((-np.amin(countsForPlot) + countsForPlot)**power)*scaling,\n",
    "                                              c = ('blue','red')[target_index])\n",
    "        ax[group_index, target_index].set_xlabel('Cortical Depth', fontsize = 24)\n",
    "        ax[group_index, target_index].set_title('\\n' + ['HOPXpos', 'EOMESpos'][target_index] + ' ' +\n",
    "                                                ['Group 1', 'Group 2'][group_index] + ' (n=' + str(totalGenes) + ')' + '\\n', fontsize=28)\n",
    "\n",
    "        \n",
    "    pws = [-2, -1, 1, 2]\n",
    "    for pw in pws:\n",
    "        plt.scatter([], [], s=((-np.amin(countsForPlot) + pw)**power)*scaling, c=('blue','red')[target_index],label=str(pw))\n",
    "\n",
    "    h, l = plt.gca().get_legend_handles_labels()\n",
    "    lgd = plt.legend(h[1:], l[1:], labelspacing=1.2, title=\"z-score\", borderpad=1, \n",
    "                frameon=True, framealpha=0.6, edgecolor=\"k\", facecolor=\"w\", bbox_to_anchor=(2.55, 0.5))\n",
    "    \n",
    "    plt.tight_layout()\n",
    "    \n",
    "    plt.savefig('../KR_NAS/0_publication_figures/Figure5C_SpatialGeneGroups.pdf')"
   ]
  },
  {
   "cell_type": "markdown",
   "metadata": {},
   "source": [
    "Show top correlated receptor ligand pairs:"
   ]
  },
  {
   "cell_type": "code",
   "execution_count": null,
   "metadata": {},
   "outputs": [],
   "source": [
    "topGenes = []\n",
    "for target_index in range(2):\n",
    "    for group_index in range(2):\n",
    "        topGenes.append(results[target_index][1][group_index].index[\n",
    "            np.round(np.abs(results[target_index][1][group_index])) > 0.5])\n",
    "topGenes = np.unique([item for sublist in topGenes for item in sublist])"
   ]
  },
  {
   "cell_type": "markdown",
   "metadata": {},
   "source": [
    "1.) Expression of receptor ligand pairs as function of cortical depth:"
   ]
  },
  {
   "cell_type": "code",
   "execution_count": null,
   "metadata": {},
   "outputs": [],
   "source": [
    "target_index = 0\n",
    "group_index = 0\n",
    "\n",
    "topGenes = []\n",
    "for i in range(5):\n",
    "    topGenes.append(results[target_index][1][group_index].index[i])\n",
    "    topGenes.append(results[target_index][2][group_index][i])\n",
    "topGenes\n",
    "\n",
    "normCounts_AOI = np.array([adata_AOIs[target_index].layers['X'][i,:]/sum(adata_AOIs[target_index].layers['X'][i,:])\n",
    "                                for i in range(np.shape(adata_AOIs[target_index].layers['X'])[0])])*10**6\n",
    "normCounts_Background = np.array([(adata_background.layers['X'][i,:] + adata_AOIs[nontarget_index].layers['X'][i,:])/\n",
    "                         sum(adata_background.layers['X'][i,:] + adata_AOIs[nontarget_index].layers['X'][i,:])\n",
    "                                for i in range(np.shape(adata_background.layers['X'])[0])])*10**6\n",
    "\n",
    "scaling = 0.1\n",
    "power = 1.5\n",
    "\n",
    "SMALL_SIZE = 18\n",
    "MEDIUM_SIZE = 18\n",
    "BIGGER_SIZE = 18\n",
    "\n",
    "plt.rc('font', size=SMALL_SIZE)          # controls default text sizes\n",
    "plt.rc('axes', titlesize=SMALL_SIZE)     # fontsize of the axes title\n",
    "plt.rc('axes', labelsize=MEDIUM_SIZE)    # fontsize of the x and y labels\n",
    "plt.rc('xtick', labelsize=SMALL_SIZE)    # fontsize of the tick labels\n",
    "plt.rc('ytick', labelsize=SMALL_SIZE)    # fontsize of the tick labels\n",
    "plt.rc('legend', fontsize=SMALL_SIZE)    # legend fontsize\n",
    "plt.rc('figure', titlesize=BIGGER_SIZE)  # fontsize of the figure title\n",
    "\n",
    "#indexes = np.unique(celltypes, return_index=True)[1]\n",
    "#unique_celltypes = [celltypes[index] for index in sorted(indexes)]\n",
    "\n",
    "genesForPlot = np.repeat(topGenes,sum(subset))\n",
    "vcForPlot = np.array([x_coordinate[subset] for i in range(len(topGenes))]).flatten()\n",
    "countsForPlot = np.array([normCounts_Background[subset, adata.var_names == topGenes[i]]\n",
    "                         if topGenes[i] in genes_ligand\n",
    "                         else normCounts_AOI[subset, adata.var_names == topGenes[i]]\n",
    "                         for i in range(len(topGenes))])\n",
    "coloursForPlot = np.tile(np.concatenate((np.repeat('red', 10), np.repeat('blue', 10))),5)\n",
    "\n",
    "plt.figure(figsize = (12,12))\n",
    "plt.scatter(vcForPlot, genesForPlot, s=((-np.amin(countsForPlot) + countsForPlot)**power)*scaling,\n",
    "            c = coloursForPlot)\n",
    "plt.xlabel('Cortical Depth')\n",
    "# for index in range(5):\n",
    "#      plt.text(0.42, topGenes_Group0[index],  str(np.round(topGenes_Group1_correlations[np.argsort(-abs(topGenes_Group1_correlations))][index],2)) +\n",
    "#               ' / ' + str(np.round(topGenes_Group0_correlations[np.argsort(-abs(topGenes_Group0_correlations))][index],2)), fontsize=20, c = 'red')\n",
    "plt.subplots_adjust(left=0.25)    \n",
    "    \n",
    "pws = [10,10, 50, 100, 500, 700]\n",
    "for pw in pws:\n",
    "    plt.scatter([], [], s=((-np.amin(countsForPlot) + pw)**power)*scaling, c=\"red\",label=str(pw))\n",
    "    \n",
    "h, l = plt.gca().get_legend_handles_labels()\n",
    "lgd = plt.legend(h[1:], l[1:], labelspacing=1.2, title=\"CPM (ligand)\", borderpad=1, \n",
    "            frameon=True, framealpha=0.6, edgecolor=\"k\", facecolor=\"w\", bbox_to_anchor=(2.55, 0.5))\n",
    "\n",
    "plt.tight_layout()\n",
    "plt.savefig('../KR_NAS/0_publication_figures/Figure4_RankdedReceptorLigandPairs' + str(target_index)\n",
    "            + str(group_index) + '.pdf', bbox_extra_artists=(lgd,))"
   ]
  },
  {
   "cell_type": "code",
   "execution_count": null,
   "metadata": {},
   "outputs": [],
   "source": [
    "for i in range(sum(groups == 0)):\n",
    "    plt.scatter(metadata['VCDepth'][orderEOMES], normCounts[orderEOMES,:][:,np.array(eomesVariableGenesIndex)[groups == 0][i]])\n",
    "    plt.ylabel('cpm')\n",
    "    plt.xlabel('Cortical Depth')\n",
    "plt.show()\n",
    "\n",
    "for i in range(sum(groups == 1)):\n",
    "    plt.scatter(metadata['VCDepth'][orderResidual], normCounts[orderEOMES,:][:,np.array(eomesVariableGenesIndex)[groups == 1][i]])\n",
    "    plt.ylabel('cpm')\n",
    "    plt.xlabel('Cortical Depth')\n",
    "plt.show()"
   ]
  },
  {
   "cell_type": "code",
   "execution_count": null,
   "metadata": {},
   "outputs": [],
   "source": [
    "import seaborn as sns\n",
    "# Get reference scRNAseq data:\n",
    "meanExpression_sc = pd.read_csv(\"../InSituCellTools/data/polioudakis2019_meanExpressionProfiles.csv\", index_col=0)\n",
    "\n",
    "# Plot cell type specific expression of genes:\n",
    "fig, ax = plt.subplots(figsize=(24,10))\n",
    "sns.set(font_scale=1.4)\n",
    "sns.heatmap(np.round(np.log2(meanExpression_sc.loc[np.flipud(topGenes),:] + 1),2), annot = True,  annot_kws={\"size\": 20})\n",
    "plt.savefig('../KR_NAS/0_publication_figures/Figure4_RankdedReceptorLigandPairsHeatmap.pdf', bbox_extra_artists=(lgd,))"
   ]
  },
  {
   "cell_type": "markdown",
   "metadata": {},
   "source": [
    "Make a figure showing expression of known ligand-receptor pairs across cortical depth in oRGs:"
   ]
  },
  {
   "cell_type": "code",
   "execution_count": null,
   "metadata": {},
   "outputs": [],
   "source": []
  }
 ],
 "metadata": {
  "kernelspec": {
   "display_name": "Python (cellpymc)",
   "language": "python",
   "name": "cellpymc"
  },
  "language_info": {
   "codemirror_mode": {
    "name": "ipython",
    "version": 3
   },
   "file_extension": ".py",
   "mimetype": "text/x-python",
   "name": "python",
   "nbconvert_exporter": "python",
   "pygments_lexer": "ipython3",
   "version": "3.7.6"
  }
 },
 "nbformat": 4,
 "nbformat_minor": 4
}
