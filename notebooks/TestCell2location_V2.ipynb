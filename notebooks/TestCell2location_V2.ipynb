{
 "cells": [
  {
   "cell_type": "markdown",
   "id": "effective-movie",
   "metadata": {},
   "source": [
    "Comparison of different c2l models for NanostringWTA data:"
   ]
  },
  {
   "cell_type": "code",
   "execution_count": 1,
   "id": "coastal-pasta",
   "metadata": {},
   "outputs": [
    {
     "name": "stderr",
     "output_type": "stream",
     "text": [
      "WARNING (theano.tensor.blas): Using NumPy C-API based implementation for BLAS functions.\n",
      "Can not use cuDNN on context None: Disabled by dnn.enabled flag\n",
      "Mapped name None to device cuda: Tesla V100-SXM2-32GB (0000:62:00.0)\n"
     ]
    },
    {
     "ename": "ModuleNotFoundError",
     "evalue": "No module named 'cell2location.models.base'",
     "output_type": "error",
     "traceback": [
      "\u001b[0;31m---------------------------------------------------------------------------\u001b[0m",
      "\u001b[0;31mModuleNotFoundError\u001b[0m                       Traceback (most recent call last)",
      "\u001b[0;32m<ipython-input-1-e205ad7e2e80>\u001b[0m in \u001b[0;36m<module>\u001b[0;34m\u001b[0m\n\u001b[1;32m     10\u001b[0m \u001b[0mos\u001b[0m\u001b[0;34m.\u001b[0m\u001b[0menviron\u001b[0m\u001b[0;34m[\u001b[0m\u001b[0;34m\"THEANO_FLAGS\"\u001b[0m\u001b[0;34m]\u001b[0m \u001b[0;34m=\u001b[0m \u001b[0;34m'device=cuda,floatX='\u001b[0m \u001b[0;34m+\u001b[0m \u001b[0mdata_type\u001b[0m \u001b[0;34m+\u001b[0m \u001b[0;34m',force_device=True'\u001b[0m \u001b[0;34m+\u001b[0m \u001b[0;34m',dnn.enabled=False'\u001b[0m\u001b[0;34m\u001b[0m\u001b[0;34m\u001b[0m\u001b[0m\n\u001b[1;32m     11\u001b[0m \u001b[0;32mimport\u001b[0m \u001b[0mpycell2location\u001b[0m\u001b[0;34m\u001b[0m\u001b[0;34m\u001b[0m\u001b[0m\n\u001b[0;32m---> 12\u001b[0;31m \u001b[0;32mfrom\u001b[0m \u001b[0mpycell2location\u001b[0m \u001b[0;32mimport\u001b[0m \u001b[0mmodels\u001b[0m\u001b[0;34m\u001b[0m\u001b[0;34m\u001b[0m\u001b[0m\n\u001b[0m",
      "\u001b[0;32m/nfs/team283/aa16/software/miniconda3/envs/c2l/lib/python3.7/site-packages/pycell2location-0.1-py3.7.egg/pycell2location/models/__init__.py\u001b[0m in \u001b[0;36m<module>\u001b[0;34m\u001b[0m\n\u001b[1;32m      2\u001b[0m \u001b[0;31m# +\u001b[0m\u001b[0;34m\u001b[0m\u001b[0;34m\u001b[0m\u001b[0;34m\u001b[0m\u001b[0m\n\u001b[1;32m      3\u001b[0m \u001b[0;31m# new default\u001b[0m\u001b[0;34m\u001b[0m\u001b[0;34m\u001b[0m\u001b[0;34m\u001b[0m\u001b[0m\n\u001b[0;32m----> 4\u001b[0;31m \u001b[0;32mfrom\u001b[0m \u001b[0;34m.\u001b[0m\u001b[0mLocationModelLinearDependentWMultiExperimentLocationBackgroundNormGeneAlpha\u001b[0m \u001b[0;32mimport\u001b[0m \u001b[0mLocationModelLinearDependentWMultiExperimentLocationBackgroundNormGeneAlpha\u001b[0m\u001b[0;34m\u001b[0m\u001b[0;34m\u001b[0m\u001b[0m\n\u001b[0m\u001b[1;32m      5\u001b[0m \u001b[0;34m\u001b[0m\u001b[0m\n\u001b[1;32m      6\u001b[0m \u001b[0;34m\u001b[0m\u001b[0m\n",
      "\u001b[0;32m/nfs/team283/aa16/software/miniconda3/envs/c2l/lib/python3.7/site-packages/pycell2location-0.1-py3.7.egg/pycell2location/models/LocationModelLinearDependentWMultiExperimentLocationBackgroundNormGeneAlpha.py\u001b[0m in \u001b[0;36m<module>\u001b[0;34m\u001b[0m\n\u001b[1;32m     12\u001b[0m \u001b[0;32mimport\u001b[0m \u001b[0mtheano\u001b[0m\u001b[0;34m\u001b[0m\u001b[0;34m\u001b[0m\u001b[0m\n\u001b[1;32m     13\u001b[0m \u001b[0;34m\u001b[0m\u001b[0m\n\u001b[0;32m---> 14\u001b[0;31m \u001b[0;32mfrom\u001b[0m \u001b[0mcell2location\u001b[0m\u001b[0;34m.\u001b[0m\u001b[0mmodels\u001b[0m\u001b[0;34m.\u001b[0m\u001b[0mbase\u001b[0m\u001b[0;34m.\u001b[0m\u001b[0mpymc3_loc_model\u001b[0m \u001b[0;32mimport\u001b[0m \u001b[0mPymc3LocModel\u001b[0m\u001b[0;34m\u001b[0m\u001b[0;34m\u001b[0m\u001b[0m\n\u001b[0m\u001b[1;32m     15\u001b[0m \u001b[0;34m\u001b[0m\u001b[0m\n\u001b[1;32m     16\u001b[0m \u001b[0;34m\u001b[0m\u001b[0m\n",
      "\u001b[0;31mModuleNotFoundError\u001b[0m: No module named 'cell2location.models.base'"
     ]
    }
   ],
   "source": [
    "import sys,os\n",
    "import pickle\n",
    "import anndata\n",
    "import pandas as pd\n",
    "import numpy as np\n",
    "import matplotlib.pyplot as plt\n",
    "import scanpy as sc\n",
    "from IPython.display import Image\n",
    "data_type = 'float32'\n",
    "os.environ[\"THEANO_FLAGS\"] = 'device=cuda,floatX=' + data_type + ',force_device=True' + ',dnn.enabled=False'\n",
    "import pycell2location\n",
    "from pycell2location import models"
   ]
  },
  {
   "cell_type": "markdown",
   "id": "ready-teaching",
   "metadata": {},
   "source": [
    "Load data and subset to one 19pcw replicate:"
   ]
  },
  {
   "cell_type": "code",
   "execution_count": null,
   "id": "accepting-clark",
   "metadata": {},
   "outputs": [],
   "source": [
    "adata_wta = pickle.load(open('/nfs/team283/aa16/KR_NAS/data/nanostringWTA_fetailBrain_AnnData.p', 'rb'))\n",
    "adata_wta = adata_wta[adata_wta.obs['slide'] == '00MU',:]"
   ]
  },
  {
   "cell_type": "code",
   "execution_count": null,
   "id": "prime-asbestos",
   "metadata": {},
   "outputs": [],
   "source": [
    "meanExpression_sc = pd.read_csv(\"/nfs/team283/aa16/KR_NAS/data/polioudakis2019_meanExpressionProfiles.csv\", index_col=0)"
   ]
  },
  {
   "cell_type": "code",
   "execution_count": null,
   "id": "former-stupid",
   "metadata": {},
   "outputs": [],
   "source": [
    "counts_negativeProbes = np.asarray(adata_wta[:,np.array(adata_wta.var_names =='NegProbe-WTX').squeeze()].X)\n",
    "counts_nuclei = np.asarray(adata_wta.obs['nuclei']).reshape(len(adata_wta.obs['nuclei']),1)\n",
    "adata_wta = adata_wta[:,np.array(adata_wta.var_names != 'NegProbe-WTX').squeeze()]"
   ]
  },
  {
   "cell_type": "code",
   "execution_count": null,
   "id": "increased-evanescence",
   "metadata": {},
   "outputs": [],
   "source": [
    "cell2location.run_c2l.run_cell2location(meanExpression_sc, adata_wta, \n",
    "        model_name=pycell2location.models.LocationModelLinearDependentWMultiExperimentLocationBackgroundNormGeneAlpha,\n",
    "        train_args={'use_raw': False},\n",
    "        model_kwargs={\n",
    "        \"cell_number_prior\" : {'cells_per_spot': counts_nuclei, 'factors_per_spot': 6, 'combs_per_spot': 3},\n",
    "        \"cell_number_var_prior\" : {'cells_mean_var_ratio': 1, 'factors_mean_var_ratio': 1, 'combs_mean_var_ratio': 1}})"
   ]
  },
  {
   "cell_type": "code",
   "execution_count": null,
   "id": "offensive-individual",
   "metadata": {},
   "outputs": [],
   "source": [
    "pycell2location"
   ]
  },
  {
   "cell_type": "code",
   "execution_count": null,
   "id": "literary-undergraduate",
   "metadata": {},
   "outputs": [],
   "source": []
  }
 ],
 "metadata": {
  "kernelspec": {
   "display_name": "Python 3",
   "language": "python",
   "name": "python3"
  },
  "language_info": {
   "codemirror_mode": {
    "name": "ipython",
    "version": 3
   },
   "file_extension": ".py",
   "mimetype": "text/x-python",
   "name": "python",
   "nbconvert_exporter": "python",
   "pygments_lexer": "ipython3",
   "version": "3.7.10"
  }
 },
 "nbformat": 4,
 "nbformat_minor": 5
}
