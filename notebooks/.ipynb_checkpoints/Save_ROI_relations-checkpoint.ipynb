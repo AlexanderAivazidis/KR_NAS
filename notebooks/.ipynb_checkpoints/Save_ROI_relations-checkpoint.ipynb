{
 "cells": [
  {
   "cell_type": "code",
   "execution_count": 1,
   "metadata": {},
   "outputs": [],
   "source": [
    "import sys,os\n",
    "path = '/nfs/team283/aa16/KR_NAS/'\n",
    "os.chdir(path)\n",
    "sys.path.append(path)"
   ]
  },
  {
   "cell_type": "code",
   "execution_count": 2,
   "metadata": {},
   "outputs": [
    {
     "name": "stdout",
     "output_type": "stream",
     "text": [
      "Populating the interactive namespace from numpy and matplotlib\n"
     ]
    }
   ],
   "source": [
    "%pylab inline\n",
    "import pandas as pd\n",
    "import NaiveDE\n",
    "import SpatialDE\n",
    "import statsmodels.stats.multitest as multi\n",
    "import scipy.stats as ss\n",
    "import pickle as pickle\n",
    "import scipy as sc\n",
    "import matplotlib\n",
    "import statsmodels.stats.multitest as multi\n",
    "matplotlib.rcParams['pdf.fonttype'] = 42\n",
    "matplotlib.rcParams['ps.fonttype'] = 42"
   ]
  },
  {
   "cell_type": "markdown",
   "metadata": {},
   "source": [
    "Load data (without negative probes):"
   ]
  },
  {
   "cell_type": "code",
   "execution_count": 3,
   "metadata": {},
   "outputs": [
    {
     "name": "stderr",
     "output_type": "stream",
     "text": [
      "/nfs/users/nfs_a/aa16/.local/lib/python3.7/site-packages/anndata/_core/anndata.py:21: FutureWarning: pandas.core.index is deprecated and will be removed in a future version.  The public classes are available in the top-level namespace.\n",
      "  from pandas.core.index import RangeIndex\n"
     ]
    }
   ],
   "source": [
    "adata = pickle.load(open('data/nanostringWTA_fetailBrain_AnnData.p',  \"rb\"))\n",
    "adata = adata[:,adata.var_names != 'NegProbe-WTX']\n",
    "adata.layers['Stabilized'] = NaiveDE.stabilize(adata.X)\n",
    "adata.obs['TotalCounts'] = np.sum(adata.X, axis = 1)\n",
    "adata.layers['TotalCountsRegressed'] = NaiveDE.regress_out(adata.obs, adata.layers['Stabilized'].T, 'np.log(TotalCounts)').T"
   ]
  },
  {
   "cell_type": "code",
   "execution_count": 4,
   "metadata": {},
   "outputs": [
    {
     "data": {
      "text/plain": [
       "Layers with keys: CPM, X_Corrected, CPM_corrected, X, Stabilized, TotalCountsRegressed"
      ]
     },
     "execution_count": 4,
     "metadata": {},
     "output_type": "execute_result"
    }
   ],
   "source": [
    "adata.layers"
   ]
  },
  {
   "cell_type": "markdown",
   "metadata": {},
   "source": [
    "Order AOIs according to slide, radial_position and cortical depth, returning a data frame with the index of each HOPXpos, EOMESpos and background AOI for each position, as well as the parallel geometric ROI."
   ]
  },
  {
   "cell_type": "code",
   "execution_count": 11,
   "metadata": {},
   "outputs": [],
   "source": [
    "celltypeAOIs_1 = np.array(np.where([adata.obs['Radial_position'][i] in (1,3) and adata.obs['AOI_type'][i] == 'EOMESpos'\n",
    "                for i in range(len(adata.obs['age']))])[0])\n",
    "\n",
    "celltypeAOIs_2 = np.array(np.where([adata.obs['Radial_position'][i] in (1,3) and adata.obs['AOI_type'][i] == 'HOPXpos'\n",
    "                for i in range(len(adata.obs['age']))])[0])\n",
    "\n",
    "backgroundAOIs = np.array(np.where([adata.obs['Radial_position'][i] in (1,3) and adata.obs['AOI_type'][i] == 'Residual'\n",
    "                for i in range(len(adata.obs['age']))])[0])\n",
    "\n",
    "parallelROIs = np.array(np.where([adata.obs['Radial_position'][i] == 2 and adata.obs['AOI_type'][i] == 'Geometric'\n",
    "                for i in range(len(adata.obs['age']))])[0])\n",
    "\n",
    "ringROIs = np.array(np.where([adata.obs['Radial_position'][i] in (1,3) and adata.obs['AOI_type'][i] == 'Ring'\n",
    "                for i in range(len(adata.obs['age']))])[0])"
   ]
  },
  {
   "cell_type": "code",
   "execution_count": 15,
   "metadata": {},
   "outputs": [
    {
     "name": "stdout",
     "output_type": "stream",
     "text": [
      "   Slide  Radial_position   VCDepth Background HOPXpos EOMESpos ParallelROI  \\\n",
      "0   00MU                1  0.028892        126     111      103         107   \n",
      "1   00MU                1  0.094703        156     141      134         122   \n",
      "2   00MU                1  0.205457         96     172      164         137   \n",
      "3   00MU                1  0.303371        127     112      104         152   \n",
      "4   00MU                1  0.382022        157     142      135         160   \n",
      "5   00MU                3  0.028892         94     170      162         107   \n",
      "6   00MU                3  0.094703        125     110      102         122   \n",
      "7   00MU                3  0.205457        155     140      133         137   \n",
      "8   00MU                3  0.303371         95     171      163         152   \n",
      "9   00MU                3  0.382022         97     173      165         160   \n",
      "10  00MV                1  0.312557         35      21       13          98   \n",
      "11  00MV                1  0.392513         67      51       43         106   \n",
      "12  00MV                3  0.028457         36      22       14         143   \n",
      "13  00MV                3  0.101036          6      81       74         158   \n",
      "14  00MV                3  0.213702         68      52       44         174   \n",
      "15  00MV                3  0.312557        190      82       75          98   \n",
      "16  00MW                1  0.021415        210     198      191         223   \n",
      "17  00MW                1  0.097559        250     238      231         243   \n",
      "18  00MW                1  0.323609        225     212      206         185   \n",
      "19  00MW                1  0.452101        251     239      232         192   \n",
      "20  00MW                3  0.021784        207     194      187         223   \n",
      "21  00MW                3  0.084958        233     219      213         243   \n",
      "22  00MW                3  0.326762        208     195      188         185   \n",
      "23  00MW                3  0.465636        234     220      214         192   \n",
      "\n",
      "   Ring  \n",
      "0   118  \n",
      "1   148  \n",
      "2   180  \n",
      "3   119  \n",
      "4   149  \n",
      "5   178  \n",
      "6   117  \n",
      "7   147  \n",
      "8   179  \n",
      "9   181  \n",
      "10   28  \n",
      "11   59  \n",
      "12   29  \n",
      "13   89  \n",
      "14   60  \n",
      "15   90  \n",
      "16  204  \n",
      "17  244  \n",
      "18  218  \n",
      "19  245  \n",
      "20  201  \n",
      "21  226  \n",
      "22  202  \n",
      "23  227  \n"
     ]
    }
   ],
   "source": [
    "celltypeAOIs_1 = np.array(np.where([adata.obs['slide'][i] in ('00MU', '00MV', '00MV-2', '00MW') \n",
    "                and adata.obs['Radial_position'][i] in (1,3) and adata.obs['AOI_type'][i] == 'EOMESpos'\n",
    "                for i in range(len(adata.obs['age']))])[0])\n",
    "\n",
    "celltypeAOIs_2 = np.array(np.where([adata.obs['slide'][i] in ('00MU', '00MV', '00MV-2', '00MW') \n",
    "                and adata.obs['Radial_position'][i] in (1,3) and adata.obs['AOI_type'][i] == 'HOPXpos'\n",
    "                for i in range(len(adata.obs['age']))])[0])\n",
    "\n",
    "backgroundAOIs = np.array(np.where([adata.obs['slide'][i] in ('00MU', '00MV', '00MV-2', '00MW') \n",
    "                and adata.obs['Radial_position'][i] in (1,3) and adata.obs['AOI_type'][i] == 'Residual'\n",
    "                for i in range(len(adata.obs['age']))])[0])\n",
    "\n",
    "parallelROIs = np.array(np.where([adata.obs['slide'][i] in ('00MU', '00MV', '00MV-2', '00MW') \n",
    "                and adata.obs['Radial_position'][i] == 2 and adata.obs['AOI_type'][i] == 'Geometric'\n",
    "                for i in range(len(adata.obs['age']))])[0])\n",
    "\n",
    "ringAOIs = np.array(np.where([adata.obs['slide'][i] in ('00MU', '00MV', '00MV-2', '00MW') \n",
    "                and adata.obs['Radial_position'][i] in (1,3) and adata.obs['AOI_type'][i] == 'Ring'\n",
    "                for i in range(len(adata.obs['age']))])[0])\n",
    "\n",
    "adata.obs.loc[adata.obs['slide'] == '00MV-2', 'slide'] = '00MV'\n",
    "\n",
    "order_list1 = []\n",
    "order_list2 = []\n",
    "order_list3 = []\n",
    "order_list4 = []\n",
    "\n",
    "unique_slides = np.array(('00MU', '00MV', '00MW'))\n",
    "unique_positions = (1,3)\n",
    "combinations = []\n",
    "\n",
    "for i in range(len(unique_slides)):\n",
    "    for j in range(len(unique_positions)):\n",
    "        order_list1.append(backgroundAOIs[[adata.obs['slide'][k] in unique_slides[i] and \n",
    "                                    adata.obs['Radial_position'][k] == unique_positions[j]\n",
    "                           for k in backgroundAOIs]])\n",
    "        combinations.append((unique_slides[i], unique_positions[j]))\n",
    "\n",
    "for i in range(len(unique_slides)):\n",
    "    for j in range(len(unique_positions)):\n",
    "        order_list2.append(celltypeAOIs_1[[adata.obs['slide'][k] in unique_slides[i] and \n",
    "                                    adata.obs['Radial_position'][k] == unique_positions[j]\n",
    "                           for k in celltypeAOIs_1]])\n",
    "\n",
    "for i in range(len(unique_slides)):\n",
    "    for j in range(len(unique_positions)):\n",
    "        order_list3.append(celltypeAOIs_2[[adata.obs['slide'][k] in unique_slides[i] and \n",
    "                                    adata.obs['Radial_position'][k] == unique_positions[j]\n",
    "                           for k in celltypeAOIs_2]])\n",
    "        \n",
    "for i in range(len(unique_slides)):\n",
    "    for j in range(len(unique_positions)):\n",
    "        order_list4.append(ringAOIs[[adata.obs['slide'][k] in unique_slides[i] and \n",
    "                                    adata.obs['Radial_position'][k] == unique_positions[j]\n",
    "                           for k in ringAOIs]])\n",
    "\n",
    "VCDepths = list()\n",
    "for i in range(len(order_list1)):\n",
    "    VCDepths.append(np.intersect1d(np.intersect1d(np.intersect1d(adata.obs['VCDepth'].iloc[order_list1[i]],\n",
    "                                                  adata.obs['VCDepth'].iloc[order_list2[i]]),\n",
    "                   adata.obs['VCDepth'].iloc[order_list3[i]]),adata.obs['VCDepth'].iloc[order_list4[i]]))\n",
    "\n",
    "input_data = pd.DataFrame(columns = ('Slide', 'Radial_position', 'VCDepth', 'Background', 'HOPXpos',\n",
    "                                     'EOMESpos', 'ParallelROI', 'Ring'),\n",
    "             index = range(sum([len(VCDepths[i]) for i in range(len(VCDepths))])))\n",
    "\n",
    "input_data['VCDepth'] = [item for sublist in VCDepths for item in sublist]\n",
    "\n",
    "slides = []\n",
    "radial_positions = []\n",
    "for i in range(len(VCDepths)):\n",
    "    slides.append(np.repeat(combinations[i][0], len(VCDepths[i])))\n",
    "    radial_positions.append(np.repeat(combinations[i][1], len(VCDepths[i])))\n",
    "\n",
    "input_data['Slide'] = [item for sublist in slides for item in sublist]\n",
    "input_data['Radial_position'] = [item for sublist in radial_positions for item in sublist]\n",
    "\n",
    "# Finally fill in the relevant index in the adata frame:\n",
    "for i in input_data.index:\n",
    "    \n",
    "    input_data['Background'].iloc[i] = np.where([adata.obs['slide'][j] == input_data['Slide'][i] and\n",
    "                                                adata.obs['Radial_position'][j] == input_data['Radial_position'][i] and\n",
    "                                                adata.obs['VCDepth'][j] == input_data['VCDepth'][i] and\n",
    "                                                adata.obs['AOI_type'][j] == 'Residual' \n",
    "                                                for j in range(len(adata.obs['slide']))])[0][0]\n",
    "    \n",
    "    input_data['HOPXpos'].iloc[i] = np.where([adata.obs['slide'][j] == input_data['Slide'][i] and\n",
    "                                                adata.obs['Radial_position'][j] == input_data['Radial_position'][i] and\n",
    "                                                adata.obs['VCDepth'][j] == input_data['VCDepth'][i] and\n",
    "                                                adata.obs['AOI_type'][j] == 'HOPXpos' \n",
    "                                                for j in range(len(adata.obs['slide']))])[0][0]\n",
    "\n",
    "    input_data['EOMESpos'].iloc[i] = np.where([adata.obs['slide'][j] == input_data['Slide'][i] and\n",
    "                                                adata.obs['Radial_position'][j] == input_data['Radial_position'][i] and\n",
    "                                                adata.obs['VCDepth'][j] == input_data['VCDepth'][i] and\n",
    "                                                adata.obs['AOI_type'][j] == 'EOMESpos' \n",
    "                                                for j in range(len(adata.obs['slide']))])[0][0]    \n",
    "    \n",
    "    input_data['Ring'].iloc[i] = np.where([adata.obs['slide'][j] == input_data['Slide'][i] and\n",
    "                                                adata.obs['Radial_position'][j] == input_data['Radial_position'][i] and\n",
    "                                                adata.obs['VCDepth'][j] == input_data['VCDepth'][i] and\n",
    "                                                adata.obs['AOI_type'][j] == 'Ring' \n",
    "                                                for j in range(len(adata.obs['slide']))])[0][0]    \n",
    "\n",
    "for i in range(np.shape(input_data)[0]):\n",
    "    index = np.where(np.array(adata.obs['slide']) == input_data.iloc[i,0])[0]\n",
    "    index = [i for i in index if i in parallelROIs]\n",
    "    input_data.iloc[i,6] = index[np.argmin(np.abs(np.array(adata.obs['VCDepth'].iloc[index]) - input_data['VCDepth'].iloc[i]))]     \n",
    "    \n",
    "print(input_data)\n",
    "\n",
    "pickle.dump(input_data, open( \"data/ROI_relations.p\", \"wb\" ))"
   ]
  },
  {
   "cell_type": "code",
   "execution_count": null,
   "metadata": {},
   "outputs": [],
   "source": []
  }
 ],
 "metadata": {
  "kernelspec": {
   "display_name": "Python (cellpymc)",
   "language": "python",
   "name": "cellpymc"
  },
  "language_info": {
   "codemirror_mode": {
    "name": "ipython",
    "version": 3
   },
   "file_extension": ".py",
   "mimetype": "text/x-python",
   "name": "python",
   "nbconvert_exporter": "python",
   "pygments_lexer": "ipython3",
   "version": "3.7.6"
  }
 },
 "nbformat": 4,
 "nbformat_minor": 4
}
