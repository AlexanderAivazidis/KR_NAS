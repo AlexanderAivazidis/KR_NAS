{
 "cells": [
  {
   "cell_type": "code",
   "execution_count": 10,
   "metadata": {},
   "outputs": [],
   "source": [
    "import pickle\n",
    "import numpy as np\n",
    "import pandas as pd\n",
    "import matplotlib.pyplot as plt\n",
    "import scanpy as sc"
   ]
  },
  {
   "cell_type": "code",
   "execution_count": 11,
   "metadata": {},
   "outputs": [],
   "source": [
    "adata_pooled = pickle.load(open('/nfs/team283/aa16/KR_NAS/data/nanostringWTA_fetailBrain_AnnData.p', 'rb'))"
   ]
  },
  {
   "cell_type": "code",
   "execution_count": null,
   "metadata": {},
   "outputs": [],
   "source": [
    "# sc.pp.filter_cells(adata_pooled, min_genes=1)\n",
    "sc.pp.filter_genes(adata_pooled, min_cells=1)\n",
    "import matplotlib as mpl\n",
    "# calculate the mean of each gene across non-zero cells\n",
    "n_cells = (adata_pooled.X > 0).sum(0)\n",
    "nonz_mean = adata_pooled.X.sum(0) / n_cells\n",
    "plt.hist2d(np.log10(nonz_mean),\n",
    "           np.log10(n_cells), bins=100,\n",
    "           norm=mpl.colors.LogNorm(),\n",
    "           range=[[0,4.5], [0,3]]);\n",
    "nonz_mean_cutoff = np.log10(2.7) # cut off for expression in non-zero cells\n",
    "cell_count_cutoff = np.log10(5) # cut off percentage for cells with higher expression\n",
    "cell_count_cutoff2 = np.log10(adata_pooled.shape[0] * 0.5)# cut off percentage for cells with small expression\n",
    "plt.vlines(nonz_mean_cutoff, cell_count_cutoff, cell_count_cutoff2, color = 'orange');\n",
    "plt.hlines(cell_count_cutoff, nonz_mean_cutoff, 1, color = 'orange');\n",
    "plt.hlines(cell_count_cutoff2, 0, nonz_mean_cutoff, color = 'orange');\n",
    "plt.xlabel('Mean count in cells with mRNA count > 0 (log10)');\n",
    "plt.ylabel('Count of cells with mRNA count > 0 (log10)');\n",
    "adata_pooled[:,((np.array(np.log10(nonz_mean) > nonz_mean_cutoff)\n",
    "                              | np.array(np.log10(n_cells) > cell_count_cutoff2))\n",
    "                              & np.array(np.log10(n_cells) > cell_count_cutoff))].shape"
   ]
  },
  {
   "cell_type": "code",
   "execution_count": null,
   "metadata": {},
   "outputs": [],
   "source": []
  }
 ],
 "metadata": {
  "kernelspec": {
   "display_name": "Python (cellpymc)",
   "language": "python",
   "name": "cellpymc"
  },
  "language_info": {
   "codemirror_mode": {
    "name": "ipython",
    "version": 3
   },
   "file_extension": ".py",
   "mimetype": "text/x-python",
   "name": "python",
   "nbconvert_exporter": "python",
   "pygments_lexer": "ipython3",
   "version": "3.7.6"
  }
 },
 "nbformat": 4,
 "nbformat_minor": 4
}
