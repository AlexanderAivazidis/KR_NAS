{
 "cells": [
  {
   "cell_type": "code",
   "execution_count": 1,
   "metadata": {},
   "outputs": [
    {
     "name": "stderr",
     "output_type": "stream",
     "text": [
      "/nfs/users/nfs_a/aa16/.local/lib/python3.7/site-packages/anndata/_core/anndata.py:21: FutureWarning: pandas.core.index is deprecated and will be removed in a future version.  The public classes are available in the top-level namespace.\n",
      "  from pandas.core.index import RangeIndex\n"
     ]
    },
    {
     "ename": "TypeError",
     "evalue": "str expected, not tuple",
     "output_type": "error",
     "traceback": [
      "\u001b[0;31m---------------------------------------------------------------------------\u001b[0m",
      "\u001b[0;31mTypeError\u001b[0m                                 Traceback (most recent call last)",
      "\u001b[0;32m<ipython-input-1-09d65889ea84>\u001b[0m in \u001b[0;36m<module>\u001b[0;34m\u001b[0m\n\u001b[1;32m     11\u001b[0m \u001b[0;32mimport\u001b[0m \u001b[0mmatplotlib\u001b[0m\u001b[0;34m\u001b[0m\u001b[0;34m\u001b[0m\u001b[0m\n\u001b[1;32m     12\u001b[0m \u001b[0mdata_type\u001b[0m \u001b[0;34m=\u001b[0m \u001b[0;34m'float32'\u001b[0m\u001b[0;34m\u001b[0m\u001b[0;34m\u001b[0m\u001b[0m\n\u001b[0;32m---> 13\u001b[0;31m \u001b[0mos\u001b[0m\u001b[0;34m.\u001b[0m\u001b[0menviron\u001b[0m\u001b[0;34m[\u001b[0m\u001b[0;34m\"THEANO_FLAGS\"\u001b[0m\u001b[0;34m]\u001b[0m \u001b[0;34m=\u001b[0m \u001b[0;34m'device=cuda,floatX='\u001b[0m \u001b[0;34m+\u001b[0m \u001b[0mdata_type\u001b[0m \u001b[0;34m+\u001b[0m \u001b[0;34m',force_device=True'\u001b[0m\u001b[0;34m,\u001b[0m \u001b[0;34m'dnn.enabled=False'\u001b[0m\u001b[0;34m\u001b[0m\u001b[0;34m\u001b[0m\u001b[0m\n\u001b[0m\u001b[1;32m     14\u001b[0m \u001b[0;31m# /nfs/team283/vk7/software/miniconda3farm5/envs/cellpymc/bin/pip install git+https://github.com/vitkl/cell2location.git\u001b[0m\u001b[0;34m\u001b[0m\u001b[0;34m\u001b[0m\u001b[0;34m\u001b[0m\u001b[0m\n\u001b[1;32m     15\u001b[0m \u001b[0;31m#sys.path.insert(1, '/nfs/team283/ed6/cellLocModel/')\u001b[0m\u001b[0;34m\u001b[0m\u001b[0;34m\u001b[0m\u001b[0;34m\u001b[0m\u001b[0m\n",
      "\u001b[0;32m/nfs/team283/aa16/software/miniconda3/envs/cellpymc/lib/python3.7/os.py\u001b[0m in \u001b[0;36m__setitem__\u001b[0;34m(self, key, value)\u001b[0m\n\u001b[1;32m    682\u001b[0m     \u001b[0;32mdef\u001b[0m \u001b[0m__setitem__\u001b[0m\u001b[0;34m(\u001b[0m\u001b[0mself\u001b[0m\u001b[0;34m,\u001b[0m \u001b[0mkey\u001b[0m\u001b[0;34m,\u001b[0m \u001b[0mvalue\u001b[0m\u001b[0;34m)\u001b[0m\u001b[0;34m:\u001b[0m\u001b[0;34m\u001b[0m\u001b[0;34m\u001b[0m\u001b[0m\n\u001b[1;32m    683\u001b[0m         \u001b[0mkey\u001b[0m \u001b[0;34m=\u001b[0m \u001b[0mself\u001b[0m\u001b[0;34m.\u001b[0m\u001b[0mencodekey\u001b[0m\u001b[0;34m(\u001b[0m\u001b[0mkey\u001b[0m\u001b[0;34m)\u001b[0m\u001b[0;34m\u001b[0m\u001b[0;34m\u001b[0m\u001b[0m\n\u001b[0;32m--> 684\u001b[0;31m         \u001b[0mvalue\u001b[0m \u001b[0;34m=\u001b[0m \u001b[0mself\u001b[0m\u001b[0;34m.\u001b[0m\u001b[0mencodevalue\u001b[0m\u001b[0;34m(\u001b[0m\u001b[0mvalue\u001b[0m\u001b[0;34m)\u001b[0m\u001b[0;34m\u001b[0m\u001b[0;34m\u001b[0m\u001b[0m\n\u001b[0m\u001b[1;32m    685\u001b[0m         \u001b[0mself\u001b[0m\u001b[0;34m.\u001b[0m\u001b[0mputenv\u001b[0m\u001b[0;34m(\u001b[0m\u001b[0mkey\u001b[0m\u001b[0;34m,\u001b[0m \u001b[0mvalue\u001b[0m\u001b[0;34m)\u001b[0m\u001b[0;34m\u001b[0m\u001b[0;34m\u001b[0m\u001b[0m\n\u001b[1;32m    686\u001b[0m         \u001b[0mself\u001b[0m\u001b[0;34m.\u001b[0m\u001b[0m_data\u001b[0m\u001b[0;34m[\u001b[0m\u001b[0mkey\u001b[0m\u001b[0;34m]\u001b[0m \u001b[0;34m=\u001b[0m \u001b[0mvalue\u001b[0m\u001b[0;34m\u001b[0m\u001b[0;34m\u001b[0m\u001b[0m\n",
      "\u001b[0;32m/nfs/team283/aa16/software/miniconda3/envs/cellpymc/lib/python3.7/os.py\u001b[0m in \u001b[0;36mencode\u001b[0;34m(value)\u001b[0m\n\u001b[1;32m    752\u001b[0m         \u001b[0;32mdef\u001b[0m \u001b[0mencode\u001b[0m\u001b[0;34m(\u001b[0m\u001b[0mvalue\u001b[0m\u001b[0;34m)\u001b[0m\u001b[0;34m:\u001b[0m\u001b[0;34m\u001b[0m\u001b[0;34m\u001b[0m\u001b[0m\n\u001b[1;32m    753\u001b[0m             \u001b[0;32mif\u001b[0m \u001b[0;32mnot\u001b[0m \u001b[0misinstance\u001b[0m\u001b[0;34m(\u001b[0m\u001b[0mvalue\u001b[0m\u001b[0;34m,\u001b[0m \u001b[0mstr\u001b[0m\u001b[0;34m)\u001b[0m\u001b[0;34m:\u001b[0m\u001b[0;34m\u001b[0m\u001b[0;34m\u001b[0m\u001b[0m\n\u001b[0;32m--> 754\u001b[0;31m                 \u001b[0;32mraise\u001b[0m \u001b[0mTypeError\u001b[0m\u001b[0;34m(\u001b[0m\u001b[0;34m\"str expected, not %s\"\u001b[0m \u001b[0;34m%\u001b[0m \u001b[0mtype\u001b[0m\u001b[0;34m(\u001b[0m\u001b[0mvalue\u001b[0m\u001b[0;34m)\u001b[0m\u001b[0;34m.\u001b[0m\u001b[0m__name__\u001b[0m\u001b[0;34m)\u001b[0m\u001b[0;34m\u001b[0m\u001b[0;34m\u001b[0m\u001b[0m\n\u001b[0m\u001b[1;32m    755\u001b[0m             \u001b[0;32mreturn\u001b[0m \u001b[0mvalue\u001b[0m\u001b[0;34m.\u001b[0m\u001b[0mencode\u001b[0m\u001b[0;34m(\u001b[0m\u001b[0mencoding\u001b[0m\u001b[0;34m,\u001b[0m \u001b[0;34m'surrogateescape'\u001b[0m\u001b[0;34m)\u001b[0m\u001b[0;34m\u001b[0m\u001b[0;34m\u001b[0m\u001b[0m\n\u001b[1;32m    756\u001b[0m         \u001b[0;32mdef\u001b[0m \u001b[0mdecode\u001b[0m\u001b[0;34m(\u001b[0m\u001b[0mvalue\u001b[0m\u001b[0;34m)\u001b[0m\u001b[0;34m:\u001b[0m\u001b[0;34m\u001b[0m\u001b[0;34m\u001b[0m\u001b[0m\n",
      "\u001b[0;31mTypeError\u001b[0m: str expected, not tuple"
     ]
    }
   ],
   "source": [
    "import sys, ast, os\n",
    "import time\n",
    "import pickle\n",
    "import scanpy as sc\n",
    "import anndata\n",
    "import pandas as pd\n",
    "import numpy as np\n",
    "import os\n",
    "from plotnine import *\n",
    "import matplotlib.pyplot as plt \n",
    "import matplotlib\n",
    "data_type = 'float32'\n",
    "os.environ[\"THEANO_FLAGS\"] = 'device=cuda,floatX=' + data_type + ',force_device=True' + ',dnn.enabled=False'\n",
    "# /nfs/team283/vk7/software/miniconda3farm5/envs/cellpymc/bin/pip install git+https://github.com/vitkl/cell2location.git\n",
    "#sys.path.insert(1, '/nfs/team283/ed6/cellLocModel/')\n",
    "sys.path.insert(1, '/nfs/team205/vk7/sanger_projects/cell2location/')\n",
    "#import cellLocModel as clm\n",
    "import pycell2location.models as c2l\n",
    "import pycell2location.plt as c2lpl\n",
    "import pycell2location.cluster_averages \n",
    "from matplotlib import rcParams\n",
    "import seaborn as sns\n",
    "# scanpy prints a lot of warnings\n",
    "import warnings\n",
    "warnings.filterwarnings('ignore')"
   ]
  },
  {
   "cell_type": "code",
   "execution_count": null,
   "metadata": {},
   "outputs": [],
   "source": [
    "rSlides = np.array(('00MU', '00MV')) # slide we want to look at\n",
    "AOI_type = ['Geometric'] #np.array(('HOPXpos', 'EOMESpos', 'Residual', 'Ring', 'Geometric'))\n",
    "Radial_positions = np.array((2))\n",
    "\n",
    "# Let's load the data and metadata from our Nanostring experiment:\n",
    "\n",
    "counts = pd.read_table('/nfs/team283/aa16/KR_NAS/Sanger_288ROIs_TargetCountMatrix.txt')\n",
    "genes = counts['TargetName']\n",
    "counts = counts.drop('TargetName',1)\n",
    "counts = counts.rename(index=genes)\n",
    "counts = counts.astype('int')\n",
    "counts = counts[np.array([sum(counts.iloc[i,:]) for i in range(len(counts.iloc[:,0]))]) > 3 * 288]\n",
    "metadata = pd.read_csv('/nfs/team283/aa16/KR_NAS/NanoString sequencing all annotations 2020.02.10.csv')\n",
    "metadata = metadata.iloc[0:286,]\n",
    "metadata = metadata.rename(index=metadata['Sanger_sampleID'])\n",
    "metadata = metadata.reindex(np.array(counts.columns))\n",
    "properties = pd.read_table('/nfs/team283/aa16/KR_NAS/Sanger_288ROIs_SegmentProperties.txt')\n",
    "properties = properties.rename(index=properties['DSP_Sample_ID'])\n",
    "properties = properties.reindex(np.array(metadata['Sample_ID']))\n",
    "columnNames = ('x', 'y', 'total_counts', 'Q3_counts')\n",
    "sample_info = pd.DataFrame(index=metadata['Sample_ID'], columns=columnNames)\n",
    "sample_info['x'] = np.array(metadata['VCDepth'])\n",
    "sample_info['y'] = np.array(metadata['Radial_position'])\n",
    "sample_info['total_counts'] = [sum(counts.iloc[:,i]) for i in range(len(counts.iloc[1,:]))] \n",
    "sample_info['Q3_counts'] = [sum(np.sort(counts.iloc[:,i])[int(np.round(0.5*len(counts.iloc[:,i]))):int(np.round(0.75*len(counts.iloc[:,i])))]) for i in range(len(counts.iloc[1,:]))] \n",
    "\n",
    "# Let's load the Polioudakis 2019 data as a reference, as well as the cell type specific marker genes:\n",
    "\n",
    "polioudakis = pd.read_csv('/nfs/team283/brainData/human_fetal/Polioudakis2019/subclusterMeans.csv')\n",
    "markers = pd.read_csv('/nfs/team283/brainData/human_fetal/Polioudakis2019/subclusterMarkers.csv')\n",
    "genes = polioudakis.iloc[:,0]\n",
    "polioudakis = polioudakis.drop('Unnamed: 0',1)\n",
    "polioudakis = polioudakis.rename(index=genes)\n",
    "\n",
    "# Choose the top N markers only:\n",
    "\n",
    "N = 10\n",
    "columnNames = np.unique(markers['cluster'])\n",
    "topN_markers = pd.DataFrame(index=range(N), columns=columnNames)\n",
    "for i in range(len(columnNames)):\n",
    "    topN_temp = np.array(markers[markers['cluster'] == columnNames[i]].iloc[0:N,].iloc[:,0])\n",
    "    topN_markers[columnNames[i]] = [topN_temp[i].split('.')[0] for i in range(len(topN_temp))]\n",
    "topN_array = np.array(topN_markers).flatten()  \n",
    "\n",
    "subset_rois = [metadata['slide'][i] in rSlides and metadata['Radial_position'][i] in Radial_positions and metadata['AOI_type'][i] in AOI_type for i in range(len(metadata['slide']))]\n",
    "relevantIDs = metadata['Sample_ID'][subset_rois]\n",
    "relevantSangerIDs = metadata['Sanger_sampleID'][subset_rois]\n",
    "counts_subset = counts.loc[:,relevantSangerIDs]\n",
    "subset_genes = [counts_subset.index[i] in topN_array for i in range(len(counts_subset.index))]\n",
    "counts_subset = counts_subset.iloc[subset_genes,:]\n",
    "polioudakis_subset = polioudakis.reindex(np.array(counts_subset.index))\n",
    "\n",
    "polioudakis_subset = polioudakis.reindex(np.array(counts_subset.index))"
   ]
  },
  {
   "cell_type": "code",
   "execution_count": null,
   "metadata": {},
   "outputs": [],
   "source": [
    "mod1 = c2l.LocationModelV6(\n",
    "        np.array(polioudakis_subset), np.array(counts_subset).T,\n",
    "        data_type='float32', n_iter=50000,\n",
    "        learning_rate=0.001,\n",
    "        total_grad_norm_constraint=200,\n",
    "        verbose=False)"
   ]
  },
  {
   "cell_type": "code",
   "execution_count": null,
   "metadata": {},
   "outputs": [],
   "source": [
    "mod1.sample_prior()\n",
    "mod1.plot_prior_vs_data()"
   ]
  },
  {
   "cell_type": "code",
   "execution_count": null,
   "metadata": {},
   "outputs": [],
   "source": [
    "mod1.fit_advi(n=3, method='advi')"
   ]
  },
  {
   "cell_type": "code",
   "execution_count": null,
   "metadata": {},
   "outputs": [],
   "source": [
    "mod1.plot_history()"
   ]
  },
  {
   "cell_type": "code",
   "execution_count": null,
   "metadata": {},
   "outputs": [],
   "source": [
    "mod1.sample_posterior(node='all', n_samples=1000, save_samples=False);\n",
    "\n",
    "mod1.sample2df()\n",
    "\n",
    "mod1.compute_expected()\n",
    "mod1.plot_posterior_mu_vs_data()"
   ]
  },
  {
   "cell_type": "code",
   "execution_count": null,
   "metadata": {},
   "outputs": [],
   "source": [
    "# Plot the results:\n",
    "colourIndex = np.array((0, 0, 0, 0, 1, 1, 1,\n",
    "       1, 1, 1, 2, 2, 2, 2,\n",
    "       2, 2, 2, 2, 3, 3, 3,\n",
    "       3, 3, 3, 4, 4, 4, 4,\n",
    "       4, 4, 4, 4, 5, 5, 5,\n",
    "       5, 5, 5, 6, 6, 6,\n",
    "       6, 6, 6, 6, 6, 7, 7,\n",
    "       7, 7, 8, 8, 8, 8, 8, 8,\n",
    "       9, 9, 9, 9, 9, 10, 10, 10,\n",
    "       11, 11, 11, 11, 11, 12, 12,\n",
    "       12, 12, 12, 13, 13, 13, 13))\n",
    "\n",
    "results = mod1.spot_factors_df\n",
    "\n",
    "results_normed = np.array(results)\n",
    "results_normed = (results_normed.T/[sum(results_normed[i,]) for i in range(len(results_normed[:,1]))]).T\n",
    "\n",
    "from matplotlib.pyplot import figure\n",
    "figure(num=None, figsize=(30, 30), dpi=80, facecolor='w', edgecolor='k')\n",
    "\n",
    "order = 6\n",
    "\n",
    "cellColours = np.array(('green', 'blue', 'purple', 'yellow', 'red', 'green', 'blue', 'purple', 'yellow', 'red', 'green', 'blue', 'purple', 'yellow', 'red', 'green', 'blue', 'purple', 'yellow', 'red'))\n",
    "celltypes = polioudakis.columns\n",
    "# results_normed = np.array(results)\n",
    "# results_normed = (results_normed - results_normed.min(0)) / results_normed.ptp(0)\n",
    "#figsize(20,20)\n",
    "for i in range(len(celltypes)):\n",
    "    plt.subplot(8,10, i + 1)\n",
    "    x = sample_info['x'][subset_rois]\n",
    "    y = results_normed[:,celltypes == celltypes[i]][:,0]\n",
    "    plt.plot(np.unique(x), np.poly1d(np.polyfit(x, y, order))(np.unique(x)), label = celltypes[i], c = cellColours[colourIndex[i]])\n",
    "    plt.scatter(x, y, label = celltypes[i], c = cellColours[colourIndex[i]])\n",
    "    plt.xlabel('CorticalDepth')\n",
    "    plt.ylabel('mRNA Proportion')\n",
    "    plt.legend()\n",
    "plt.savefig('/nfs/team283/aa16/KR_NAS/CellLocationResults/SubTypeLocations19pcw_PolynomialOrder' + str(order) + '.pdf')\n",
    "plt.show()"
   ]
  },
  {
   "cell_type": "code",
   "execution_count": null,
   "metadata": {},
   "outputs": [],
   "source": [
    "order"
   ]
  },
  {
   "cell_type": "code",
   "execution_count": null,
   "metadata": {},
   "outputs": [],
   "source": [
    "mod1.nUMI_factors"
   ]
  },
  {
   "cell_type": "code",
   "execution_count": null,
   "metadata": {},
   "outputs": [],
   "source": [
    "polioudakis_subset"
   ]
  }
 ],
 "metadata": {
  "kernelspec": {
   "display_name": "Python (cellpymc)",
   "language": "python",
   "name": "cellpymc"
  },
  "language_info": {
   "codemirror_mode": {
    "name": "ipython",
    "version": 3
   },
   "file_extension": ".py",
   "mimetype": "text/x-python",
   "name": "python",
   "nbconvert_exporter": "python",
   "pygments_lexer": "ipython3",
   "version": "3.7.6"
  }
 },
 "nbformat": 4,
 "nbformat_minor": 4
}
