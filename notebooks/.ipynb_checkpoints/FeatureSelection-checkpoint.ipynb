{
 "cells": [
  {
   "cell_type": "code",
   "execution_count": 1,
   "metadata": {},
   "outputs": [
    {
     "name": "stderr",
     "output_type": "stream",
     "text": [
      "/nfs/users/nfs_a/aa16/.local/lib/python3.7/site-packages/anndata/_core/anndata.py:21: FutureWarning: pandas.core.index is deprecated and will be removed in a future version.  The public classes are available in the top-level namespace.\n",
      "  from pandas.core.index import RangeIndex\n"
     ]
    }
   ],
   "source": [
    "import pandas as pd\n",
    "import scanpy as sc\n",
    "import numpy as np"
   ]
  },
  {
   "cell_type": "code",
   "execution_count": 2,
   "metadata": {},
   "outputs": [],
   "source": [
    "raw_counts = pd.read_csv('/nfs/team283/brainData/human_fetal/Polioudakis2019/raw_counts_mat.csv')"
   ]
  },
  {
   "cell_type": "code",
   "execution_count": 3,
   "metadata": {},
   "outputs": [],
   "source": [
    "raw_counts.index = np.array(raw_counts['Unnamed: 0'])\n",
    "raw_counts = raw_counts.iloc[:,1:np.shape(raw_counts)[1]]"
   ]
  },
  {
   "cell_type": "code",
   "execution_count": 4,
   "metadata": {},
   "outputs": [],
   "source": [
    "metadata = pd.read_csv('/nfs/team283/brainData/human_fetal/Polioudakis2019/cell_metadata.csv')"
   ]
  },
  {
   "cell_type": "code",
   "execution_count": 5,
   "metadata": {},
   "outputs": [],
   "source": [
    "metadata.index = metadata['Cell']\n",
    "metadata = metadata.reindex(np.array(raw_counts.columns))\n",
    "metadata['Cluster'] = metadata['Cluster'].astype(str)"
   ]
  },
  {
   "cell_type": "code",
   "execution_count": 6,
   "metadata": {},
   "outputs": [],
   "source": [
    "adata = sc.AnnData(X=np.array(raw_counts).T, obs=metadata, var=np.array(raw_counts.index))"
   ]
  },
  {
   "cell_type": "code",
   "execution_count": 7,
   "metadata": {},
   "outputs": [],
   "source": [
    "def selectFeatures(adata, groupName, n_features = 2000):\n",
    "    # Subsets adata to features that best distinguish a group given in adata.obs[groupName]\n",
    "    if 'rank_genes_groups' in adata.uns.keys():\n",
    "        print('Using existing ranked genes...')\n",
    "    else:\n",
    "        uniqueClusters = np.unique(adata.obs[groupName])\n",
    "        sc.tl.rank_genes_groups(adata, 'Cluster', n_genes=int(np.round(len(adata.var)/10)))\n",
    "    ranked_features = np.unique([int(item) for sublist in adata.uns['rank_genes_groups']['names'] for item in sublist])\n",
    "    if n_features > len(ranked_features):\n",
    "        print('Maximum number of features: ' + str(len(ranked_features)))\n",
    "        selected_features = ranked_features\n",
    "        return adata[:,selected_features]\n",
    "    else:\n",
    "        i = 1\n",
    "        selected_features = []\n",
    "        while len(np.unique(selected_features)) < n_features:\n",
    "            selected_features = [int(item) for sublist in adata.uns['rank_genes_groups']['names'][:][:i] for item in sublist]\n",
    "            i += 1\n",
    "        return adata[:,np.unique(selected_features)[:n_features]]"
   ]
  },
  {
   "cell_type": "code",
   "execution_count": 8,
   "metadata": {},
   "outputs": [
    {
     "name": "stderr",
     "output_type": "stream",
     "text": [
      "... storing 'Cell' as categorical\n",
      "... storing 'Cluster' as categorical\n",
      "... storing 'Subcluster' as categorical\n",
      "... storing 'Layer' as categorical\n",
      "... storing 'Index' as categorical\n",
      "... storing 'Library' as categorical\n",
      "... storing 'Phase' as categorical\n"
     ]
    },
    {
     "name": "stdout",
     "output_type": "stream",
     "text": [
      "Maximum number of features: 25563\n"
     ]
    },
    {
     "data": {
      "text/plain": [
       "View of AnnData object with n_obs × n_vars = 33986 × 25563 \n",
       "    obs: 'Cell', 'Cluster', 'Subcluster', 'Donor', 'Layer', 'Gestation_week', 'Index', 'Library', 'Number_genes_detected', 'Number_UMI', 'Percentage_mitochondrial', 'S_phase_score', 'G2M_phase_score', 'Phase'\n",
       "    var: 0\n",
       "    uns: 'rank_genes_groups'"
      ]
     },
     "execution_count": 8,
     "metadata": {},
     "output_type": "execute_result"
    }
   ],
   "source": [
    "test1 = selectFeatures(adata, 'Cluster', n_features = 30000)\n",
    "test1"
   ]
  },
  {
   "cell_type": "code",
   "execution_count": 9,
   "metadata": {},
   "outputs": [
    {
     "name": "stdout",
     "output_type": "stream",
     "text": [
      "Using existing ranked genes...\n"
     ]
    },
    {
     "data": {
      "text/plain": [
       "View of AnnData object with n_obs × n_vars = 33986 × 3000 \n",
       "    obs: 'Cell', 'Cluster', 'Subcluster', 'Donor', 'Layer', 'Gestation_week', 'Index', 'Library', 'Number_genes_detected', 'Number_UMI', 'Percentage_mitochondrial', 'S_phase_score', 'G2M_phase_score', 'Phase'\n",
       "    var: 0\n",
       "    uns: 'rank_genes_groups'"
      ]
     },
     "execution_count": 9,
     "metadata": {},
     "output_type": "execute_result"
    }
   ],
   "source": [
    "test2 = selectFeatures(adata, 'Cluster', n_features = 3000)\n",
    "test2"
   ]
  }
 ],
 "metadata": {
  "kernelspec": {
   "display_name": "Python (cellpymc)",
   "language": "python",
   "name": "cellpymc"
  },
  "language_info": {
   "codemirror_mode": {
    "name": "ipython",
    "version": 3
   },
   "file_extension": ".py",
   "mimetype": "text/x-python",
   "name": "python",
   "nbconvert_exporter": "python",
   "pygments_lexer": "ipython3",
   "version": "3.7.6"
  }
 },
 "nbformat": 4,
 "nbformat_minor": 4
}
